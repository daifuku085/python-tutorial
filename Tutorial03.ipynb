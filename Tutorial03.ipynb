{
  "nbformat": 4,
  "nbformat_minor": 0,
  "metadata": {
    "colab": {
      "name": "Tutorial03.ipynb",
      "provenance": [],
      "collapsed_sections": [
        "_S-UjogbC3z6",
        "J_OPd7fGjECg"
      ],
      "authorship_tag": "ABX9TyPfpk5AmX0HSvJyl3EKuwvK",
      "include_colab_link": true
    },
    "kernelspec": {
      "name": "python3",
      "display_name": "Python 3"
    }
  },
  "cells": [
    {
      "cell_type": "markdown",
      "metadata": {
        "id": "view-in-github",
        "colab_type": "text"
      },
      "source": [
        "<a href=\"https://colab.research.google.com/github/daifuku085/python-tutorial/blob/main/Tutorial03.ipynb\" target=\"_parent\"><img src=\"https://colab.research.google.com/assets/colab-badge.svg\" alt=\"Open In Colab\"/></a>"
      ]
    },
    {
      "cell_type": "markdown",
      "metadata": {
        "id": "GIu5okZ5Chy5"
      },
      "source": [
        "# 3. 形式ばらない Python の紹介\n",
        "\n",
        "以下のサンプルでは、入力と出力はプロンプト ([```>>>```](https://docs.python.org/ja/3/glossary.html#term-0) や [```...```](https://docs.python.org/ja/3/glossary.html#term-1)) の有無で区別します: 例を実際に試す場合は、プロンプトが表示されているときに、サンプル中のプロンプトから後ろの内容全てを入力します。\n",
        "\n",
        "このマニュアルにあるサンプルの多くは、対話プロンプトで入力されるものでもコメントを含んでいます。 Python におけるコメント文は、ハッシュ文字 ```#``` で始まり、物理行の終わりまで続きます。コメントは行の先頭にも、空白やコードの後にも書くことができますが、文字列リテラルの内部に置くことはできません。文字列リテラル中のハッシュ文字はただのハッシュ文字です。コメントはコードを明快にするためのものであり、Pythonはコメントを解釈しません。なので、サンプルコードを実際に入力して試して見るときは、コメントを省いても大丈夫です。\n",
        "\n",
        "いくつかの例です:"
      ]
    },
    {
      "cell_type": "code",
      "metadata": {
        "id": "WYnVslfuC1Z5"
      },
      "source": [
        "# this is the first comment\n",
        "spam = 1  # and this is the second comment\n",
        "          # ... and now a third!\n",
        "text = \"# This is not a comment because it's inside quotes.\""
      ],
      "execution_count": null,
      "outputs": []
    },
    {
      "cell_type": "markdown",
      "metadata": {
        "id": "_S-UjogbC3z6"
      },
      "source": [
        "## 3.1. Python を電卓として使う\n",
        "\n",
        "それでは、簡単な Python コマンドをいくつか試してみましょう。インタプリタを起動して、一次プロンプト、 ```>>>``` が現れるのを待ちます。 (そう長くはかからないはずです)"
      ]
    },
    {
      "cell_type": "markdown",
      "metadata": {
        "id": "rJ6sxEzAYDQb"
      },
      "source": [
        "### 3.1.1. 数\n",
        "\n",
        "インタプリタは、簡単な電卓のように動作します: 式を入力すると、その結果が表示されます。式の文法は素直なものです: 演算子 ```+```, ```-```, ```*```, ```/``` は (Pascal や C といった) 他のほとんどの言語と同じように動作します; 丸括弧 (```()```) をグループ化に使うこともできます。例えば:"
      ]
    },
    {
      "cell_type": "code",
      "metadata": {
        "id": "2W5A5hi-DKat"
      },
      "source": [
        "2 + 2"
      ],
      "execution_count": null,
      "outputs": []
    },
    {
      "cell_type": "code",
      "metadata": {
        "id": "k14VcagxDZvP"
      },
      "source": [
        "50 - 5*6"
      ],
      "execution_count": null,
      "outputs": []
    },
    {
      "cell_type": "code",
      "metadata": {
        "id": "2cZsJ87dDZ6R"
      },
      "source": [
        "(50 - 5*6) / 4"
      ],
      "execution_count": null,
      "outputs": []
    },
    {
      "cell_type": "code",
      "metadata": {
        "id": "o0sSvUklDaGJ"
      },
      "source": [
        "8 / 5  # division always returns a floating point number"
      ],
      "execution_count": null,
      "outputs": []
    },
    {
      "cell_type": "markdown",
      "metadata": {
        "id": "mT4Yv-juDh3d"
      },
      "source": [
        "整数 (例えば、 ```2``` 、 ```4``` 、 ```20```) は [int](https://docs.python.org/ja/3/library/functions.html#int) 型であり、小数部を持つ数 (例えば、 ```5.0``` 、 ```1.6```) は [float](https://docs.python.org/ja/3/library/functions.html#float) 型です。数値型については後のチュートリアルでさらに見ていきます。\n",
        "\n",
        "除算 (```/```) は常に浮動小数点数を返します。 ```//``` 演算子は 整数除算 を行い、(小数部を切り捨てた) 整数値を返します; 剰余は、```%``` で求めます。:"
      ]
    },
    {
      "cell_type": "code",
      "metadata": {
        "id": "AXD65fzWDyWX"
      },
      "source": [
        "17 / 3  # classic division returns a float"
      ],
      "execution_count": null,
      "outputs": []
    },
    {
      "cell_type": "code",
      "metadata": {
        "id": "PdCrdp58D1EK"
      },
      "source": [
        "17 // 3  # floor division discards the fractional part"
      ],
      "execution_count": null,
      "outputs": []
    },
    {
      "cell_type": "code",
      "metadata": {
        "id": "uhsySuN0D5X6"
      },
      "source": [
        "17 % 3  # the % operator returns the remainder of the division"
      ],
      "execution_count": null,
      "outputs": []
    },
    {
      "cell_type": "code",
      "metadata": {
        "id": "jdezdsgMD62z"
      },
      "source": [
        "5 * 3 + 2  # result * divisor + remainder"
      ],
      "execution_count": null,
      "outputs": []
    },
    {
      "cell_type": "markdown",
      "metadata": {
        "id": "4g4DZErFD87X"
      },
      "source": [
        "Python では、冪乗を計算するのに ```**``` 演算子が使えます [[1]](#id3):"
      ]
    },
    {
      "cell_type": "code",
      "metadata": {
        "id": "4oA9sw6dEC8i"
      },
      "source": [
        "5 ** 2  # 5 squared"
      ],
      "execution_count": null,
      "outputs": []
    },
    {
      "cell_type": "code",
      "metadata": {
        "id": "Lm07G9ziEFJ7"
      },
      "source": [
        "2 ** 7  # 2 to the power of 7"
      ],
      "execution_count": null,
      "outputs": []
    },
    {
      "cell_type": "markdown",
      "metadata": {
        "id": "qXxZ6ZCREGrh"
      },
      "source": [
        "等号 (```=```) は変数に値を代入するときに使います。代入を行っても、結果は出力されず、次の入力プロンプトが表示されます。:"
      ]
    },
    {
      "cell_type": "code",
      "metadata": {
        "id": "YR0StVy8EKWo"
      },
      "source": [
        " width = 20\n",
        " height = 5 * 9\n",
        " width * height"
      ],
      "execution_count": null,
      "outputs": []
    },
    {
      "cell_type": "markdown",
      "metadata": {
        "id": "W_1CSq9wEQPx"
      },
      "source": [
        "変数が \"定義\" されていない (つまり値が代入されていない) 場合、その変数を使おうとするとエラーが発生します:"
      ]
    },
    {
      "cell_type": "code",
      "metadata": {
        "id": "lkIQWBMTYSY8"
      },
      "source": [
        "n  # try to access an undefined variable"
      ],
      "execution_count": null,
      "outputs": []
    },
    {
      "cell_type": "markdown",
      "metadata": {
        "id": "xGmpb72JEVo6"
      },
      "source": [
        "浮動小数点を完全にサポートしています。演算対象の値(オペランド)に複数の型が入り混じっている場合、演算子は整数のオペランドを浮動小数点型に変換します:"
      ]
    },
    {
      "cell_type": "code",
      "metadata": {
        "id": "d-JiQavhEXOr"
      },
      "source": [
        "4 * 3.75 - 1"
      ],
      "execution_count": null,
      "outputs": []
    },
    {
      "cell_type": "markdown",
      "metadata": {
        "id": "D6tG7RwxEaMn"
      },
      "source": [
        "対話モードでは、最後に表示された結果は変数 ```_``` に代入されます。このことを利用すると、Python を電卓として使うときに、計算を連続して行う作業が多少楽になります。以下に例を示します:"
      ]
    },
    {
      "cell_type": "code",
      "metadata": {
        "id": "VouEfKVHEeLy"
      },
      "source": [
        "tax = 12.5 / 100\n",
        "price = 100.50\n",
        "price * tax"
      ],
      "execution_count": null,
      "outputs": []
    },
    {
      "cell_type": "code",
      "metadata": {
        "id": "3H03lspdEkwu"
      },
      "source": [
        "price + _"
      ],
      "execution_count": null,
      "outputs": []
    },
    {
      "cell_type": "code",
      "metadata": {
        "id": "0ZHvAnvSEnrd"
      },
      "source": [
        "round(_, 2)"
      ],
      "execution_count": null,
      "outputs": []
    },
    {
      "cell_type": "markdown",
      "metadata": {
        "id": "wpckiLB2E_A3"
      },
      "source": [
        "この変数には読取りだけを行い、明示的な代入を行ってはいけません --- そんなことをすれば、同じ名前で別のローカル変数が生成され、元の特別な動作をする組み込み変数を覆い隠してしておかしなことになってしまうかもしれません。\n",
        "\n",
        "[int](https://docs.python.org/ja/3/library/functions.html#int) と [float](https://docs.python.org/ja/3/library/functions.html#float) に加え、 Python は [Decimal](https://docs.python.org/ja/3/library/decimal.html#decimal.Decimal) や [Fraction](https://docs.python.org/ja/3/library/fractions.html#fractions.Fraction) などの他の数値型もサポートしています。 [複素数](https://docs.python.org/ja/3/library/stdtypes.html#typesnumeric) も組み込み型としてサポートしており、 ```j``` もしくは ```J``` 接尾辞を使って虚部を示します (例: ```3+5j```)。"
      ]
    },
    {
      "cell_type": "markdown",
      "metadata": {
        "id": "g8fXG05qFbl_"
      },
      "source": [
        "### 3.1.2. 文字列型 (string)\n",
        "\n",
        "Python は、数だけではなく、文字列も操作できます。文字列を記述する方法は複数あり、単引用符 (```'...'```) で囲むか、もしくは二重引用符 (```\"...\"```) で囲みます。結果はどちらも同じ文字列になります。[[2]](#id4) 引用符は、```\\``` でエスケープできます。:"
      ]
    },
    {
      "cell_type": "code",
      "metadata": {
        "id": "o8YIzKB0WcSV"
      },
      "source": [
        "'spam eggs'  # single quotes"
      ],
      "execution_count": null,
      "outputs": []
    },
    {
      "cell_type": "code",
      "metadata": {
        "id": "lBTMwBz1WnLW"
      },
      "source": [
        "'doesn\\'t'  # use \\' to escape the single quote..."
      ],
      "execution_count": null,
      "outputs": []
    },
    {
      "cell_type": "code",
      "metadata": {
        "id": "H8kJePvJWn5u"
      },
      "source": [
        "\"doesn't\"  # ...or use double quotes instead"
      ],
      "execution_count": null,
      "outputs": []
    },
    {
      "cell_type": "code",
      "metadata": {
        "id": "UniAFBhBWs5U"
      },
      "source": [
        "'\"Yes,\" they said.'"
      ],
      "execution_count": null,
      "outputs": []
    },
    {
      "cell_type": "code",
      "metadata": {
        "id": "onmbvs3XWwdc"
      },
      "source": [
        "\"\\\"Yes,\\\" they said.\""
      ],
      "execution_count": null,
      "outputs": []
    },
    {
      "cell_type": "code",
      "metadata": {
        "id": "KO0C4Dy7WyIU"
      },
      "source": [
        " '\"Isn\\'t,\" they said.'"
      ],
      "execution_count": null,
      "outputs": []
    },
    {
      "cell_type": "markdown",
      "metadata": {
        "id": "jvJLQ3Y5W0Ss"
      },
      "source": [
        "対話的インタプリタが文字列を出力するとき、出力文字列は引用符に囲まれ、特殊文字はバックスラッシュでエスケープされます。出力文字が入力とは違って見える (囲っている引用符が変わる) こともありますが、その 2 つの文字列は同じ文字列です。文字列が単引用符を含み二重引用符を含まない場合、二重引用符で囲われ、それ以外の場合は単引用符で囲われます。"
      ]
    },
    {
      "cell_type": "code",
      "metadata": {
        "id": "72kZPJP8W4Vk"
      },
      "source": [
        "'\"Isn\\'t,\" they said.'"
      ],
      "execution_count": null,
      "outputs": []
    },
    {
      "cell_type": "code",
      "metadata": {
        "id": "Do82Z5bHW5lh"
      },
      "source": [
        "print('\"Isn\\'t,\" they said.')"
      ],
      "execution_count": null,
      "outputs": []
    },
    {
      "cell_type": "code",
      "metadata": {
        "id": "vWpuZ4rEW7HU"
      },
      "source": [
        "s = 'First line.\\nSecond line.'  # \\n means newline\n",
        "s  # without print(), \\n is included in the output"
      ],
      "execution_count": null,
      "outputs": []
    },
    {
      "cell_type": "code",
      "metadata": {
        "id": "wv6UVcMPXFHQ"
      },
      "source": [
        "print(s)  # with print(), \\n produces a new line"
      ],
      "execution_count": null,
      "outputs": []
    },
    {
      "cell_type": "markdown",
      "metadata": {
        "id": "knEeMtygXJO2"
      },
      "source": [
        "```\\``` に続く文字を特殊文字として解釈されたくない場合は、最初の引用符の前に ```r``` を付けた ***raw strings*** が使えます:"
      ]
    },
    {
      "cell_type": "code",
      "metadata": {
        "id": "ArjEJ2z5Hb0S"
      },
      "source": [
        "print('C:\\some\\name')  # here \\n means newline!"
      ],
      "execution_count": null,
      "outputs": []
    },
    {
      "cell_type": "code",
      "metadata": {
        "id": "Si1izUg3HdXE"
      },
      "source": [
        "print(r'C:\\some\\name')  # note the r before the quote"
      ],
      "execution_count": null,
      "outputs": []
    },
    {
      "cell_type": "markdown",
      "metadata": {
        "id": "GmsiS1NFHpbf"
      },
      "source": [
        "文字列リテラルは複数行にまたがって書けます。1 つの方法は三連引用符 (```\"\"\"...\"\"\"``` や ```'''...'''```) を使うことです。改行文字は自動的に文字列に含まれますが、行末に ```\\``` を付けることで含めないようにすることもできます。次の例:"
      ]
    },
    {
      "cell_type": "code",
      "metadata": {
        "id": "qWzb1nyIHwfV"
      },
      "source": [
        "print(\"\"\"\\\n",
        "Usage: thingy [OPTIONS]\n",
        "     -h                        Display this usage message\n",
        "     -H hostname               Hostname to connect to\n",
        "\"\"\")"
      ],
      "execution_count": null,
      "outputs": []
    },
    {
      "cell_type": "markdown",
      "metadata": {
        "id": "-2c7M2PiH2Zm"
      },
      "source": [
        "は次のような出力になります (最初の改行文字は含まれていないことに注意してください):\n",
        "```\n",
        "Usage: thingy [OPTIONS]\n",
        "     -h                        Display this usage message\n",
        "     -H hostname               Hostname to connect to\n",
        "     \n",
        "```\n",
        "文字列は ```+``` 演算子で連結させる (くっつけて一つにする) ことができ、```*``` 演算子で反復させることができます:"
      ]
    },
    {
      "cell_type": "code",
      "metadata": {
        "id": "hFaEqukKIEyd"
      },
      "source": [
        "# 3 times 'un', followed by 'ium'\n",
        "3 * 'un' + 'ium'"
      ],
      "execution_count": null,
      "outputs": []
    },
    {
      "cell_type": "markdown",
      "metadata": {
        "id": "vjs4jkwrXlGR"
      },
      "source": [
        "連続して並んでいる複数の 文字列リテラル (つまり、引用符に囲われた文字列) は、自動的に連結されます。"
      ]
    },
    {
      "cell_type": "code",
      "metadata": {
        "id": "CTxrqHOZIVo9"
      },
      "source": [
        "'Py' 'thon'"
      ],
      "execution_count": null,
      "outputs": []
    },
    {
      "cell_type": "markdown",
      "metadata": {
        "id": "ldofJCdvXoVe"
      },
      "source": [
        "この機能は、長い文字列を改行したいときにとても役に立ちます:"
      ]
    },
    {
      "cell_type": "code",
      "metadata": {
        "id": "2Y5DCKilXwLe"
      },
      "source": [
        "text = ('Put several strings within parentheses '\n",
        "        'to have them joined together.')\n",
        "text"
      ],
      "execution_count": null,
      "outputs": []
    },
    {
      "cell_type": "markdown",
      "metadata": {
        "id": "MTx_P3KMX5pa"
      },
      "source": [
        "これは 2 つのリテラルどうしに対してのみ働き、変数や式には働きません:"
      ]
    },
    {
      "cell_type": "code",
      "metadata": {
        "id": "EhjP6spYYgpS"
      },
      "source": [
        "prefix = 'Py'\n",
        "prefix 'thon'  # can't concatenate a variable and a string literal"
      ],
      "execution_count": null,
      "outputs": []
    },
    {
      "cell_type": "code",
      "metadata": {
        "id": "yt_wRy-ZYkkS"
      },
      "source": [
        "('un' * 3) 'ium'"
      ],
      "execution_count": null,
      "outputs": []
    },
    {
      "cell_type": "markdown",
      "metadata": {
        "id": "b_HQx4vDYnMr"
      },
      "source": [
        "変数どうしや変数とリテラルを連結したい場合は、```+``` を使ってください:"
      ]
    },
    {
      "cell_type": "code",
      "metadata": {
        "id": "685muiABYr48"
      },
      "source": [
        "prefix + 'thon'"
      ],
      "execution_count": null,
      "outputs": []
    },
    {
      "cell_type": "markdown",
      "metadata": {
        "id": "ceagOD1qYu1X"
      },
      "source": [
        "文字列は インデックス (添字) を指定して文字を取得できます。最初の文字のインデックスは 0 になります。文字を表す、専用のデータ型は用意されていません; 文字とは、単に長さが 1 の文字列です:"
      ]
    },
    {
      "cell_type": "code",
      "metadata": {
        "id": "2NEjKqxdYzQr"
      },
      "source": [
        "word = 'Python'\n",
        "word[0]  # character in position 0"
      ],
      "execution_count": null,
      "outputs": []
    },
    {
      "cell_type": "code",
      "metadata": {
        "id": "5z_wNH8ZY1_X"
      },
      "source": [
        "word[5]  # character in position 5"
      ],
      "execution_count": null,
      "outputs": []
    },
    {
      "cell_type": "markdown",
      "metadata": {
        "id": "ZJnbXr-RY3tc"
      },
      "source": [
        "インデックスには、負の値も指定できまます。この場合、右から数えていきます:"
      ]
    },
    {
      "cell_type": "code",
      "metadata": {
        "id": "5pahKS5aY5Oj"
      },
      "source": [
        "word[-1]  # last character"
      ],
      "execution_count": null,
      "outputs": []
    },
    {
      "cell_type": "code",
      "metadata": {
        "id": "gXmbnDnFY8jn"
      },
      "source": [
        "word[-2]  # second-last character"
      ],
      "execution_count": null,
      "outputs": []
    },
    {
      "cell_type": "code",
      "metadata": {
        "id": "g3IaUrVyY_P6"
      },
      "source": [
        "word[-6]"
      ],
      "execution_count": null,
      "outputs": []
    },
    {
      "cell_type": "markdown",
      "metadata": {
        "id": "VkiIKw4CZDmV"
      },
      "source": [
        "-0 は 0 と区別できないので、負のインデックスは -1 から始まります。\n",
        "\n",
        "インデックスに加え、スライス もサポートされています。インデックスは一文字づつ取得するのに使いますが、スライス は部分文字列を取得します:"
      ]
    },
    {
      "cell_type": "code",
      "metadata": {
        "id": "FBxY_PpZZIdA"
      },
      "source": [
        "word[0:2]  # characters from position 0 (included) to 2 (excluded)"
      ],
      "execution_count": null,
      "outputs": []
    },
    {
      "cell_type": "code",
      "metadata": {
        "id": "p_7tm-72ZJG8"
      },
      "source": [
        "word[2:5]  # characters from position 2 (included) to 5 (excluded)"
      ],
      "execution_count": null,
      "outputs": []
    },
    {
      "cell_type": "markdown",
      "metadata": {
        "id": "5wUqT-VbZLLc"
      },
      "source": [
        "開始値は常に含まれ、終了値は常に含まれないことに注意してください。なので ```s[:i] + s[i:]``` は常に ```s``` と等しくなります:"
      ]
    },
    {
      "cell_type": "code",
      "metadata": {
        "id": "Eb3d-bJ1ZRpf"
      },
      "source": [
        "word[:2] + word[2:]"
      ],
      "execution_count": null,
      "outputs": []
    },
    {
      "cell_type": "code",
      "metadata": {
        "id": "ZUgzJOucZUXD"
      },
      "source": [
        "word[:4] + word[4:]"
      ],
      "execution_count": null,
      "outputs": []
    },
    {
      "cell_type": "markdown",
      "metadata": {
        "id": "6EVTsFkCZXRe"
      },
      "source": [
        "スライスのインデックスには、便利なデフォルト値があります; 最初のインデックスを省略すると、0 と見なされます。二番め のインデックスを省略すると、スライスする文字列のサイズとみなされます。"
      ]
    },
    {
      "cell_type": "code",
      "metadata": {
        "id": "G4Yq4lDuZaEe"
      },
      "source": [
        "word[:2]   # character from the beginning to position 2 (excluded)"
      ],
      "execution_count": null,
      "outputs": []
    },
    {
      "cell_type": "code",
      "metadata": {
        "id": "Ou8MXOAhZbjc"
      },
      "source": [
        "word[4:]   # characters from position 4 (included) to the end"
      ],
      "execution_count": null,
      "outputs": []
    },
    {
      "cell_type": "code",
      "metadata": {
        "id": "c25AFW-TZjrd"
      },
      "source": [
        "word[-2:]  # characters from the second-last (included) to the end"
      ],
      "execution_count": null,
      "outputs": []
    },
    {
      "cell_type": "markdown",
      "metadata": {
        "id": "l2cJB0SVZZIr"
      },
      "source": [
        "スライスの使い方をおぼえる良い方法は、インデックスが文字と文字の あいだ *(between)* を指しており、最初の文字の左端が 0 になっていると考えることです。そうすると、 *n* 文字からなる文字列中の最後の文字の右端はインデックス *n* となります。例えばこうです:\n",
        "```\n",
        " +---+---+---+---+---+---+\n",
        " | P | y | t | h | o | n |\n",
        " +---+---+---+---+---+---+\n",
        " 0   1   2   3   4   5   6\n",
        "-6  -5  -4  -3  -2  -1\n",
        "```\n",
        "1行目の数字は文字列の 0 から 6 までのインデックスの位置を示しています; 2行目は対応する負のインデックスを示しています。*i* から *j* までのスライスは、それぞれ *i* と付いた境界から *j* と付いた境界までの全ての文字から成っています。\n",
        "\n",
        "正のインデックスの場合、スライスされたシーケンスの長さは、スライスの両端のインデックスが範囲内にあるかぎり、インデックス間の差になります。例えば、 ```word[1:3]``` の長さは 2 になります。\n",
        "\n",
        "大き過ぎるインデックスを使おうとするとエラーが発生します:"
      ]
    },
    {
      "cell_type": "code",
      "metadata": {
        "id": "rVqu9dPPaBwP"
      },
      "source": [
        "word[42]  # the word only has 6 characters"
      ],
      "execution_count": null,
      "outputs": []
    },
    {
      "cell_type": "markdown",
      "metadata": {
        "id": "3pS1Q8zjaDqW"
      },
      "source": [
        "しかし、スライスで範囲外のインデックスを使ったときは、上手く対応して扱ってくれます:"
      ]
    },
    {
      "cell_type": "code",
      "metadata": {
        "id": "wttJJFeuaGer"
      },
      "source": [
        "word[4:42]"
      ],
      "execution_count": null,
      "outputs": []
    },
    {
      "cell_type": "code",
      "metadata": {
        "id": "axb-o0siaJQY"
      },
      "source": [
        "word[42:]"
      ],
      "execution_count": null,
      "outputs": []
    },
    {
      "cell_type": "markdown",
      "metadata": {
        "id": "9rXywA6LaNQ7"
      },
      "source": [
        "Python の文字列は変更できません -- つまり [不変](https://docs.python.org/ja/3/glossary.html#term-immutable) です。従って、文字列のインデックスで指定したある場所に代入を行うとエラーが発生します:"
      ]
    },
    {
      "cell_type": "code",
      "metadata": {
        "id": "F8JP1dBAaZge"
      },
      "source": [
        "word[0] = 'J'"
      ],
      "execution_count": null,
      "outputs": []
    },
    {
      "cell_type": "code",
      "metadata": {
        "id": "3H2Fv5Sgabi7"
      },
      "source": [
        "word[2:] = 'py'"
      ],
      "execution_count": null,
      "outputs": []
    },
    {
      "cell_type": "markdown",
      "metadata": {
        "id": "BSjNrg17aVq7"
      },
      "source": [
        "元の文字列と別の文字列が必要な場合は、新しく文字列を作成してください:"
      ]
    },
    {
      "cell_type": "code",
      "metadata": {
        "id": "BWCRNdihafTt"
      },
      "source": [
        "'J' + word[1:]"
      ],
      "execution_count": null,
      "outputs": []
    },
    {
      "cell_type": "code",
      "metadata": {
        "id": "rbzzE4e7ahGa"
      },
      "source": [
        "word[:2] + 'py'"
      ],
      "execution_count": null,
      "outputs": []
    },
    {
      "cell_type": "markdown",
      "metadata": {
        "id": "CIfZntZKaipd"
      },
      "source": [
        "組込み関数 [len()](https://docs.python.org/ja/3/library/functions.html#len) は文字列の長さ (length) を返します:"
      ]
    },
    {
      "cell_type": "code",
      "metadata": {
        "id": "9SmtYVqdaphH"
      },
      "source": [
        "s = 'supercalifragilisticexpialidocious'\n",
        "len(s)"
      ],
      "execution_count": null,
      "outputs": []
    },
    {
      "cell_type": "markdown",
      "metadata": {
        "id": "sIfOWv7yar6o"
      },
      "source": [
        "**参考:**\n",
        "\n",
        "**[テキストシーケンス型 --- str](https://docs.python.org/ja/3/library/stdtypes.html#textseq)**\n",
        "\n",
        "文字列は代表的な シーケンス型 で、シーケンス型でサポートされている共通の操作をサポートしています。\n",
        "\n",
        "**[文字列メソッド](https://docs.python.org/ja/3/library/stdtypes.html#string-methods)**\n",
        "\n",
        "文字列は、基本的な変換や検索を行うための数多くのメソッドをサポートしています。\n",
        "\n",
        "**[フォーマット済み文字列リテラル](https://docs.python.org/ja/3/reference/lexical_analysis.html#f-strings)**\n",
        "\n",
        "式の埋め込みをサポートした文字列リテラル\n",
        "\n",
        "**[書式指定文字列の文法](https://docs.python.org/ja/3/library/string.html#formatstrings)**\n",
        "\n",
        "[str.format()](https://docs.python.org/ja/3/library/stdtypes.html#str.format) を使った文字列のフォーマットについての情報があります。\n",
        "\n",
        "**[printf 形式の文字列書式化](https://docs.python.org/ja/3/library/stdtypes.html#old-string-formatting)**\n",
        "\n",
        "文字列が ```%``` 演算子の左オペランドである場合に呼び出される古いフォーマット操作について、詳しく記述されています。"
      ]
    },
    {
      "cell_type": "markdown",
      "metadata": {
        "id": "fRG1-Q71eaIW"
      },
      "source": [
        "### 3.1.3. リスト型 (list)\n",
        "\n",
        "Pythonは多くの 複合 *(compound)* データ型を備えており、複数の値をまとめるのに使われます。最も汎用性が高いのは リスト *(list)* で、コンマ区切りの値 (要素) の並びを角括弧で囲んだものとして書き表されます。リストは異なる型の要素を含むこともありますが、通常は同じ型の要素のみを持ちます。"
      ]
    },
    {
      "cell_type": "code",
      "metadata": {
        "id": "Aw8zhc-Jeij-"
      },
      "source": [
        "squares = [1, 4, 9, 16, 25]\n",
        "squares"
      ],
      "execution_count": null,
      "outputs": []
    },
    {
      "cell_type": "markdown",
      "metadata": {
        "id": "RcneNM6DhhEE"
      },
      "source": [
        "文字列 (や他の全ての組み込みの [シーケンス](https://docs.python.org/ja/3/glossary.html#term-sequence) 型) のように、リストはインデックスやスライスができます:"
      ]
    },
    {
      "cell_type": "code",
      "metadata": {
        "id": "EFqIdutnhm7j"
      },
      "source": [
        "squares[0]  # indexing returns the item"
      ],
      "execution_count": null,
      "outputs": []
    },
    {
      "cell_type": "code",
      "metadata": {
        "id": "svAE6Swdhodc"
      },
      "source": [
        "squares[-1]"
      ],
      "execution_count": null,
      "outputs": []
    },
    {
      "cell_type": "code",
      "metadata": {
        "id": "rUVVEYO1hqw5"
      },
      "source": [
        "squares[-3:]  # slicing returns a new list"
      ],
      "execution_count": null,
      "outputs": []
    },
    {
      "cell_type": "markdown",
      "metadata": {
        "id": "yTo-U-9mh00q"
      },
      "source": [
        "全てのスライス操作は、指定された要素を含む新しいリストを返します。例えば、次のスライスは、リストの [浅いコピー](https://docs.python.org/ja/3/library/copy.html#shallow-vs-deep-copy) を返します。:"
      ]
    },
    {
      "cell_type": "code",
      "metadata": {
        "id": "AC_IBYxOh495"
      },
      "source": [
        "squares[:]"
      ],
      "execution_count": null,
      "outputs": []
    },
    {
      "cell_type": "markdown",
      "metadata": {
        "id": "CMUnbA3qh7Xh"
      },
      "source": [
        "リストは、リストの連結などもサポートしています:"
      ]
    },
    {
      "cell_type": "code",
      "metadata": {
        "id": "1hjez3Mhh_hb"
      },
      "source": [
        "squares + [36, 49, 64, 81, 100]"
      ],
      "execution_count": null,
      "outputs": []
    },
    {
      "cell_type": "markdown",
      "metadata": {
        "id": "xAfbBeNPiAVX"
      },
      "source": [
        "[不変](https://docs.python.org/ja/3/glossary.html#term-immutable) な文字列とは違って、リストは [可変](https://docs.python.org/ja/3/glossary.html#term-mutable) 型ですので、要素を入れ替えられます:"
      ]
    },
    {
      "cell_type": "code",
      "metadata": {
        "id": "UJ_SAiJniKtJ"
      },
      "source": [
        "cubes = [1, 8, 27, 65, 125]  # something's wrong here"
      ],
      "execution_count": null,
      "outputs": []
    },
    {
      "cell_type": "code",
      "metadata": {
        "id": "OsJw4jqV1VFX"
      },
      "source": [
        "4 ** 3  # the cube of 4 is 64, not 65!"
      ],
      "execution_count": null,
      "outputs": []
    },
    {
      "cell_type": "code",
      "metadata": {
        "id": "h-KFpPbviRHj"
      },
      "source": [
        "cubes[3] = 64  # replace the wrong value\n",
        "cubes"
      ],
      "execution_count": null,
      "outputs": []
    },
    {
      "cell_type": "markdown",
      "metadata": {
        "id": "EgqdoiPfib75"
      },
      "source": [
        "append() を使って、リストの末尾に新しい要素を追加できます (このメソッドについては後で詳しく見ていきます):"
      ]
    },
    {
      "cell_type": "code",
      "metadata": {
        "id": "JYj2N-8AidDh"
      },
      "source": [
        "cubes.append(216)  # add the cube of 6\n",
        "cubes.append(7 ** 3)  # and the cube of 7\n",
        "cubes"
      ],
      "execution_count": null,
      "outputs": []
    },
    {
      "cell_type": "markdown",
      "metadata": {
        "id": "ChF3id-hiiUI"
      },
      "source": [
        "スライスには、代入もできます。スライスの代入で、リストのサイズを変更したり、全てを削除したりもできます:"
      ]
    },
    {
      "cell_type": "code",
      "metadata": {
        "id": "alphSpY5ij7c"
      },
      "source": [
        "letters = ['a', 'b', 'c', 'd', 'e', 'f', 'g']\n",
        "letters"
      ],
      "execution_count": null,
      "outputs": []
    },
    {
      "cell_type": "code",
      "metadata": {
        "id": "Be9ghCm7imX6"
      },
      "source": [
        "# replace some values\n",
        "letters[2:5] = ['C', 'D', 'E']\n",
        "letters"
      ],
      "execution_count": null,
      "outputs": []
    },
    {
      "cell_type": "code",
      "metadata": {
        "id": "MikKOgkTipqk"
      },
      "source": [
        "# now remove them\n",
        "letters[2:5] = []\n",
        "letters"
      ],
      "execution_count": null,
      "outputs": []
    },
    {
      "cell_type": "code",
      "metadata": {
        "id": "1FdOokYzivin"
      },
      "source": [
        "# clear the list by replacing all the elements with an empty list\n",
        "letters[:] = []\n",
        "letters"
      ],
      "execution_count": null,
      "outputs": []
    },
    {
      "cell_type": "markdown",
      "metadata": {
        "id": "H0Yb6HcliyjU"
      },
      "source": [
        "組込み関数 [len()](https://docs.python.org/ja/3/library/functions.html#len) はリストにも使えます:"
      ]
    },
    {
      "cell_type": "code",
      "metadata": {
        "id": "xJ-GEiFTi3hf"
      },
      "source": [
        "letters = ['a', 'b', 'c', 'd']\n",
        "len(letters)"
      ],
      "execution_count": null,
      "outputs": []
    },
    {
      "cell_type": "markdown",
      "metadata": {
        "id": "1N3NzNJAi6qL"
      },
      "source": [
        "リストを入れ子 (ほかのリストを含むリストを造る) にできます。例えば:"
      ]
    },
    {
      "cell_type": "code",
      "metadata": {
        "id": "JtgCRnAvi_aZ"
      },
      "source": [
        "a = ['a', 'b', 'c']\n",
        "n = [1, 2, 3]\n",
        "x = [a, n]\n",
        "x"
      ],
      "execution_count": null,
      "outputs": []
    },
    {
      "cell_type": "markdown",
      "metadata": {
        "id": "J_OPd7fGjECg"
      },
      "source": [
        "## 3.2. プログラミングへの第一歩\n",
        "\n",
        "もちろん、2 たす 2 よりももっと複雑な課題にも Python を使えます。 例えば、[Fibonacci 数列](https://ja.wikipedia.org/wiki/%E3%83%95%E3%82%A3%E3%83%9C%E3%83%8A%E3%83%83%E3%83%81%E6%95%B0) の先頭の部分列は次のように書けます:"
      ]
    },
    {
      "cell_type": "code",
      "metadata": {
        "id": "U0Oxjyr5jOko"
      },
      "source": [
        "# Fibonacci series:\n",
        "# the sum of two elements defines the next\n",
        "a, b = 0, 1\n",
        "while a < 10:\n",
        "    print(a)\n",
        "    a, b = b, a+b"
      ],
      "execution_count": null,
      "outputs": []
    },
    {
      "cell_type": "markdown",
      "metadata": {
        "id": "BVkCQ8Iujay_"
      },
      "source": [
        "上の例では、いくつか新しい機能を使用しています。\n",
        "\n",
        "- 最初の行には 複数同時の代入 *(multiple assignment)* が入っています: 変数 ```a``` と ```b``` は、それぞれ同時に新しい値 0 と 1 になっています。この代入は、最後の行でも使われています。代入文では、まず右辺の式がすべて評価され、次に代入が行われます。右辺の式は、左から右へと順番に評価されます。\n",
        "\n",
        "- [while](https://docs.python.org/ja/3/reference/compound_stmts.html#while) は、条件 (ここでは \\`\\` a < 10\\`\\`) が真である限り実行を繰り返し (ループし) ます。Python では、C 言語と同様に、ゼロでない整数値は真となり、ゼロは偽です。条件式には、文字列値やリスト値なども使えます。それ以外のシーケンスも、条件式として使用できます。長さが 1 以上のシーケンスは真で、空のシーケンスは偽になります。サンプルで使われている条件テストはシンプルな比較です。標準的な比較演算子は C 言語と同様です: すなわち、 ```<``` (より小さい)、 ```>``` (より大きい)、 ```==``` (等しい)、 ```<=``` (より小さいか等しい)、 ```>=``` (より大きいか等しい)、および ```!=``` (等しくない)、です。\n",
        "\n",
        "- ループの 本体 *(body)* は、 インデント *(indent,* 字下げ*)* されています: インデントは Python において、実行文をグループにまとめる方法です。対話的プロンプトでは、インデントされた各行を入力するにはタブや (複数個の) スペースを使わなければなりません。実用的には、もっと複雑な処理を入力する場合はテキストエディタを使うことになるでしょう。 ほとんどのテキストエディタは、自動インデント機能を持っています。複合文を対話的に入力するときには、入力完了のしるしとして最後に空行を入力します。これは、パーザはどれが最後の行を入力なのか、判断できないためです。基本的なブロック内では、全ての行は同じだけインデントされていなければならないので注意してください。\n",
        "\n",
        "- [print()](https://docs.python.org/ja/3/library/functions.html#print) 関数は、与えられた引数の値を書き出します。これは (前に電卓の例でやったような) 単に出力したい式を書くのとは、複数の引数や浮動小数点量や文字列に対する扱い方が違います。[print()](https://docs.python.org/ja/3/library/functions.html#print) 関数では、文字列は引用符無しで出力され、要素の間に空白が挿入されて、このように出力の書式が整えられます:"
      ]
    },
    {
      "cell_type": "code",
      "metadata": {
        "id": "6DGDdgfIjW7b"
      },
      "source": [
        "i = 256*256\n",
        "print('The value of i is', i)"
      ],
      "execution_count": null,
      "outputs": []
    },
    {
      "cell_type": "markdown",
      "metadata": {
        "id": "vmwJKEr8kkcy"
      },
      "source": [
        "キーワード引数 end を使うと、出力の末尾に改行文字を出力しないようにしたり、別の文字列を末尾に出力したりできます:"
      ]
    },
    {
      "cell_type": "code",
      "metadata": {
        "id": "nOysfHyKkm91"
      },
      "source": [
        "a, b = 0, 1\n",
        "while a < 1000:\n",
        "    print(a, end=',')\n",
        "    a, b = b, a+b\n",
        "    "
      ],
      "execution_count": null,
      "outputs": []
    },
    {
      "cell_type": "markdown",
      "metadata": {
        "id": "qV1NtgQGkx19"
      },
      "source": [
        "## **脚注**\n",
        "\n",
        "[[1]]() ```**``` は ```-``` より優先順位が高いので、```-3**2``` は ```-(3**2)``` と解釈され、計算結果は ```-9``` になります。これを避けて ```9``` を得たければ、```(-3)**2``` と書きます。\n",
        "\n",
        "[[2]]() 他の言語と違って、```\\n``` のような特殊文字は、単引用符 (```'...'```) と二重引用符 (```\"...\"```) で同じ意味を持ちます。両者の唯一の違いは、単引用符で囲われた箇所では ```\"``` をエスケープする必要がない (ただし ```\\'``` はエスケープする必要がある) ことで、逆もまた同様です。"
      ]
    }
  ]
}