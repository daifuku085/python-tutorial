{
  "nbformat": 4,
  "nbformat_minor": 0,
  "metadata": {
    "colab": {
      "name": "02_Python基礎の基礎.ipynb",
      "provenance": [],
      "toc_visible": true,
      "authorship_tag": "ABX9TyO9KplPxc1xCA8WojnynJ+n",
      "include_colab_link": true
    },
    "kernelspec": {
      "name": "python3",
      "display_name": "Python 3"
    }
  },
  "cells": [
    {
      "cell_type": "markdown",
      "metadata": {
        "id": "view-in-github",
        "colab_type": "text"
      },
      "source": [
        "<a href=\"https://colab.research.google.com/github/daifuku085/python-tutorial/blob/main/02_Python%E5%9F%BA%E7%A4%8E%E3%81%AE%E5%9F%BA%E7%A4%8E.ipynb\" target=\"_parent\"><img src=\"https://colab.research.google.com/assets/colab-badge.svg\" alt=\"Open In Colab\"/></a>"
      ]
    },
    {
      "cell_type": "markdown",
      "metadata": {
        "id": "IG2Mxo2S8LaG"
      },
      "source": [
        "# **Python基礎の基礎**"
      ]
    },
    {
      "cell_type": "markdown",
      "metadata": {
        "id": "W8LnsKSc8OjT"
      },
      "source": [
        "## **れんしゅうもんだい**"
      ]
    },
    {
      "cell_type": "markdown",
      "metadata": {
        "id": "tftGsbb_8Rr5"
      },
      "source": [
        "はじめてのPython では、```1+1``` という計算を実行しましたが、こんどはもうちょっとだけ複雑な計算をしてみます。\n",
        "\n",
        "例として、こんな問題を考えてみましょう。\n",
        "\n",
        "> ”太郎くんは、一つ100円のももを5つ、一つ40円のみかんを8つ買いました。全部でいくらになったでしょう？”\n",
        "\n",
        "Pythonの式は、小学校で習った計算式とだいたい同じですが、掛け算の記号として ```×``` ではなく ```*``` を使います。"
      ]
    },
    {
      "cell_type": "markdown",
      "metadata": {
        "id": "32rCSnP68sNp"
      },
      "source": [
        "さっそく Google Colaboratory のノートブックを開いて、次のように式を入力して計算してみましょう。\n",
        "\n",
        "```\n",
        ">>> 100 * 5 + 40 * 8\n",
        "```"
      ]
    },
    {
      "cell_type": "code",
      "metadata": {
        "id": "3I7hinNs80Ne"
      },
      "source": [
        ""
      ],
      "execution_count": null,
      "outputs": []
    },
    {
      "cell_type": "markdown",
      "metadata": {
        "id": "rN4RtoCr84aJ"
      },
      "source": [
        "「 >>> 」 という記号は、「ここの部分は Colab に入力して実行してください。」というマークです。プログラムの一部ではありませんから、入力しないでください。\n",
        "\n",
        "答えは820円となりました。かんたんですね。かっこも使えますから、式を囲って少し見やすくしてみましょう\n",
        "\n",
        "```\n",
        ">>> (100 * 5) + (40 * 8)\n",
        "```"
      ]
    },
    {
      "cell_type": "code",
      "metadata": {
        "id": "WHZ_cpaR8_oI"
      },
      "source": [
        ""
      ],
      "execution_count": null,
      "outputs": []
    },
    {
      "cell_type": "markdown",
      "metadata": {
        "id": "Eqy4dzqR9BB4"
      },
      "source": [
        "## **整数と実数**"
      ]
    },
    {
      "cell_type": "markdown",
      "metadata": {
        "id": "h33TmM6s9D3K"
      },
      "source": [
        "Pythonでは、学校で習った算数と良く似た形式で四則演算を行えます。\n",
        "\n",
        "| 演算   | 式    |\n",
        "| ------ | ----- |\n",
        "| 足し算 | a + b |\n",
        "| 引き算 | a - b |\n",
        "| かけ算 | a * b |\n",
        "| 割り算 | a / b |\n",
        "| 余り   | a % b |\n",
        "| べき乗 | a ** b |\n"
      ]
    },
    {
      "cell_type": "markdown",
      "metadata": {
        "id": "YobUEwpQ9_OQ"
      },
      "source": [
        "かけ算と割り算の記号が ```×``` と ```÷``` ではありませんが、この書き方に慣れてください。"
      ]
    },
    {
      "cell_type": "code",
      "metadata": {
        "id": "TBAbWr1H9tkq"
      },
      "source": [
        "10 * 20"
      ],
      "execution_count": null,
      "outputs": []
    },
    {
      "cell_type": "markdown",
      "metadata": {
        "id": "x_QhZqfO90on"
      },
      "source": [
        "```a % b``` という式は、 ```a``` を ```b``` で割った余りを求めます。"
      ]
    },
    {
      "cell_type": "code",
      "metadata": {
        "id": "r5cxGATj95Mm"
      },
      "source": [
        "5 % 3"
      ],
      "execution_count": null,
      "outputs": []
    },
    {
      "cell_type": "code",
      "metadata": {
        "id": "AY4UiR-6-mvG"
      },
      "source": [
        "10 % 2"
      ],
      "execution_count": null,
      "outputs": []
    },
    {
      "cell_type": "markdown",
      "metadata": {
        "id": "GZP-E20n-pzV"
      },
      "source": [
        "負の値は、数字の前に ```-```(マイナス)記号を付けて記述します。"
      ]
    },
    {
      "cell_type": "code",
      "metadata": {
        "id": "gKs6Nhox-r84"
      },
      "source": [
        "-100"
      ],
      "execution_count": null,
      "outputs": []
    },
    {
      "cell_type": "markdown",
      "metadata": {
        "id": "Zepkcvtq-tVX"
      },
      "source": [
        "次の式は正の ```100``` と ```-99``` の足し算です。"
      ]
    },
    {
      "cell_type": "code",
      "metadata": {
        "id": "oSdBaQY5-wx1"
      },
      "source": [
        "100 + -99"
      ],
      "execution_count": null,
      "outputs": []
    },
    {
      "cell_type": "markdown",
      "metadata": {
        "id": "ZjPpAPBE-yQl"
      },
      "source": [
        "正しく計算できますが、ちょっと見にくいですね。こういうときは、かっこを付けて"
      ]
    },
    {
      "cell_type": "code",
      "metadata": {
        "id": "kCkhLf90-0Te"
      },
      "source": [
        "100 + (-99)"
      ],
      "execution_count": null,
      "outputs": []
    },
    {
      "cell_type": "markdown",
      "metadata": {
        "id": "UCsmCfMq-1w-"
      },
      "source": [
        "と書くようにすると、間違いにくくなります。"
      ]
    },
    {
      "cell_type": "markdown",
      "metadata": {
        "id": "uSh6fgWg-3Z2"
      },
      "source": [
        "```a ** b``` は、 a^b （a の b乗） を計算します。"
      ]
    },
    {
      "cell_type": "code",
      "metadata": {
        "id": "8L5p8zFD_tSU"
      },
      "source": [
        "10 ** 3"
      ],
      "execution_count": null,
      "outputs": []
    },
    {
      "cell_type": "markdown",
      "metadata": {
        "id": "KUO9EFmK_u5U"
      },
      "source": [
        "### **実数**"
      ]
    },
    {
      "cell_type": "markdown",
      "metadata": {
        "id": "8-KxS3bH_3LM"
      },
      "source": [
        "実数\n",
        "これまでに出てきた数字は、すべて ```1```, ```2```, ```3```, ... のような整数ばかりでした。\n",
        "\n",
        "整数ではなく、```1.5```のような実数を使う時は、普通の数字とおなじように ```.``` をつけて記述します。"
      ]
    },
    {
      "cell_type": "code",
      "metadata": {
        "id": "2iAPlUUu_2eE"
      },
      "source": [
        "0.1"
      ],
      "execution_count": null,
      "outputs": []
    },
    {
      "cell_type": "markdown",
      "metadata": {
        "id": "mr2d6fXxAAJ2"
      },
      "source": [
        "Pythonでは、実数は **浮動小数点数(floating point number)** という形式で、 **float型** と呼ばれます。\n",
        "\n",
        "小数点以下が ```0``` でも、```.``` がついていれば整数ではなく float型です。"
      ]
    },
    {
      "cell_type": "code",
      "metadata": {
        "id": "fOyk7JRfAHTm"
      },
      "source": [
        "100.0"
      ],
      "execution_count": null,
      "outputs": []
    },
    {
      "cell_type": "markdown",
      "metadata": {
        "id": "KHtYGmHgAKb8"
      },
      "source": [
        "### **整数とfloat型**"
      ]
    },
    {
      "cell_type": "markdown",
      "metadata": {
        "id": "5A0D5mslAN0z"
      },
      "source": [
        "整数の値と整数の値を演算すると、結果は整数になります。"
      ]
    },
    {
      "cell_type": "code",
      "metadata": {
        "id": "PklTK67AAPgA"
      },
      "source": [
        "10 + 20"
      ],
      "execution_count": null,
      "outputs": []
    },
    {
      "cell_type": "markdown",
      "metadata": {
        "id": "iF4dPk-FAQ7k"
      },
      "source": [
        "整数とfloat型の値を演算すると、結果はfloat型になります。"
      ]
    },
    {
      "cell_type": "code",
      "metadata": {
        "id": "Frbb80KrATWm"
      },
      "source": [
        "10 + 20.0"
      ],
      "execution_count": null,
      "outputs": []
    },
    {
      "cell_type": "markdown",
      "metadata": {
        "id": "tjhQ4BllAVSA"
      },
      "source": [
        "割り算の結果は、整数同士の割り算でも、float型になります。"
      ]
    },
    {
      "cell_type": "code",
      "metadata": {
        "id": "Xi_OGiU2AWlb"
      },
      "source": [
        "2 / 3"
      ],
      "execution_count": null,
      "outputs": []
    },
    {
      "cell_type": "markdown",
      "metadata": {
        "id": "I6kJB4VyAYPK"
      },
      "source": [
        "```3 / 3``` のように割り切れる場合でも、答えは整数の ```1``` ではなく、小数点以下が ```0``` のfloat型になります。"
      ]
    },
    {
      "cell_type": "code",
      "metadata": {
        "id": "U0ApWiQ0BCpj"
      },
      "source": [
        "3 / 3"
      ],
      "execution_count": null,
      "outputs": []
    },
    {
      "cell_type": "markdown",
      "metadata": {
        "id": "uO3SygBbBjfn"
      },
      "source": [
        "## **変数**"
      ]
    },
    {
      "cell_type": "markdown",
      "metadata": {
        "id": "mJYhelgGBlhA"
      },
      "source": [
        "太郎君は、さらに買い物を続けます。\n",
        "\n",
        "> ”太郎くんは、一つ100円のももを5つ、一つ40円のみかんを8つ、80円のなしを5つ、60円のキウィを10、 90円のスイカを20、110円のかきを10買いました。全部でいくらになったでしょう？”\n",
        "\n",
        "先ほどとおなじように、式を書いて計算してみましょう。"
      ]
    },
    {
      "cell_type": "code",
      "metadata": {
        "id": "1XeLaSYPBsX-"
      },
      "source": [
        "(100 * 5) + (40 * 8) + (80 * 5) + (60 * 9) + (90 * 20) + (100 + 10)"
      ],
      "execution_count": null,
      "outputs": []
    },
    {
      "cell_type": "markdown",
      "metadata": {
        "id": "Ve1sIb2hBrIc"
      },
      "source": [
        "しかし、 3670円は正解ではないようです。どこか間違えてしまったようですね。どこが違うか、わかるでしょうか？\n",
        "こういう式を書く時は、数字と演算子だけを一行に並べてしまうと、間違えやすいものです。Pythonでは、計算の結果に名前をつけて参照できます。名前をつけるときは、 ```=``` 記号を使って、次の形式で記述します。\n",
        "\n",
        "```\n",
        "名前 = 式\n",
        "```\n",
        "\n",
        "この名前のことは **変数** といい、```=``` を使った行を **代入文** といいます。\n"
      ]
    },
    {
      "cell_type": "markdown",
      "metadata": {
        "id": "mRBolWNuCZDB"
      },
      "source": [
        "次の例は、```50``` という値に、```variable``` という名前をつけています。\n",
        "\n",
        "```\n",
        "variable = 50\n",
        "```\n",
        "\n",
        "値を代入した変数は、その値とおなじように使えます。\n",
        "\n",
        "```\n",
        "50 + 1\n",
        "```\n",
        "と書いても、\n",
        "\n",
        "```\n",
        "variable = 50\n",
        "variable + 1\n",
        "```\n",
        "\n",
        "と書いても、まったく同じ計算が行われます。\n",
        "\n",
        "一度設定した変数は、おなじセルだけではなく、別のセルでも参照できますので試してみてください。"
      ]
    },
    {
      "cell_type": "markdown",
      "metadata": {
        "id": "m9Eln10_B_44"
      },
      "source": [
        "この機能を使って、先程の式をわかりやすく整理してみましょう。"
      ]
    },
    {
      "cell_type": "code",
      "metadata": {
        "id": "FB0JgRgBB8v9"
      },
      "source": [
        "momo = 100 * 5\n",
        "mikan = 40 * 8\n",
        "nashi = 80 * 5\n",
        "kiwi = 60 * 9\n",
        "suika = 90 * 20\n",
        "kaki = 100 + 10\n",
        "\n",
        "momo + mikan + nashi + kiwi + suika + kaki"
      ],
      "execution_count": null,
      "outputs": []
    },
    {
      "cell_type": "markdown",
      "metadata": {
        "id": "w0Brv3hYCyEE"
      },
      "source": [
        "こんどは、果物ごとに行を分け、それぞれの金額を計算して別々の **変数** に **代入** しています。\n",
        "\n",
        "どちらも計算の結果は同じですが、式を分割しているので確認しやすいですね。よく見ると、次の個所が間違っています。\n",
        "\n",
        "- キウィの個数\n",
        "- 柿の計算式が掛け算ではなく足し算になってる\n",
        "\n",
        "この２箇所だけ、計算をやり直して合計値を求めてみましょう"
      ]
    },
    {
      "cell_type": "code",
      "metadata": {
        "id": "4eraIp5PC6xt"
      },
      "source": [
        "kiwi = 60 * 10\n",
        "kaki = 100 * 10\n",
        "\n",
        "momo + mikan + nashi + kiwi + suika + kaki"
      ],
      "execution_count": null,
      "outputs": []
    },
    {
      "cell_type": "markdown",
      "metadata": {
        "id": "9IvmNW4fC-hg"
      },
      "source": [
        "正解は 4620円でした。"
      ]
    },
    {
      "cell_type": "markdown",
      "metadata": {
        "id": "qyQDbq1yDAm5"
      },
      "source": [
        "### **変数名**"
      ]
    },
    {
      "cell_type": "markdown",
      "metadata": {
        "id": "4jBF3XX5DF7P"
      },
      "source": [
        "変数の名前は、なんでも良いというわけではありません。次のようなルールがあります。\n",
        "\n",
        "- アルファベットや数字などを使えます。\n",
        "- 数字から始まってはいけません。```abc123``` という変数名はOKですが、```123abc``` は数字ではじまるのでエラーとなります。\n",
        "- ```_``` 以外の、```+``` や ```-``` などの記号は使えません。\n",
        "- ```if```、```while``` などの、Python言語で使いみちが決まっている単語は使えません。\n",
        "- ルール上はひらがなや漢字なども使えますが、ちょっとわかりにくいエラーの原因になってしまうことがあります。半角のアルファベットと数字、```_``` だけを使うようにしましょう。\n",
        "\n",
        "例\n",
        "```\n",
        "variable -> OK (アルファベットのみ)\n",
        "variable_123 -> OK (アルファベットと _ と数字のみ)\n",
        "123_variable -> NG (数字で始まっている)\n",
        "vari$able -> NG (記号は変数名として使えない)\n",
        "```"
      ]
    },
    {
      "cell_type": "markdown",
      "metadata": {
        "id": "IPtjoC15Di_K"
      },
      "source": [
        "## **コメント**"
      ]
    },
    {
      "cell_type": "markdown",
      "metadata": {
        "id": "TGORIi5ODlDI"
      },
      "source": [
        "Pythonプログラムの、```#``` 記号からその行の終わりまでは **コメント** となり、どんなことを書いても、Pythonから無視されます。"
      ]
    },
    {
      "cell_type": "markdown",
      "metadata": {
        "id": "14qi_seJD1nt"
      },
      "source": [
        "次の例では、 ```1 + 2``` の後ろにある ```#``` 以降はコメントになり、好きなことを書いてもエラーにはなりません。"
      ]
    },
    {
      "cell_type": "code",
      "metadata": {
        "id": "2gpoLxpqDs1m"
      },
      "source": [
        "1 + 2 # ここはコメント"
      ],
      "execution_count": null,
      "outputs": []
    },
    {
      "cell_type": "markdown",
      "metadata": {
        "id": "akeoS-9pDwRQ"
      },
      "source": [
        "行の先頭に ```#``` を書くと、その行はすべてコメントになります。"
      ]
    },
    {
      "cell_type": "code",
      "metadata": {
        "id": "gDUIsSLVD0Ve"
      },
      "source": [
        "# この行はまるまるコメントです\n",
        "\n",
        "1 + 2 # ここもコメント"
      ],
      "execution_count": null,
      "outputs": []
    },
    {
      "cell_type": "markdown",
      "metadata": {
        "id": "6zgTFLGtD-b-"
      },
      "source": [
        "## **関数**"
      ]
    },
    {
      "cell_type": "markdown",
      "metadata": {
        "id": "WO22qcA-EBqI"
      },
      "source": [
        "Pythonには、単純な足し算や引き算以外にも、便利な機能がたくさん用意されています。そういった便利な機能の多くは、**関数** として利用できるようになっています。\n",
        "\n",
        "**関数** は、次の形式で利用します。\n",
        "\n",
        "```\n",
        "関数名(引数1, 引数2, 引数3, ...)\n",
        "```"
      ]
    },
    {
      "cell_type": "markdown",
      "metadata": {
        "id": "KF2yXTWTEmBq"
      },
      "source": [
        "関数を実行する時、必要に応じて **引数(ひきすう)** を指定します。たとえば、数値の絶対値を求める関数 ```abs()``` を利用するときには、求める対象の数値を引数として指定します。次の例では、```abs()``` に引数として数値の ```-200``` を指定しています。"
      ]
    },
    {
      "cell_type": "code",
      "metadata": {
        "id": "loFCLYh3EIj-"
      },
      "source": [
        "abs(-200)"
      ],
      "execution_count": null,
      "outputs": []
    },
    {
      "cell_type": "markdown",
      "metadata": {
        "id": "5lW-cTnBEJBK"
      },
      "source": [
        "プログラミング用語では、関数を利用することを 「関数を**呼び出す**」 と言います。また、関数を呼び出して求めた結果の値のことを、**戻り値** や **返り値** などと呼びます。\n",
        "\n",
        "上の例では、**引数** として ```-200``` を指定して関数 ```abs()``` を **呼び出し**、その **戻り値** として、```200``` を得ています。"
      ]
    },
    {
      "cell_type": "markdown",
      "metadata": {
        "id": "1gGAHSTgGOh-"
      },
      "source": [
        "### **関数と演算子**"
      ]
    },
    {
      "cell_type": "markdown",
      "metadata": {
        "id": "Mo9hDz43GTh7"
      },
      "source": [
        "関数は、 数値や ```+``` や ```-``` などの演算子とおなじように、**式** の一部として自由に使えます。 次の式は、```abs()``` の引数として ```100 + 200``` を指定し、その結果を ```2``` で割り算しています。"
      ]
    },
    {
      "cell_type": "code",
      "metadata": {
        "id": "s1Thybo9Ggwb"
      },
      "source": [
        "abs(100 + 200) / 2"
      ],
      "execution_count": null,
      "outputs": []
    },
    {
      "cell_type": "markdown",
      "metadata": {
        "id": "X7rOigOVGibV"
      },
      "source": [
        "### **関数と変数**"
      ]
    },
    {
      "cell_type": "markdown",
      "metadata": {
        "id": "iXzrWXjwGkrd"
      },
      "source": [
        "関数の引数として、**変数** も指定できます。 次の例では、\n",
        "\n",
        "1. 変数 ```minus_value``` に ```100 * -1``` の結果を代入\n",
        "2. ```minus_value``` を引数として、 ```abs()``` を呼び出す\n",
        "という処理を行っています。"
      ]
    },
    {
      "cell_type": "code",
      "metadata": {
        "id": "DsTQWNPtGtsF"
      },
      "source": [
        "minus_value = 100 * -1\n",
        "abs(minus_value)"
      ],
      "execution_count": null,
      "outputs": []
    },
    {
      "cell_type": "markdown",
      "metadata": {
        "id": "k0KhfulFGw-i"
      },
      "source": [
        "この処理は、 ```abs()``` の引数として、```100 * -1``` を指定した場合と全く同じです。"
      ]
    },
    {
      "cell_type": "code",
      "metadata": {
        "id": "ubUlqQzqG1RF"
      },
      "source": [
        "abs(100 * -1)   # 100 * -1 = -100"
      ],
      "execution_count": null,
      "outputs": []
    },
    {
      "cell_type": "markdown",
      "metadata": {
        "id": "jU8FoeZlG3Dj"
      },
      "source": [
        "関数の戻り値を、変数に代入するのも自由です。次の例は、```abs()``` の戻り値を、変数 ```abs_value``` に代入しています。"
      ]
    },
    {
      "cell_type": "code",
      "metadata": {
        "id": "eEGMaDDRG850"
      },
      "source": [
        "abs_value = abs(10)\n",
        "abs_value * 2  # abs(10) * 2 とおなじ"
      ],
      "execution_count": null,
      "outputs": []
    },
    {
      "cell_type": "markdown",
      "metadata": {
        "id": "9y3WvV14HA_V"
      },
      "source": [
        "### **関数の例**"
      ]
    },
    {
      "cell_type": "markdown",
      "metadata": {
        "id": "NyZVP_QpHDF9"
      },
      "source": [
        "以下に、Pythonで用意されている関数のごく一部を紹介します。かんたんに呼び出せるものばかりですので、実際にサンプルを打ち込んで、動かしてみてください。"
      ]
    },
    {
      "cell_type": "markdown",
      "metadata": {
        "id": "ahw7SGXHHH7k"
      },
      "source": [
        "#### **abs() 関数**\n"
      ]
    },
    {
      "cell_type": "markdown",
      "metadata": {
        "id": "3gNz0bLfHYNl"
      },
      "source": [
        "```abs()``` の引数に正の値を指定すると、そのまま同じ値が戻り値として返ってきます。"
      ]
    },
    {
      "cell_type": "code",
      "metadata": {
        "id": "E7tBkCHkHO7z"
      },
      "source": [
        "abs(100)"
      ],
      "execution_count": null,
      "outputs": []
    },
    {
      "cell_type": "markdown",
      "metadata": {
        "id": "FyAYcS7PHPc-"
      },
      "source": [
        "負の値を指定すると、正の値に変換されて返ってきます。"
      ]
    },
    {
      "cell_type": "code",
      "metadata": {
        "id": "dftlZfJ_HTKh"
      },
      "source": [
        "abs(100 * -1)"
      ],
      "execution_count": null,
      "outputs": []
    },
    {
      "cell_type": "markdown",
      "metadata": {
        "id": "Vp_lvqhEHU2A"
      },
      "source": [
        "#### **round() 関数**"
      ]
    },
    {
      "cell_type": "markdown",
      "metadata": {
        "id": "tdIvEOzsHd_V"
      },
      "source": [
        "```round()``` 関数は、引数としてfloat型の数値と、有効桁数を指定して、その桁数に丸めた値を結果として返します。引数は、次のように最初に数値、次に有効桁数の順に指定します。\n",
        "\n",
        "```\n",
        "round(数値, 有効桁数)\n",
        "```\n",
        "\n",
        "次の例は、float値 ```1.12``` を、小数第一位で丸めます。"
      ]
    },
    {
      "cell_type": "code",
      "metadata": {
        "id": "KyEKjI4iHnJE"
      },
      "source": [
        "round(1.16, 1)"
      ],
      "execution_count": null,
      "outputs": []
    },
    {
      "cell_type": "markdown",
      "metadata": {
        "id": "M_7mjJ8lHoWq"
      },
      "source": [
        "#### **min() 関数と max() 関数**"
      ]
    },
    {
      "cell_type": "markdown",
      "metadata": {
        "id": "9yXIgGEfHuh_"
      },
      "source": [
        "```min()``` 関数は、引数で指定した値の中で、最も小さい値を戻り値として返します。"
      ]
    },
    {
      "cell_type": "code",
      "metadata": {
        "id": "IjKcwrDkHyd0"
      },
      "source": [
        "min(10, 20, 5, 30)"
      ],
      "execution_count": null,
      "outputs": []
    },
    {
      "cell_type": "markdown",
      "metadata": {
        "id": "7Jm6WhiXH0Fh"
      },
      "source": [
        "```max()``` 関数は、```min()``` 関数とは逆に、引数で指定した値の中で、最も大きい値を戻り値として返す関数です。"
      ]
    },
    {
      "cell_type": "code",
      "metadata": {
        "id": "CjDcAg-7H4Vp"
      },
      "source": [
        "max(10, 20, 5, 30)"
      ],
      "execution_count": null,
      "outputs": []
    },
    {
      "cell_type": "markdown",
      "metadata": {
        "id": "81T7o7A2H6yO"
      },
      "source": [
        "## **モジュールとimport**"
      ]
    },
    {
      "cell_type": "markdown",
      "metadata": {
        "id": "cL2EpbNBH9tE"
      },
      "source": [
        "Pythonはとても多機能なプログラミング言語で、いろいろな機能をもった **関数** を、簡単につかえるように用意してくれています。その機能の数はあまりにも多いので、使いやすいように目的や種類ごとに分類して提供されます。こういった、Pythonが機能を分類する単位を、**モジュール** といいます。\n",
        "\n",
        "例えば、三角関数や対数など、多くの数学関連の機能は、**math**という名前のモジュールに分類されています。モジュールに入った関数を利用するときには、まずそのモジュールを ```import``` 文で指定します。"
      ]
    },
    {
      "cell_type": "markdown",
      "metadata": {
        "id": "0gPFPQaYIcJr"
      },
      "source": [
        "### **import文**"
      ]
    },
    {
      "cell_type": "markdown",
      "metadata": {
        "id": "xKZwPmWGIexW"
      },
      "source": [
        "```import``` 文は、利用するモジュールを次のように指定します。\n",
        "\n",
        "```\n",
        "import モジュール名\n",
        "```\n",
        "\n",
        "次の例は、```math``` モジュールを使えるように指定します。\n",
        "\n",
        "```\n",
        "import math # mathモジュールを使用する\n",
        "```\n",
        "\n",
        "モジュールをインポートしたら、\n",
        "\n",
        "```\n",
        "モジュール名.関数名()\n",
        "```\n",
        "\n",
        "の形式で、そのモジュールの関数を使えるようになります。平方根を計算する ```math``` モジュールの関数、```sqrt()``` 関数を利用するときは、次のように書きます。"
      ]
    },
    {
      "cell_type": "code",
      "metadata": {
        "id": "iq7dHNHwIwGG"
      },
      "source": [
        "import math # mathモジュールを使用する\n",
        "math.sqrt(2.0) # インポート済みの mathモジュールを使って、平方根を計算する"
      ],
      "execution_count": null,
      "outputs": []
    },
    {
      "cell_type": "markdown",
      "metadata": {
        "id": "1D1eKongI2H9"
      },
      "source": [
        "> **関数** で紹介した ```abs()``` などの関数は、モジュールを指定せずに利用できます。 一部の使用頻度の高い関数などは、モジュールをインポートせずに使えるようになっており、そういった関数のことを、 **組み込み関数** と言います。"
      ]
    }
  ]
}