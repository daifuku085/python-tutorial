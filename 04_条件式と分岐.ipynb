{
  "nbformat": 4,
  "nbformat_minor": 0,
  "metadata": {
    "colab": {
      "name": "04_条件式と分岐.ipynb",
      "provenance": [],
      "toc_visible": true,
      "authorship_tag": "ABX9TyM+KzyL91ipG7jQzHGjdEEF",
      "include_colab_link": true
    },
    "kernelspec": {
      "name": "python3",
      "display_name": "Python 3"
    }
  },
  "cells": [
    {
      "cell_type": "markdown",
      "metadata": {
        "id": "view-in-github",
        "colab_type": "text"
      },
      "source": [
        "<a href=\"https://colab.research.google.com/github/daifuku085/python-tutorial/blob/main/04_%E6%9D%A1%E4%BB%B6%E5%BC%8F%E3%81%A8%E5%88%86%E5%B2%90.ipynb\" target=\"_parent\"><img src=\"https://colab.research.google.com/assets/colab-badge.svg\" alt=\"Open In Colab\"/></a>"
      ]
    },
    {
      "cell_type": "markdown",
      "metadata": {
        "id": "JgaccdBcT4gC"
      },
      "source": [
        "# **条件式と分岐**"
      ]
    },
    {
      "cell_type": "markdown",
      "metadata": {
        "id": "nX5X75s2T6zY"
      },
      "source": [
        "## **比較演算子**"
      ]
    },
    {
      "cell_type": "markdown",
      "metadata": {
        "id": "ngxc5JwFT9G7"
      },
      "source": [
        "コンピュータのプログラムは、次の3つの構造の組み合わせで構成できます。\n",
        "\n",
        "1. 処理を順番に一つずつ実行する **順次**\n",
        "2. 条件によって処理を選択する **分岐**\n",
        "3. 条件が満たされている間、処理を繰り返す **反復**\n",
        "\n",
        "ここまでは、1. の **順次** に相当する、基本的な計算などを体験してもらいました。\n",
        "\n",
        "次に、データを検査し、いろいろな条件に従って適切な処理を行う 2. **分岐** を学びます。"
      ]
    },
    {
      "cell_type": "markdown",
      "metadata": {
        "id": "T5ZdRU2nUG-P"
      },
      "source": [
        "### **比較演算**"
      ]
    },
    {
      "cell_type": "markdown",
      "metadata": {
        "id": "P0DnsTDIUJX4"
      },
      "source": [
        "「データの検査」にはいろいろありますが、たとえば数値がある値より大きいかどうかは、```>``` 演算子で検査できます。\n",
        "\n",
        "次の式は、数値の ```100``` と ```10``` を比較します。比較の結果、```100``` のほうが ```10``` よりも大きければ、```True```という値を返します。 ```True``` は、**ブール型** という種類の、特殊な値です。"
      ]
    },
    {
      "cell_type": "code",
      "metadata": {
        "id": "x4MwXQyqT2d0"
      },
      "source": [
        "100 > 10"
      ],
      "execution_count": null,
      "outputs": []
    },
    {
      "cell_type": "markdown",
      "metadata": {
        "id": "9TCSghQrUVvB"
      },
      "source": [
        "**ブール型** については、のちほど詳しく解説します。\n",
        "\n",
        "また、"
      ]
    },
    {
      "cell_type": "code",
      "metadata": {
        "id": "720dpFTGUbx_"
      },
      "source": [
        "10 > 100"
      ],
      "execution_count": null,
      "outputs": []
    },
    {
      "cell_type": "markdown",
      "metadata": {
        "id": "F6VIadAIUdOv"
      },
      "source": [
        "は、```10``` と ```100``` を比較します。```10``` は ```100``` よりも小さいので、```False``` という値を返します。 ```False``` も、 ```True``` と同様に、**ブール型** という種類の値です。"
      ]
    },
    {
      "cell_type": "markdown",
      "metadata": {
        "id": "NqwK6XhjUmux"
      },
      "source": [
        "このように、値を比較する演算子を、**比較演算子** といいます。\n",
        "比較演算子は、２つの値を比較し、条件が成立すれば **ブール型** の ```True``` を、 成立しなければ **ブール型** の ```False``` を返します。"
      ]
    },
    {
      "cell_type": "markdown",
      "metadata": {
        "id": "f1rF9Ht9UvUn"
      },
      "source": [
        "主な比較演算子には、以下のような種類があります。\n",
        "\n",
        "| 演算子 | 条件 |\n",
        "| ------ | ---- |\n",
        "|a < b   |a は b より小さい|\n",
        "|a <= b  |a は b と等しいか小さい|\n",
        "|a > b   |a は b より大きい|\n",
        "|a >= b  |a は b と等しいか大きい|\n",
        "|a == b  |a と b は等しい|\n",
        "|a != b  |a と b は等しくない|"
      ]
    },
    {
      "cell_type": "markdown",
      "metadata": {
        "id": "s_Rk35txVCan"
      },
      "source": [
        "## **文字列の比較**"
      ]
    },
    {
      "cell_type": "markdown",
      "metadata": {
        "id": "Fx1ey3UUVIZe"
      },
      "source": [
        "文字列も、数値とおなじように ```==``` や ```<``` などの比較演算子で比較できます。\n",
        "\n",
        "```==``` 演算子は、２つの文字列がおなじ値のとき、ブール値の ```True``` を返します。\n",
        "\n",
        "また、```<```、```<=``` などの比較演算子は文字列の大小を比較します。しかし、数値の比較ではどちらが大きいか、というのは明確ですが、文字列の比較ではあまり明確ではありません。文字の ```a``` は ```b``` よりも小さい、というのは納得がいきますが、```a``` と大文字の ```A``` はどちらが小さいでしょうか？ また、漢字の ```天``` と ```地``` では、どちらが小さいでしょうか？"
      ]
    },
    {
      "cell_type": "markdown",
      "metadata": {
        "id": "avzQEad_WE6e"
      },
      "source": [
        "こういった問題から、文字列同士の比較では、人間の感覚とはことなった比較結果となる場合があるので注意してください。一般的には、半角の数字やアルファベットの比較は、次のような結果になり、安心して利用できます。\n",
        "\n",
        "1. 数値は、文字の```0```が最小、```9```が最大(0 < 1 < 2 < ... < 9)\n",
        "2. アルファベットでは、```a``` が最小、```z``` が最大 (a < b < c < ... < z)\n",
        "3. 大文字は小文字より小さい (A < a, B < b, ...)\n",
        "\n",
        "などのルールがあります。"
      ]
    },
    {
      "cell_type": "markdown",
      "metadata": {
        "id": "Veyq0loMWUTE"
      },
      "source": [
        "次の例では、```1```で始まる文字列 ```123```は、```4```ではじまる ```456```より小さいです。"
      ]
    },
    {
      "cell_type": "code",
      "metadata": {
        "id": "aNvQzemJWZsQ"
      },
      "source": [
        "print('123' < '456')"
      ],
      "execution_count": null,
      "outputs": []
    },
    {
      "cell_type": "markdown",
      "metadata": {
        "id": "BhH1D-YAWcvA"
      },
      "source": [
        "また、大文字 < 小文字 なので、小文字で始まる ```python```は、大文字で始まる```Python```よりも大きくなります。"
      ]
    },
    {
      "cell_type": "code",
      "metadata": {
        "id": "VgngVWK0Wp-C"
      },
      "source": [
        "print('python' < 'Python')"
      ],
      "execution_count": null,
      "outputs": []
    },
    {
      "cell_type": "markdown",
      "metadata": {
        "id": "Z2B-RK1FWuEQ"
      },
      "source": [
        "## **if文による条件分岐**"
      ]
    },
    {
      "cell_type": "markdown",
      "metadata": {
        "id": "BewPGlFuawWf"
      },
      "source": [
        "次に、比較演算の結果から、決まった条件を満たした場合のみ、処理を実行する方法を紹介しましょう。\n",
        "\n",
        "例として、 ```a``` という変数の値が整数値 ```100``` に等しければ「100点満点！」 と出力する処理を書いてみます。\n",
        "\n",
        "条件による処理の分岐は、**if 文** で行います。 ```if``` 文は次のように記述します。\n",
        "\n",
        "```\n",
        "if 条件式:\n",
        "    処理1\n",
        "    処理2\n",
        "    ...\n",
        "```\n",
        "\n",
        "このように記述すると、```条件式``` の結果が ```True``` になったとき、処理１、処理2、... が実行されます。```条件式``` が ```False``` の場合は、処理1、処理2 は実行されません。"
      ]
    },
    {
      "cell_type": "markdown",
      "metadata": {
        "id": "EZRx0A6mdLlF"
      },
      "source": [
        "比較演算 ```a == 100``` が ```True``` の場合のみ、メッセージを出力する処理は、次のように記述します。"
      ]
    },
    {
      "cell_type": "code",
      "metadata": {
        "id": "S4cOX58LdROT"
      },
      "source": [
        "a = 100 # 変数a に 100を設定する\n",
        "\n",
        "if a == 100:  # a が 100 と等しければ、print()関数を実行する\n",
        "    print(\"100点満点!\")"
      ],
      "execution_count": null,
      "outputs": []
    },
    {
      "cell_type": "markdown",
      "metadata": {
        "id": "Rz1V1DWzdZC7"
      },
      "source": [
        "このプログラムを実行すると、```100点満点!``` と出力されます。 \n",
        "比較演算 ```a == 100``` の結果が、```True``` になるので、```if``` 文 以降に指定した処理が実行されます。"
      ]
    },
    {
      "cell_type": "markdown",
      "metadata": {
        "id": "P_Lw_ALrbL7d"
      },
      "source": [
        "### **if 文の書き方**"
      ]
    },
    {
      "cell_type": "markdown",
      "metadata": {
        "id": "JH_-syEIbJnu"
      },
      "source": [
        "```if``` 文は、 まず ```if 条件式:``` という行で始まります。 条件式の後ろに、```:``` 記号が必要ですので、忘れないように気をつけてください。\n",
        "\n",
        "```if 条件式:``` の次の行から、条件式が ```True``` となった場合に実行する処理を記述します。\n",
        "\n",
        "**インデント**\n",
        "条件が満たされたときに実行する処理は、行の先頭に **スペース文字** を **4文字** 入力してから記述します。\n",
        "\n",
        "```\n",
        "if a == 100:\n",
        "    print(\"100点満点!\")\n",
        "^^^^\n",
        "スペースを4文字入力\n",
        "```\n",
        "\n",
        "このように、行の先頭にスペース文字を入れて段付けすることを、**インデント** と言います。インデントは、かならず **スペース4文字** で行います。\n",
        "\n",
        "また、```if``` 文と、```if```文に続くインデントされた部分を、 **if節(ifせつ)** と言います。\n",
        "\n",
        "\n"
      ]
    },
    {
      "cell_type": "markdown",
      "metadata": {
        "id": "ixFwPjgYbDTt"
      },
      "source": [
        "### **条件式がFalseとなる場合**"
      ]
    },
    {
      "cell_type": "markdown",
      "metadata": {
        "id": "GYoHizNqa8Am"
      },
      "source": [
        "変数 ```a``` の値を ```100``` 以外にして、もう一度実行してみましょう。"
      ]
    },
    {
      "cell_type": "code",
      "metadata": {
        "id": "xFyTHTyCa45f"
      },
      "source": [
        "a = 99 # 変数a に 99 を設定する\n",
        "\n",
        "if a == 100:  # a が 100 と等しければ、print()関数を実行する\n",
        "    print(\"100点満点!\")"
      ],
      "execution_count": 2,
      "outputs": []
    },
    {
      "cell_type": "markdown",
      "metadata": {
        "id": "YqGktVd0azPG"
      },
      "source": [
        "この場合には、```100点満点!``` は出力されません。 比較演算 ```a == 100``` が、```False``` となるからです。"
      ]
    },
    {
      "cell_type": "markdown",
      "metadata": {
        "id": "vyir_mSJWxw3"
      },
      "source": [
        "## **else 節**"
      ]
    },
    {
      "cell_type": "markdown",
      "metadata": {
        "id": "2FCphHXzZuqn"
      },
      "source": [
        "```if``` 文は、次のような形式で、条件が **満たされなかった** ときだけ実行する処理も指定できます。\n",
        "\n",
        "```\n",
        "if 条件式:\n",
        "    処理1\n",
        "    処理2\n",
        "    ...\n",
        "else:\n",
        "    処理3\n",
        "    処理4\n",
        "    ...\n",
        "```\n",
        "\n",
        "条件式 の結果が ```True``` になるときは、```if:``` に続く処理1、処理2、... が実行されます。\n",
        "\n",
        "条件式 の結果が False のときは、 ```else:``` に続く処理3、処理4、... が実行されます。```else:``` 以降の部分を、**else節** と言います。\n",
        "\n",
        "\n",
        "\n",
        "\n"
      ]
    },
    {
      "cell_type": "markdown",
      "metadata": {
        "id": "SZ6HOl5yaNpf"
      },
      "source": [
        "練習として、**if 文 による条件分岐** のサンプルをちょっと修正し、\n",
        "\n",
        "- 変数 ```a``` の値が ```100``` のときは「100点満点!」と出力\n",
        "- 変数 ```a``` の値が ```100``` 以外のときは「失格!」と出力\n",
        "\n",
        "としてみましょう。```else``` のあとには ```:``` が必要ですので、忘れないようにしてください。"
      ]
    },
    {
      "cell_type": "code",
      "metadata": {
        "id": "fOJH-9q7aKRD"
      },
      "source": [
        "a = 100 # 変数aに 100 を設定する\n",
        "\n",
        "if a == 100:  # a が 100 と等しければ、print()関数を実行する\n",
        "    print(\"100点満点!\")\n",
        "else:\n",
        "    print(\"失格!\")"
      ],
      "execution_count": null,
      "outputs": []
    },
    {
      "cell_type": "markdown",
      "metadata": {
        "id": "P2ylXS0UZ_uf"
      },
      "source": [
        "ここでは、比較演算 ```a == 100``` の結果が、```True``` になるので、```100点満点!``` と出力されます。では、```a``` を別の値にしてもう一度実行してみましょう。"
      ]
    },
    {
      "cell_type": "code",
      "metadata": {
        "id": "pqq7XCMlZ8Kn"
      },
      "source": [
        "a = 0 # 変数a に 0 を設定する\n",
        "\n",
        "if a == 100:  # a が 100 と等しければ、print()関数を実行する\n",
        "    print(\"100点満点!\")\n",
        "else:\n",
        "    print(\"失格!\")"
      ],
      "execution_count": null,
      "outputs": []
    },
    {
      "cell_type": "markdown",
      "metadata": {
        "id": "3PEzF8-gZ4v4"
      },
      "source": [
        "失格してしまいました。```a``` が ```100``` ではないからです。"
      ]
    },
    {
      "cell_type": "markdown",
      "metadata": {
        "id": "_USQFTnZZwCY"
      },
      "source": [
        "```else``` 節に指定する処理は、```if``` に指定した処理とおなじように、スペース4つでインデントして指定します。\n",
        "\n",
        "```\n",
        "if a == 100:\n",
        "    print(\"100点満点!\")\n",
        "else:\n",
        "    print(\"失格!\")\n",
        "^^^^\n",
        "スペースを4文字入力\n",
        "```"
      ]
    },
    {
      "cell_type": "markdown",
      "metadata": {
        "id": "z-6BrLNpW3_F"
      },
      "source": [
        "## **比較以外の条件式**"
      ]
    },
    {
      "cell_type": "markdown",
      "metadata": {
        "id": "YC00nKTBYdCb"
      },
      "source": [
        "条件式として使えるのは、```<``` や ```==``` などの比較演算子だけではありません。こんどは、比較演算子以外の条件を使って、```if``` 文を書いてみましょう。"
      ]
    },
    {
      "cell_type": "markdown",
      "metadata": {
        "id": "N6vksJc5ZeNw"
      },
      "source": [
        "文字列の **メソッド** に、文字列がすべて数字かどうかを判定する ```isdecimal()``` があります。\n",
        "\n",
        "```isdecimal()``` は、文字列がすべて数字なら ブール型の値 ```True``` を、数字以外の文字なら ```False``` を返します。"
      ]
    },
    {
      "cell_type": "code",
      "metadata": {
        "id": "kEXrxShlZToJ"
      },
      "source": [
        "print(\"123は数字ですか？\", \"123\".isdecimal())\n",
        "print(\"abcは数字ですか？\", \"abc\".isdecimal())"
      ],
      "execution_count": null,
      "outputs": []
    },
    {
      "cell_type": "markdown",
      "metadata": {
        "id": "chgJUYUSZKk0"
      },
      "source": [
        "```\"123\"```という文字列はすべて数字ですので、```\"123\".isdecimal()``` という式は、```True``` となります。また、```\"abc\"```という文字列は数字ではありませんので、```\"abc\".isdecimal()``` という式は、```False``` となります。"
      ]
    },
    {
      "cell_type": "markdown",
      "metadata": {
        "id": "DrvGHUstY_P3"
      },
      "source": [
        "この ```isdecimal()``` を条件式として、```if``` 文を書いてみましょう。\n",
        "\n",
        "1. 文字列が数字なら「〇〇〇は数字です」と出力します。\n",
        "2. そうでなければ「〇〇〇は数字ではありません」と出力します。\n",
        "\n",
        "判定する文字列は、```input()``` 関数で取得します。"
      ]
    },
    {
      "cell_type": "code",
      "metadata": {
        "id": "2prTSLEJY5CT"
      },
      "source": [
        "string = input(\"文字列を入力してください:\")\n",
        "if string.isdecimal():\n",
        "    print(string, \"は数字です\")\n",
        "else:\n",
        "    print(string, \"は数字ではありません\")"
      ],
      "execution_count": null,
      "outputs": []
    },
    {
      "cell_type": "markdown",
      "metadata": {
        "id": "0Z0PRHd3Ye9B"
      },
      "source": [
        "このプログラムは、次の処理を行っています。\n",
        "\n",
        "1. ```input()``` 関数で文字列を入力し、変数 ```string``` に代入します。\n",
        "2. ```string.isdecimal()``` を条件式として、```if``` 文を実行します。  \n",
        "    a. 入力した文字列がすべて数字なら、```string.isdecimal()``` の結果は ```True``` となり、  \n",
        "    ```print(string, \"は数字です\")```  \n",
        "    を実行します。\n",
        "\n",
        "    b. 入力した文字列が数字でなければ、```string.isdecimal()``` の結果は ```False``` となり、```else``` 節の  \n",
        "\n",
        "    ```print(string, \"は数字ではありません\")```  \n",
        "    を実行します。\n",
        "\n",
        "いろいろな数字や文字を入力して、結果を試してみてください。"
      ]
    },
    {
      "cell_type": "markdown",
      "metadata": {
        "id": "PnrQlt-FW8n6"
      },
      "source": [
        "## **elif 節**"
      ]
    },
    {
      "cell_type": "markdown",
      "metadata": {
        "id": "GUJM0NtaXIoy"
      },
      "source": [
        "比較以外の条件式 では、\n",
        "\n",
        "1. 文字列が数字なら「〇〇〇は数字です」と出力します。\n",
        "2. そうでなければ「〇〇〇は数字ではありません」と出力します。\n",
        "\n",
        "という処理を作成しました。"
      ]
    },
    {
      "cell_type": "markdown",
      "metadata": {
        "id": "Ne0StdveXK6q"
      },
      "source": [
        "ここでは、もう少し機能を追加して、文字列がアルファベットかどうかも判定してみましょう。\n",
        "\n",
        "1. 文字列が数字なら「〇〇〇は数字です」と出力します。\n",
        "2. 数字でなければ、アルファベットかどうかを判定し、アルファベットなら「○○○はアルファベットです」と出力します。\n",
        "3. そうでなければ「〇〇〇は数字でもアルファベットでもありません」と出力します。\n",
        "\n",
        "アルファベットかどうかの判定は、文字列の ```isalpha()``` メソッドで判定します。isalpha() メソッドは、文字列がアルファベットであれば ```True``` を、そうでなければ ```False``` を返します。"
      ]
    },
    {
      "cell_type": "code",
      "metadata": {
        "id": "Xk0nBYY4XTpV"
      },
      "source": [
        "print(\"123はアルファベットですか？\", \"123\".isalpha())\n",
        "print(\"abcはアルファベットですか？\", \"abc\".isalpha())"
      ],
      "execution_count": null,
      "outputs": []
    },
    {
      "cell_type": "markdown",
      "metadata": {
        "id": "o81YYr9IXZVL"
      },
      "source": [
        "```\"123\"```という文字列はアルファベットではありませんので、```\"123\".isalpha()``` という式は、```False``` となります。また、```\"abc\"```という文字列はアルファベットですので、```\"abc\".isalpha()``` という式は、```True``` となります。"
      ]
    },
    {
      "cell_type": "markdown",
      "metadata": {
        "id": "nH-KPZb6XjEv"
      },
      "source": [
        "```if``` 文には、最初の条件が満たされなかった時、```elif``` 節に次に検査する条件を指定できます。```elif``` 節は、次のように記述します。\n",
        "\n",
        "```\n",
        "if 条件式1:\n",
        "    処理1\n",
        "    ...\n",
        "elif 条件式2:\n",
        "    処理2\n",
        "    ...\n",
        "elif 条件式3:\n",
        "    処理3\n",
        "    ...\n",
        "else:\n",
        "    処理n\n",
        "    ...\n",
        "```"
      ]
    },
    {
      "cell_type": "markdown",
      "metadata": {
        "id": "U_Hy5bjlXAmD"
      },
      "source": [
        "このプログラムを実行すると、まず ```条件式1``` を判定し、条件が満たされなければ最初の ```elif``` 節の ```条件式2``` を判定します。```条件式2``` が満たされていれば、処理2を実行します。```条件式2```が満たされなければ、以降の ```elif``` 節にある ```条件式3```、```条件式4```、．．． を次々に判定します。すべての条件が満たされなければ、```else```節の処理を実行します。\n",
        "\n",
        "```elif``` 節も、最後に ```:``` が必要ですので、忘れないようにしてください。"
      ]
    },
    {
      "cell_type": "code",
      "metadata": {
        "id": "p8XBjPV_X7FO"
      },
      "source": [
        "string = input(\"文字列を入力してください:\")\n",
        "if string.isdecimal():\n",
        "    print(string, \"は数字です\")\n",
        "elif string.isalpha():\n",
        "    print(string, \"はアルファベットです\")\n",
        "else:\n",
        "    print(string, \"は数字でもアルファベットでもありません\")"
      ],
      "execution_count": null,
      "outputs": []
    },
    {
      "cell_type": "markdown",
      "metadata": {
        "id": "eoOIFzagX-bi"
      },
      "source": [
        "いろいろな数字や文字を入力して、結果を試してみてください。```isapha()``` メソッドは、英字のアルファベット(a, bなど)だけでなく、日本語のひらがなやカタカナもアルファベットとして判定します。"
      ]
    }
  ]
}