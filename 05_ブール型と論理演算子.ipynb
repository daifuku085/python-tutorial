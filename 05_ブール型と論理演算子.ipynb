{
  "nbformat": 4,
  "nbformat_minor": 0,
  "metadata": {
    "colab": {
      "name": "05_ブール型と論理演算子.ipynb",
      "provenance": [],
      "collapsed_sections": [],
      "authorship_tag": "ABX9TyOgaM+O4JL44s6kWQgO9UkP",
      "include_colab_link": true
    },
    "kernelspec": {
      "name": "python3",
      "display_name": "Python 3"
    }
  },
  "cells": [
    {
      "cell_type": "markdown",
      "metadata": {
        "id": "view-in-github",
        "colab_type": "text"
      },
      "source": [
        "<a href=\"https://colab.research.google.com/github/daifuku085/python-tutorial/blob/main/05_%E3%83%96%E3%83%BC%E3%83%AB%E5%9E%8B%E3%81%A8%E8%AB%96%E7%90%86%E6%BC%94%E7%AE%97%E5%AD%90.ipynb\" target=\"_parent\"><img src=\"https://colab.research.google.com/assets/colab-badge.svg\" alt=\"Open In Colab\"/></a>"
      ]
    },
    {
      "cell_type": "markdown",
      "metadata": {
        "id": "Zysvd-ha1bnS"
      },
      "source": [
        "# **ブール型と論理演算子**"
      ]
    },
    {
      "cell_type": "markdown",
      "metadata": {
        "id": "FZQ98MVG1gIx"
      },
      "source": [
        "```<``` や ```==``` などの比較演算子は、比較の結果として、```True``` または ```False``` という、ブール型と言われる値を返します。```True``` と ```False``` は、**真** と **偽** を意味します。"
      ]
    },
    {
      "cell_type": "markdown",
      "metadata": {
        "id": "croofelb2Yk1"
      },
      "source": [
        "たとえば、```1``` は ```2``` よりも小さいので、```1 > 2``` という式は正しくありません。なので、結果は **偽** である ```False``` となります。"
      ]
    },
    {
      "cell_type": "code",
      "metadata": {
        "id": "Zu5T77JH2Wo2"
      },
      "source": [
        "print(1 > 2)"
      ],
      "execution_count": null,
      "outputs": []
    },
    {
      "cell_type": "markdown",
      "metadata": {
        "id": "4LaU9x2S2TZN"
      },
      "source": [
        "また、```\"abc\"``` という文字列と ```\"abc\"``` という文字列は等しいので、 ```\"abc\" == \"abc\"``` は **真** である ```True``` となります。"
      ]
    },
    {
      "cell_type": "code",
      "metadata": {
        "id": "f2MmD9wE2P43"
      },
      "source": [
        "print(\"abc\" == \"abc\")"
      ],
      "execution_count": null,
      "outputs": []
    },
    {
      "cell_type": "markdown",
      "metadata": {
        "id": "lQ29hljQ2KYX"
      },
      "source": [
        "ブール型は、別名論理型や真偽値型とも言われる値で、値はかならず ```True``` (=真)か```False```(=偽) のどちらかになります。ブール型の値は、次のように書けます。"
      ]
    },
    {
      "cell_type": "code",
      "metadata": {
        "id": "7K_PYVRe1Y-u"
      },
      "source": [
        "true_value = True\n",
        "print(\"true_value は\", true_value)\n",
        "\n",
        "false_value = False\n",
        "print(\"false_value は\", false_value)"
      ],
      "execution_count": null,
      "outputs": []
    },
    {
      "cell_type": "markdown",
      "metadata": {
        "id": "s_XEsBbI2l7t"
      },
      "source": [
        "## **論理演算子**"
      ]
    },
    {
      "cell_type": "markdown",
      "metadata": {
        "id": "gqN2N9bQPsmT"
      },
      "source": [
        "一つの条件式だけでなく、複数の条件を組み合わせた、複雑なルールもプログラムとして記述できます。このように、**ブール型** の値で演算を行う演算子を、**論理演算子** や **ブール演算子** と言います。"
      ]
    },
    {
      "cell_type": "markdown",
      "metadata": {
        "id": "YXswNkJcP1X6"
      },
      "source": [
        "Pythonの論理演算子には、次の3種類があります。\n",
        "\n",
        "- and 演算子\n",
        "- or 演算子\n",
        "- not 演算子"
      ]
    },
    {
      "cell_type": "markdown",
      "metadata": {
        "id": "nxYbevaj2njl"
      },
      "source": [
        "## **and 演算子**"
      ]
    },
    {
      "cell_type": "markdown",
      "metadata": {
        "id": "ixwmNwR0P5W5"
      },
      "source": [
        "たとえば、遊園地のジェットコースターには、「10歳以上で身長は120cm以上の方のみお乗りいただけます」のように制限されている場合があります。この制限を、Pythonで書いてみましょう。\n",
        "\n",
        "この条件を分解すると、\n",
        "\n",
        "1. 年齢が10以上である\n",
        "2. 身長は120以上である\n",
        "\n",
        "の２つの条件を満たせば、乗っても良いということになります。"
      ]
    },
    {
      "cell_type": "markdown",
      "metadata": {
        "id": "DucSBQDGQJGA"
      },
      "source": [
        "年齢を示すデータを変数 ```age```、身長は変数 ```height``` で参照できるとすると、年齢のチェックは次のように書けます。\n",
        "\n",
        "```\n",
        "10 <= age\n",
        "```\n",
        "\n",
        "身長のチェックは次のように書けます。\n",
        "\n",
        "```\n",
        "120 <= height\n",
        "```\n",
        "\n",
        "この２つの比較演算子が同時に真なら、搭乗可能です。Pythonでは、```and``` 演算子で２つの条件が同時に真かどうかを調べられます。\n",
        "\n",
        "これをプログラムで書いてみましょう。"
      ]
    },
    {
      "cell_type": "markdown",
      "metadata": {
        "id": "GE1HMnBZWSo-"
      },
      "source": [
        "```\n",
        "age = 11   # 例として、11歳 身長130cmとする\n",
        "height = 130\n",
        "\n",
        "if (10 <= age) and (120 <= height):\n",
        "    print(\"お乗りいただけます\")\n",
        "else:\n",
        "    print(\"ご遠慮ください\")\n",
        "```"
      ]
    },
    {
      "cell_type": "code",
      "metadata": {
        "id": "3n6HAObyQU3a"
      },
      "source": [
        ""
      ],
      "execution_count": null,
      "outputs": []
    },
    {
      "cell_type": "markdown",
      "metadata": {
        "id": "bPSliefWP6NR"
      },
      "source": [
        "```and``` 演算子は、左右に指定された値の両方が ブール型 の ```True``` の場合、```True``` を返します。どちらか一方でも ```False``` なら、```and``` 演算子も ```False``` となります。\n",
        "\n",
        "上の例では、\n",
        "\n",
        "```\n",
        "(10 <= age) and (120 <= height)\n",
        "```\n",
        "\n",
        "という式は、```10 <= age``` という比較と、```120 <= height``` という比較は、どちらも ```True``` となります。どちらの値も ```True``` なので、```and``` 演算子の最終的な値は ```True``` となります。\n",
        "\n",
        "このように、2つの条件両方とも真となるかどうかをチェックする場合には、```and``` 演算子を利用します。"
      ]
    },
    {
      "cell_type": "markdown",
      "metadata": {
        "id": "zqGAalr62qTu"
      },
      "source": [
        "## **or 演算子**"
      ]
    },
    {
      "cell_type": "markdown",
      "metadata": {
        "id": "Zv8HqnhJRgxs"
      },
      "source": [
        "この遊園地の別の乗り物では、「10歳以下の方と、80歳以上の方はご遠慮ください」と書かれています。この条件は、\n",
        "\n",
        "1. 年齢が10以下である\n",
        "2. 年齢が80以上である\n",
        "\n",
        "という条件の、どちらかが満たされていれば搭乗禁止、ということになります。"
      ]
    },
    {
      "cell_type": "markdown",
      "metadata": {
        "id": "uN5MpYHeTlOM"
      },
      "source": [
        "年齢を示すデータを変数 ```age``` で参照できるとすると、下限となる年齢のチェックは次のように書けます。\n",
        "\n",
        "```\n",
        "age <= 10\n",
        "```\n",
        "\n",
        "上限のチェックは次のように書けます。\n",
        "\n",
        "```\n",
        "80 <= age\n",
        "```\n",
        "\n",
        "```or``` 演算子を使うと、この2つの条件のどちらか一方でも真となるかどうかを調べられます。```or``` 演算子を使ったプログラムは次のようになります。"
      ]
    },
    {
      "cell_type": "markdown",
      "metadata": {
        "id": "KFRidU7NWd4j"
      },
      "source": [
        "```\n",
        "age = 90   # 年齢を90歳とする\n",
        "\n",
        "if (age <= 10) or (80 <= age):\n",
        "    print(\"ご遠慮ください\")\n",
        "else:\n",
        "    print(\"お乗りいただけます\")\n",
        "```"
      ]
    },
    {
      "cell_type": "code",
      "metadata": {
        "id": "baTH9MXMTcoI"
      },
      "source": [
        ""
      ],
      "execution_count": null,
      "outputs": []
    },
    {
      "cell_type": "markdown",
      "metadata": {
        "id": "17BVhYlaRkAY"
      },
      "source": [
        "```or``` 演算子は、左右に指定された値のどちらか一方、または両方が **ブール型** の ```True``` なら、```True``` を返します。両方が ```False``` なら、```or``` 演算子も ```False``` となります。\n",
        "\n",
        "```age``` が ```90``` のとき、\n",
        "\n",
        "```\n",
        "(age <= 10) or (age >= 80)\n",
        "```\n",
        "\n",
        "という式では、```age <= 10``` という比較は ```False``` となりますが、```80 <= age``` という比較は ```True``` となります。2つ目の値が ```True``` なので、```or``` 演算子の最終的な値は ```True``` となります。\n",
        "\n",
        "このように、2つの条件のどちらかが真となるかどうかをチェックする場合には、```or``` 演算子を利用します。"
      ]
    },
    {
      "cell_type": "markdown",
      "metadata": {
        "id": "em8OTDqf2s9l"
      },
      "source": [
        "## **not 演算子**"
      ]
    },
    {
      "cell_type": "markdown",
      "metadata": {
        "id": "eVZ5nyPsUIil"
      },
      "source": [
        "これまで、 ```and``` 演算子と ```or``` 演算子を紹介しました。\n",
        "\n",
        "Pythonの論理演算子には、```and``` と ```or``` の他にもう一つ、```not``` 演算子があります。\n",
        "\n",
        "```not``` 演算子は、指定した式の値を **反転** し、値が ```True```(真) なら ```False```(偽)を返し、```False```(偽)なら```True```(真) を返す演算子です。\n",
        "\n",
        "```not``` 演算子は、次のように記述します。```and``` 演算子や ```or``` 演算子と違って、式を一つだけ指定できます。\n",
        "\n",
        "```\n",
        "not 式\n",
        "```"
      ]
    },
    {
      "cell_type": "markdown",
      "metadata": {
        "id": "RCJ5xEF4Ut5v"
      },
      "source": [
        "たとえば、ある乗り物は「10歳未満 **以外** はお乗りいただけます」という条件がついているとします。10歳未満 **以外** ですので、10歳未満なら ```False```、10歳以上なら ```True``` となる条件です。\n",
        "\n",
        "10歳未満という条件は\n",
        "\n",
        "```\n",
        "age < 10\n",
        "```\n",
        "\n",
        "という式で書けます。乗り物に乗れるのはこの条件が ```False``` となる場合ですから、```not``` 演算子を使って結果を反転します。\n",
        "\n",
        "```\n",
        "not (age < 10)\n",
        "```\n",
        "\n",
        "この条件式は、```age``` が10歳未満なら ```False```、10歳以上なら ```True``` となり、「10歳未満 **以外**」 を満たしています。\n",
        "\n",
        "```not``` 演算子をつかって、このプログラムを書いてみましょう。"
      ]
    },
    {
      "cell_type": "markdown",
      "metadata": {
        "id": "vNiW-K8eWsxE"
      },
      "source": [
        "\n",
        "```\n",
        "age = 20  # 年齢は20歳\n",
        "\n",
        "if not (age < 10):\n",
        "    print(\"お乗りいただけます。\")\n",
        "```"
      ]
    },
    {
      "cell_type": "code",
      "metadata": {
        "id": "QWesqFXVUjpm"
      },
      "source": [
        ""
      ],
      "execution_count": null,
      "outputs": []
    },
    {
      "cell_type": "markdown",
      "metadata": {
        "id": "S1_70YJfUY6m"
      },
      "source": [
        "変数 ```age``` は ```20``` ですから、 ```age < 10``` という式は ```False``` となります。そして、```not``` 演算子はその結果を反転し、結果として ```True``` となります。"
      ]
    }
  ]
}