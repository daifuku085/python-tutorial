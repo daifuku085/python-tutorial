{
  "nbformat": 4,
  "nbformat_minor": 0,
  "metadata": {
    "colab": {
      "name": "Tutorial02.ipynb",
      "provenance": [],
      "collapsed_sections": [],
      "authorship_tag": "ABX9TyN2AymmEVdkPK5FnPjBhofw",
      "include_colab_link": true
    },
    "kernelspec": {
      "name": "python3",
      "display_name": "Python 3"
    }
  },
  "cells": [
    {
      "cell_type": "markdown",
      "metadata": {
        "id": "view-in-github",
        "colab_type": "text"
      },
      "source": [
        "<a href=\"https://colab.research.google.com/github/daifuku085/python-tutorial/blob/main/Tutorial02.ipynb\" target=\"_parent\"><img src=\"https://colab.research.google.com/assets/colab-badge.svg\" alt=\"Open In Colab\"/></a>"
      ]
    },
    {
      "cell_type": "markdown",
      "metadata": {
        "id": "k8AS9lp093e3"
      },
      "source": [
        "# 2. Python インタプリタを使う"
      ]
    },
    {
      "cell_type": "markdown",
      "metadata": {
        "id": "TjcF8BI8rlA5"
      },
      "source": [
        "## 2.1. インタプリタを起動する\n",
        "\n",
        "Python インタプリタは、それが使えるマシン上では通常 ```/usr/local/bin/python3.9``` としてインストールされています; Unix シェルの検索パスに ```/usr/local/bin``` を入れることによって、次のコマンドをタイプしてインタプリタを開始することができます:\n",
        "\n",
        "```\n",
        "python3.9\n",
        "```\n",
        "\n",
        "[[1]](#id2) どのディレクトリに Python インタプリタをインストールするかはインストール時に選択できるので、インタプリタは他のディレクトリにあるかもしれません; 身近な Python に詳しい人か、システム管理者に聞いてみてください。 (例えば、その他の場所としては ```/usr/local/python``` が一般的です。)\n",
        "\n",
        "[Microsoft ストア](https://docs.python.org/ja/3/using/windows.html#windows-store) からPythonのインストールを行った Windows マシンでは、 ```python3.9``` コマンドが利用可能です。 [py.exe ランチャ](https://docs.python.org/ja/3/using/windows.html#launcher) をインストールした場合、 ```py``` コマンドが使えます。 Python を起動する他の方法については [補足: 環境変数の設定](https://docs.python.org/ja/3/using/windows.html#setting-envvars) を参照してください。\n",
        "\n",
        "ファイル終端文字 (Unixでは Control-D 、DOS や Windows では Control-Z) を一次プロンプト (訳注: '>>>' のこと) に入力すると、インタプリタが終了ステータス 0 で終了します。もしこの操作がうまく働かないなら、コマンド: ```quit()``` と入力すればインタプリタを終了できます。\n",
        "\n",
        "[GNU Readline](https://tiswww.case.edu/php/chet/readline/rltop.html) ライブラリをサポートしているシステム上では、対話的行編集やヒストリ置換、コード補完のインタプリタの行編集機能が利用できます。コマンドライン編集機能がサポートされているかを最も手っ取り早く調べる方法は、おそらく最初に表示された Python プロンプトに Control-P を入力してみることでしょう。ビープ音が鳴るなら、コマンドライン編集機能があります。編集キーについての解説は付録 [対話入力編集と履歴置換](https://docs.python.org/ja/3/tutorial/interactive.html#tut-interacting) を参照してください。何も起こらないように見えるか、 ```^P``` がエコーバックされるなら、コマンドライン編集機能は利用できません。この場合、現在編集中の行から文字を削除するにはバックスペースを使うしかありません。\n",
        "\n",
        "インタプリタは Unix シェルと同じように使えます。標準入力が端末に接続された状態では、コマンドを対話的に読み込んで実行します。ファイル名を引数に指定するか、```python3 < filename``` のように標準入力ファイルとして指定すると、インタプリタはファイルから スクリプト を読み込んで実行します。\n",
        "\n",
        "インタプリタを ```python -c command [arg] ...``` のように起動する方法もあります。この形式では、シェルの [-c](https://docs.python.org/ja/3/using/cmdline.html#cmdoption-c) オプションと同じように、 _command_ に指定した文を実行します。 Python 文には、スペースなどのシェルにとって特殊な意味をもつ文字がしばしば含まれるので、 _command_ 全体をシングルクォート(訳注: ```'```)で囲っておいたほうが良いでしょう。\n",
        "\n",
        "Python のモジュールには、スクリプトとしても便利に使えるものがあります。 ```python -m module [arg] ...``` のように起動すると、 _module_ のソースファイルを、フルパスを指定して起動したかのように実行できます。\n",
        "\n",
        "スクリプトファイルを使用する場合、スクリプトの実行が完了した後、そのまま対話モードに入れると便利なことがあります。これには [-i](https://docs.python.org/ja/3/using/cmdline.html#cmdoption-i) をスクリプト名の前に追加します。\n",
        "\n",
        "全てのコマンドラインオプションは [コマンドラインと環境](https://docs.python.org/ja/3/using/cmdline.html#using-on-general) で説明されています。"
      ]
    },
    {
      "cell_type": "markdown",
      "metadata": {
        "id": "RCJQuEK4rfXl"
      },
      "source": [
        "### 2.1.1. 引数の受け渡し\n",
        "\n",
        "スクリプト名と引数を指定してインタプリタを起動した場合、スクリプト名やスクリプト名以後に指定した引数は、文字列のリストに変換されて ```sys``` モジュールの ```argv``` 変数に格納されます。 ```import sys``` とすることでこのリストにアクセスできます。 ```sys.argv``` には少なくとも一つ要素が入っています。スクリプト名も引数も指定しなければ、 ```sys.argv[0]``` は空の文字列になります。 スクリプト名の代わりに ```'-'``` (標準入力を意味します) を指定すると、 ```sys.argv[0]``` は ```'-'``` になります。 [-c](https://docs.python.org/ja/3/using/cmdline.html#cmdoption-c) _command_ を使うと、``` sys.argv[0]``` は ```'-c'``` になります。 [-m](https://docs.python.org/ja/3/using/cmdline.html#cmdoption-m) _module_ を使った場合、 ```sys.argv[0]``` はモジュールのフルパスになります。 Python インタープリタは、[-c](https://docs.python.org/ja/3/using/cmdline.html#cmdoption-c) _command_ や [-m](https://docs.python.org/ja/3/using/cmdline.html#cmdoption-m) _module_ の後ろに指定したオプションは無視します。無視された引数は、```sys.argv``` を使って _command_ や _module_ から参照できます。"
      ]
    },
    {
      "cell_type": "markdown",
      "metadata": {
        "id": "g7DBCJM_rXB-"
      },
      "source": [
        "### 2.1.2. 対話モード\n",
        "\n",
        "インタプリタが命令を端末 (tty) やコマンドプロンプトから読み取っている場合、インタプリタは 対話モード (_interactive mode_) で動作しているといいます。 このモードでは、インタプリタは 一次プロンプト (_primary prompt_) を表示して、ユーザにコマンドを入力するよう促します。一次プロンプトは普通、三つの「大なり記号」 (```>>>```) です。継続行では、インタプリタは 二次プロンプト (_secondary prompt_) を表示します。二次プロンプトは、デフォルトでは三つのドット (```...```) です。 インタプリタは、最初のプロンプトを出す前にバージョン番号と著作権表示から始まる起動メッセージを出力します:\n",
        "\n",
        "```\n",
        "$ python3.9\n",
        "Python 3.9 (default, June 4 2019, 09:25:04)\n",
        "[GCC 4.8.2] on linux\n",
        "Type \"help\", \"copyright\", \"credits\" or \"license\" for more information.\n",
        ">>>\n",
        "```\n",
        "\n",
        "継続行は、複数行の構文を入力するときに使います。例えば、 [if](https://docs.python.org/ja/3/reference/compound_stmts.html#if) 文は継続行を使用します\n",
        "\n",
        "```\n",
        ">>> the_world_is_flat = True\n",
        ">>> if the_world_is_flat:\n",
        "...     print(\"Be careful not to fall off!\")\n",
        "...\n",
        "Be careful not to fall off!\n",
        "```\n",
        "\n",
        "対話モードについての詳細は [対話モード](https://docs.python.org/ja/3/tutorial/appendix.html#tut-interac) を参照してください。"
      ]
    },
    {
      "cell_type": "markdown",
      "metadata": {
        "id": "EhvzbI-QrRjt"
      },
      "source": [
        "## 2.2. インタプリタとその環境"
      ]
    },
    {
      "cell_type": "markdown",
      "metadata": {
        "id": "QNqG8WtdsHOZ"
      },
      "source": [
        "\n",
        "### 2.2.1. ソースコードの文字コード\n",
        "\n",
        "デフォルトでは、Python のソースコードは UTF-8 でエンコードされているものとして扱われます。UTF-8 では、世界中のほとんどの言語の文字を、同時に文字列リテラル、識別子、コメントなどに書けます。--- ただし、標準ライブラリは識別子に ASCII 文字のみを利用していて、その他のポータブルなコードもその慣習に従うべきです。それらの文字を正しく表示するためには、エディターはそのファイルが UTF-8 である事を識別して、そのファイルに含まれている文字を全てサポートしたフォントを使わなければなりません。\n",
        "\n",
        "デフォルトエンコーディング以外のエンコーディングを使用するには、ファイルの 先頭 の行に特別なコメントを追加しなければなりません。書式は以下の通りです:\n",
        "```\n",
        "# -*- coding: encoding -*-\n",
        "```\n",
        "_encoding_ には、Python が [codecs](https://docs.python.org/ja/3/library/codecs.html#module-codecs) でサポートしている有効なエンコーディングを指定します。\n",
        "\n",
        "例えば、Windows-1252 エンコーディングを使用するには、ソースコードファイルの先頭行は下記のようにします:\n",
        "```\n",
        "# -*- coding: cp1252 -*-\n",
        "```\n",
        "ソースコードが [UNIX \"shebang\"](https://docs.python.org/ja/3/tutorial/appendix.html#tut-scripts) 行 で始まる場合には、先頭行 のルールは当てはまりません。 この場合には、エンコーディングの宣言はファイルの2行目に追加します。 例えば以下のようになります:\n",
        "```\n",
        "#!/usr/bin/env python3\n",
        "# -*- coding: cp1252 -*-\n",
        "```"
      ]
    },
    {
      "cell_type": "markdown",
      "metadata": {
        "id": "nPeizdGcrO9H"
      },
      "source": [
        "## **脚注**\n",
        "\n",
        "<a id=\"id2\"></a>\n",
        "[[1]](#id1) Unixでは、Python 3.x インタープリタの実行ファイルはデフォルトでは ```python``` という名前ではインストールされません。同時にインストールされた Python 2.x 実行ファイルと衝突させないためです。"
      ]
    }
  ]
}