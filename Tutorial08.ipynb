{
  "nbformat": 4,
  "nbformat_minor": 0,
  "metadata": {
    "colab": {
      "name": "Tutorial08.ipynb",
      "provenance": [],
      "collapsed_sections": [],
      "authorship_tag": "ABX9TyMdNODIp9Fo70BYgsMm597E",
      "include_colab_link": true
    },
    "kernelspec": {
      "name": "python3",
      "display_name": "Python 3"
    }
  },
  "cells": [
    {
      "cell_type": "markdown",
      "metadata": {
        "id": "view-in-github",
        "colab_type": "text"
      },
      "source": [
        "<a href=\"https://colab.research.google.com/github/daifuku085/python-tutorial/blob/main/Tutorial08.ipynb\" target=\"_parent\"><img src=\"https://colab.research.google.com/assets/colab-badge.svg\" alt=\"Open In Colab\"/></a>"
      ]
    },
    {
      "cell_type": "markdown",
      "metadata": {
        "id": "DtLDew6v79lY"
      },
      "source": [
        "# 8. エラーと例外\n",
        "\n",
        "これまでエラーメッセージについては簡単に触れるだけでしたが、チュートリアル中の例を自分で試していたら、実際にいくつかのエラーメッセージを見ていることでしょう。エラーには (少なくとも) 二つのはっきり異なる種類があります。それは 構文エラー _(syntax error)_ と 例外 _(exception)_ です。"
      ]
    },
    {
      "cell_type": "markdown",
      "metadata": {
        "id": "FpaHV7HuMFGY"
      },
      "source": [
        "## 8.1. 構文エラー\n",
        "\n",
        "構文エラーは構文解析エラー (parsing error) としても知られており、Python を勉強している間に最もよく遭遇する問題の一つでしょう:"
      ]
    },
    {
      "cell_type": "code",
      "metadata": {
        "id": "1RHQJTshMV-W"
      },
      "source": [
        "while True print('Hello world')"
      ],
      "execution_count": null,
      "outputs": []
    },
    {
      "cell_type": "markdown",
      "metadata": {
        "id": "iZrZ9RbYNFdJ"
      },
      "source": [
        "パーサは違反の起きている行を表示し、小さな「矢印」を表示して、行中でエラーが検出された最初の位置を示します。エラーは矢印の 直前の トークンでひき起こされています (または、少なくともそこで検出されています)。上記の例では、エラーは関数 [print()](https://docs.python.org/ja/3/library/functions.html#print) で検出されています。コロン (```':'```) がその前に無いからです。入力がスクリプトから来ている場合は、どこを見ればよいか分かるようにファイル名と行番号が出力されます。"
      ]
    },
    {
      "cell_type": "markdown",
      "metadata": {
        "id": "Yd2Q0WVjMZC6"
      },
      "source": [
        "## 8.2. 例外\n",
        "\n",
        "たとえ文や式が構文的に正しくても、実行しようとしたときにエラーが発生するかもしれません。実行中に検出されたエラーは 例外 _(exception)_ と呼ばれ、常に致命的とは限りません。これから、Python プログラムで例外をどのように扱うかを学んでいきます。ほとんどの例外はプログラムで処理されず、以下に示されるようなメッセージになります:"
      ]
    },
    {
      "cell_type": "code",
      "metadata": {
        "id": "wrU0nd8sMZoo"
      },
      "source": [
        "10 * (1/0)"
      ],
      "execution_count": null,
      "outputs": []
    },
    {
      "cell_type": "code",
      "metadata": {
        "id": "OwvwS5oNMer7"
      },
      "source": [
        "4 + spam*3"
      ],
      "execution_count": null,
      "outputs": []
    },
    {
      "cell_type": "code",
      "metadata": {
        "id": "xDbwFk22MfES"
      },
      "source": [
        "'2' + 2"
      ],
      "execution_count": null,
      "outputs": []
    },
    {
      "cell_type": "markdown",
      "metadata": {
        "id": "8hdKXSUPL29a"
      },
      "source": [
        "エラーメッセージの最終行は何が起こったかを示しています。例外は様々な型 (type) で起こり、その型がエラーメッセージの一部として出力されます。上の例での型は [ZeroDivisionError](https://docs.python.org/ja/3/library/exceptions.html#ZeroDivisionError), [NameError](https://docs.python.org/ja/3/library/exceptions.html#NameError), [TypeError](https://docs.python.org/ja/3/library/exceptions.html#TypeError) です。例外型として出力される文字列は、発生した例外の組み込み名です。これは全ての組み込み例外について成り立ちますが、ユーザ定義の例外では (成り立つようにするのは有意義な慣習ですが) 必ずしも成り立ちません。標準例外の名前は組み込みの識別子です (予約語ではありません)。\n",
        "\n",
        "残りの行は例外の詳細で、その例外の型と何が起きたかに依存します。\n",
        "\n",
        "エラーメッセージの先頭部分では、例外が発生した実行コンテキスト (context) を、スタックのトレースバック (stack traceback) の形式で示しています。一般には、この部分にはソースコード行をリストしたトレースバックが表示されます。しかし、標準入力から読み取られたコードは表示されません。\n",
        "\n",
        "[組み込み例外](https://docs.python.org/ja/3/library/exceptions.html#bltin-exceptions) には、組み込み例外とその意味がリストされています。"
      ]
    },
    {
      "cell_type": "markdown",
      "metadata": {
        "id": "vS5zWsrzMxvy"
      },
      "source": [
        "## 8.3. 例外を処理する\n",
        "\n",
        "例外を選別して処理するようなプログラムを書くことができます。以下の例を見てください。この例では、有効な文字列が入力されるまでユーザに入力を促しますが、ユーザがプログラムに (Control-C か、またはオペレーティングシステムがサポートしている何らかのキーを使って) 割り込みをかけてプログラムを中断させることができるようにしています。ユーザが生成した割り込みは、 [KeyboardInterrupt](https://docs.python.org/ja/3/library/exceptions.html#KeyboardInterrupt) 例外が送出されることで通知されるということに注意してください。"
      ]
    },
    {
      "cell_type": "code",
      "metadata": {
        "id": "kOXPHt3OMzow"
      },
      "source": [
        "while True:\n",
        "    try:\n",
        "        x = int(input(\"Please enter a number: \"))\n",
        "        break\n",
        "    except ValueError:\n",
        "        print(\"Oops!  That was no valid number.  Try again...\")\n",
        "        "
      ],
      "execution_count": null,
      "outputs": []
    },
    {
      "cell_type": "markdown",
      "metadata": {
        "id": "kqyeSu9DJjcm"
      },
      "source": [
        "[try](https://docs.python.org/ja/3/reference/compound_stmts.html#try) 文は下記のように動作します。\n",
        "\n",
        "- まず、 _try_ 節 _(try clause)_ (キーワード [try](https://docs.python.org/ja/3/reference/compound_stmts.html#try) と [except](https://docs.python.org/ja/3/reference/compound_stmts.html#except) の間の文) が実行されます。\n",
        "\n",
        "- 何も例外が発生しなければ、 _except_ 節 をスキップして [try](https://docs.python.org/ja/3/reference/compound_stmts.html#try) 文の実行を終えます。\n",
        "\n",
        "- try 節内の実行中に例外が発生すると、その節の残りは飛ばされます。次に、例外型が [except](https://docs.python.org/ja/3/reference/compound_stmts.html#except) キーワードの後に指定されている例外に一致する場合、except 節が実行された後、 [try](https://docs.python.org/ja/3/reference/compound_stmts.html#try) 文の後ろへ実行が継続されます。\n",
        "\n",
        "- もしも except 節で指定された例外と一致しない例外が発生すると、その例外は [try](https://docs.python.org/ja/3/reference/compound_stmts.html#try) 文の外側に渡されます。例外に対するハンドラ (handler、処理部) がどこにもなければ、 処理されない例外 _(unhandled exception)_ となり、上記に示したようなメッセージを出して実行を停止します。\n",
        "\n",
        "一つの [try](https://docs.python.org/ja/3/reference/compound_stmts.html#try) 文には複数の except 節が付けられ、別々の例外に対するハンドラを指定できます。 多くとも一つのハンドラしか実行されません。 ハンドラは対応する try 節内で発生した例外だけを処理し、同じ try 節内の別の例外ハンドラで起きた例外は処理しません。 except 節では丸括弧で囲ったタプルという形で複数の例外を指定できます。例えば次のようにします:\n",
        "\n",
        "```\n",
        "... except (RuntimeError, TypeError, NameError):\n",
        "...     pass\n",
        "```\n",
        "\n"
      ]
    },
    {
      "cell_type": "markdown",
      "metadata": {
        "id": "3VbvINOhPTvQ"
      },
      "source": [
        "[except](https://docs.python.org/ja/3/reference/compound_stmts.html#except) 節のクラスは、例外と同じクラスか基底クラスのときに互換 (compatible)となります。 (逆方向では成り立ちません --- 派生クラスの例外がリストされている except 節は基底クラスの例外と互換ではありません)。例えば、次のコードは、 B, C, D を順序通りに出力します:"
      ]
    },
    {
      "cell_type": "code",
      "metadata": {
        "id": "rVEThGZnPIL5"
      },
      "source": [
        "class B(Exception):\n",
        "    pass\n",
        "\n",
        "class C(B):\n",
        "    pass\n",
        "\n",
        "class D(C):\n",
        "    pass\n",
        "\n",
        "for cls in [B, C, D]:\n",
        "    try:\n",
        "        raise cls()\n",
        "    except D:\n",
        "        print(\"D\")\n",
        "    except C:\n",
        "        print(\"C\")\n",
        "    except B:\n",
        "        print(\"B\")"
      ],
      "execution_count": null,
      "outputs": []
    },
    {
      "cell_type": "markdown",
      "metadata": {
        "id": "RPjDDqnoPEn8"
      },
      "source": [
        "except 節が逆に並んでいた場合 (```except B``` が最初にくる場合)、 B, B, B と出力されるはずだったことに注意してください --- 最初に一致した except 節が駆動されるのです。\n",
        "\n",
        "最後の except 節では例外名を省いて、ワイルドカード (wildcard、総称記号) にすることができます。ワイルドカードの except 節は非常に注意して使ってください。というのは、ワイルドカードは通常のプログラムエラーをたやすく隠してしまうからです！ワイルドカードの except 節はエラーメッセージを出力した後に例外を再送出する (関数やメソッドの呼び出し側が同様にして例外を処理できるようにする) 用途にも使えます:"
      ]
    },
    {
      "cell_type": "code",
      "metadata": {
        "id": "3SXEAf9jO-9E"
      },
      "source": [
        "import sys\n",
        "\n",
        "try:\n",
        "    f = open('myfile.txt')\n",
        "    s = f.readline()\n",
        "    i = int(s.strip())\n",
        "except OSError as err:\n",
        "    print(\"OS error: {0}\".format(err))\n",
        "except ValueError:\n",
        "    print(\"Could not convert data to an integer.\")\n",
        "except:\n",
        "    print(\"Unexpected error:\", sys.exc_info()[0])\n",
        "    raise\n"
      ],
      "execution_count": null,
      "outputs": []
    },
    {
      "cell_type": "markdown",
      "metadata": {
        "id": "W_kdwpzMO5v-"
      },
      "source": [
        "[try](https://docs.python.org/ja/3/reference/compound_stmts.html#try) ... [except](https://docs.python.org/ja/3/reference/compound_stmts.html#except) 文には、オプションで _else_ 節 _(else clause)_ を設けることができます。 [else](https://docs.python.org/ja/3/reference/compound_stmts.html#else) 節を設ける場合、全ての [except](https://docs.python.org/ja/3/reference/compound_stmts.html#except) 節よりも後ろに置かなければなりません。 [else](https://docs.python.org/ja/3/reference/compound_stmts.html#else) 節は try 節で全く例外が送出されなかったときに実行されるコードを書くのに役立ちます。例えば次のようにします:"
      ]
    },
    {
      "cell_type": "code",
      "metadata": {
        "id": "7ZXLqKbmOnQx"
      },
      "source": [
        "for arg in sys.argv[1:]:\n",
        "    try:\n",
        "        f = open(arg, 'r')\n",
        "    except OSError:\n",
        "        print('cannot open', arg)\n",
        "    else:\n",
        "        print(arg, 'has', len(f.readlines()), 'lines')\n",
        "        f.close()"
      ],
      "execution_count": null,
      "outputs": []
    },
    {
      "cell_type": "markdown",
      "metadata": {
        "id": "6k794URkOi4L"
      },
      "source": [
        "追加のコードを付け加えるのは [try](https://docs.python.org/ja/3/reference/compound_stmts.html#try) 節よりも else 節の方がよいでしょう。 なぜなら、そうすることで try ... except 文で保護されたコードから送出されたもの以外の例外を過って捕捉してしまうという事態を避けられるからです。\n",
        "\n",
        "例外が発生するとき、例外は関連付けられた値を持つことができます。この値は例外の 引数 _(argument)_ とも呼ばれます。引数の有無および引数の型は、例外の型に依存します。\n",
        "\n",
        "except 節では、例外名の後に変数を指定することができます。この変数は例外インスタンスに結び付けられており、 ```instance.args``` に例外インスタンス生成時の引数が入っています。例外インスタンスには [\\_\\_str\\_\\_()](https://docs.python.org/ja/3/reference/datamodel.html#object.__str__) が定義されており、 ```.args``` を参照しなくても引数を直接印字できるように利便性が図られています。必要なら、例外を送出する前にインスタンス化して、任意の属性を追加できます。"
      ]
    },
    {
      "cell_type": "code",
      "metadata": {
        "id": "aqMgA53aObBD"
      },
      "source": [
        "try:\n",
        "    raise Exception('spam', 'eggs')\n",
        "except Exception as inst:\n",
        "    print(type(inst))    # the exception instance\n",
        "    print(inst.args)     # arguments stored in .args\n",
        "    print(inst)          # __str__ allows args to be printed directly,\n",
        "                         # but may be overridden in exception subclasses\n",
        "    x, y = inst.args     # unpack args\n",
        "    print('x =', x)\n",
        "    print('y =', y)\n"
      ],
      "execution_count": null,
      "outputs": []
    },
    {
      "cell_type": "markdown",
      "metadata": {
        "id": "r0-g7HaPNrZ1"
      },
      "source": [
        "例外が引数を持っていれば、それらは処理されない例外のメッセージの最後の部分 (「詳細説明」) に出力されます。\n",
        "\n",
        "例外ハンドラは、try 節の直接内側で発生した例外を処理するだけではなく、その try 節から (たとえ間接的にでも) 呼び出された関数の内部で発生した例外も処理します。例えば:"
      ]
    },
    {
      "cell_type": "code",
      "metadata": {
        "id": "E4rJY121NgTM"
      },
      "source": [
        "def this_fails():\n",
        "    x = 1/0\n",
        "\n",
        "try:\n",
        "    this_fails()\n",
        "except ZeroDivisionError as err:\n",
        "    print('Handling run-time error:', err)\n"
      ],
      "execution_count": null,
      "outputs": []
    },
    {
      "cell_type": "markdown",
      "metadata": {
        "id": "Y2aQ9-pnJDic"
      },
      "source": [
        "## 8.4. 例外を送出する\n",
        "\n",
        "[raise](https://docs.python.org/ja/3/reference/simple_stmts.html#raise) 文を使って、特定の例外を発生させることができます。例えば:"
      ]
    },
    {
      "cell_type": "code",
      "metadata": {
        "id": "zVUSbBvSQooq"
      },
      "source": [
        "raise NameError('HiThere')"
      ],
      "execution_count": null,
      "outputs": []
    },
    {
      "cell_type": "markdown",
      "metadata": {
        "id": "XviQVxpUQdj2"
      },
      "source": [
        "[raise](https://docs.python.org/ja/3/reference/simple_stmts.html#raise) の唯一の引数は送出される例外を指し示します。 これは例外インスタンスか例外クラス ([Exception](https://docs.python.org/ja/3/library/exceptions.html#Exception) を継承したクラス) でなければなりません。 例外クラスが渡された場合は、引数無しのコンストラクタが呼び出され、暗黙的にインスタンス化されます:"
      ]
    },
    {
      "cell_type": "code",
      "metadata": {
        "id": "RElLgAXjQxv1"
      },
      "source": [
        "raise ValueError  # shorthand for 'raise ValueError()'"
      ],
      "execution_count": null,
      "outputs": []
    },
    {
      "cell_type": "markdown",
      "metadata": {
        "id": "R-C-pP5ZQyrj"
      },
      "source": [
        "例外が発生したかどうかを判定したいだけで、その例外を処理するつもりがなければ、単純な形式の [raise](https://docs.python.org/ja/3/reference/simple_stmts.html#raise) 文を使って例外を再送出させることができます:"
      ]
    },
    {
      "cell_type": "code",
      "metadata": {
        "id": "25pyfwtzQWuG"
      },
      "source": [
        "try:\n",
        "    raise NameError('HiThere')\n",
        "except NameError:\n",
        "    print('An exception flew by!')\n",
        "    raise\n"
      ],
      "execution_count": null,
      "outputs": []
    },
    {
      "cell_type": "markdown",
      "metadata": {
        "id": "keO5Pgm4Ho7S"
      },
      "source": [
        "## 8.5. 例外の連鎖\n",
        "\n",
        "The [raise](https://docs.python.org/ja/3/reference/simple_stmts.html#raise) statement allows an optional [from](https://docs.python.org/ja/3/reference/simple_stmts.html#from) which enables chaining exceptions. For example:\n",
        "```\n",
        "# exc must be exception instance or None.\n",
        "raise RuntimeError from exc\n",
        "```"
      ]
    },
    {
      "cell_type": "markdown",
      "metadata": {
        "id": "p1-zGDkIB3SJ"
      },
      "source": [
        "This can be useful when you are transforming exceptions. For example:"
      ]
    },
    {
      "cell_type": "code",
      "metadata": {
        "id": "U_2NRAq3RIyM"
      },
      "source": [
        "def func():\n",
        "    raise IOError\n",
        "\n",
        "try:\n",
        "    func()\n",
        "except IOError as exc:\n",
        "    raise RuntimeError('Failed to open database') from exc\n"
      ],
      "execution_count": null,
      "outputs": []
    },
    {
      "cell_type": "markdown",
      "metadata": {
        "id": "MWOdJAOEHvq7"
      },
      "source": [
        "The above exception was the direct cause of the following exception:\n",
        "\n",
        "```\n",
        "Traceback (most recent call last):\n",
        "  File \"<stdin>\", line 4, in <module>\n",
        "RuntimeError: Failed to open database\n",
        "```"
      ]
    },
    {
      "cell_type": "markdown",
      "metadata": {
        "id": "eCafpg0LHyD-"
      },
      "source": [
        "Exception chaining happens automatically when an exception is raised inside an [except](https://docs.python.org/ja/3/reference/compound_stmts.html#except) or [finally](https://docs.python.org/ja/3/reference/compound_stmts.html#finally) section. Exception chaining can be disabled by using ```from None``` idiom:"
      ]
    },
    {
      "cell_type": "code",
      "metadata": {
        "id": "QkimppDGRqE5"
      },
      "source": [
        "try:\n",
        "    open('database.sqlite')\n",
        "except IOError:\n",
        "    raise RuntimeError from None\n",
        "    "
      ],
      "execution_count": null,
      "outputs": []
    },
    {
      "cell_type": "markdown",
      "metadata": {
        "id": "1KseB2wxHz30"
      },
      "source": [
        "For more information about chaining mechanics, see [組み込み例外](https://docs.python.org/ja/3/library/exceptions.html#bltin-exceptions)."
      ]
    },
    {
      "cell_type": "markdown",
      "metadata": {
        "id": "ECoTIIlJ_-sa"
      },
      "source": [
        "## 8.6. ユーザー定義例外\n",
        "\n",
        "プログラム上で新しい例外クラスを作成することで、独自の例外を指定することができます (Python のクラスについては [クラス](https://docs.python.org/ja/3/tutorial/classes.html#tut-classes) 参照)。例外は、典型的に [Exception](https://docs.python.org/ja/3/library/exceptions.html#Exception) クラスから、直接または間接的に派生したものです。\n",
        "\n",
        "例外クラスでは、普通のクラスができることなら何でも定義することができますが、通常は単純なものにしておきます。大抵は、いくつかの属性だけを提供し、例外が発生したときにハンドラがエラーに関する情報を取り出せるようにする程度にとどめます。複数の別個の例外を送出するようなモジュールを作成する際には、そのモジュールで定義されている例外の基底クラスを作成するのが一般的なプラクティスです:\n",
        "\n"
      ]
    },
    {
      "cell_type": "code",
      "metadata": {
        "id": "ldz39GjBAcLt"
      },
      "source": [
        "class Error(Exception):\n",
        "    \"\"\"Base class for exceptions in this module.\"\"\"\n",
        "    pass\n",
        "\n",
        "class InputError(Error):\n",
        "    \"\"\"Exception raised for errors in the input.\n",
        "\n",
        "    Attributes:\n",
        "        expression -- input expression in which the error occurred\n",
        "        message -- explanation of the error\n",
        "    \"\"\"\n",
        "\n",
        "    def __init__(self, expression, message):\n",
        "        self.expression = expression\n",
        "        self.message = message\n",
        "\n",
        "class TransitionError(Error):\n",
        "    \"\"\"Raised when an operation attempts a state transition that's not\n",
        "    allowed.\n",
        "\n",
        "    Attributes:\n",
        "        previous -- state at beginning of transition\n",
        "        next -- attempted new state\n",
        "        message -- explanation of why the specific transition is not allowed\n",
        "    \"\"\"\n",
        "\n",
        "    def __init__(self, previous, next, message):\n",
        "        self.previous = previous\n",
        "        self.next = next\n",
        "        self.message = message"
      ],
      "execution_count": null,
      "outputs": []
    },
    {
      "cell_type": "markdown",
      "metadata": {
        "id": "C31dsmzNAipp"
      },
      "source": [
        "ほとんどの例外は、標準の例外の名前付けと同様に、\"Error\" で終わる名前で定義されています。\n",
        "\n",
        "多くの標準モジュールでは、モジュールで定義されている関数内で発生する可能性のあるエラーを報告させるために、独自の例外を定義しています。クラスについての詳細な情報は [クラス](https://docs.python.org/ja/3/tutorial/classes.html#tut-classes) 章で提供されています。"
      ]
    },
    {
      "cell_type": "markdown",
      "metadata": {
        "id": "IV6O5sWkW3Ex"
      },
      "source": [
        "## 8.7. クリーンアップ動作を定義する\n",
        "\n",
        "[try](https://docs.python.org/ja/3/reference/compound_stmts.html#try) 文にはもう一つオプションの節があります。この節はクリーンアップ動作を定義するためのもので、どんな状況でも必ず実行されます。例を示します:"
      ]
    },
    {
      "cell_type": "code",
      "metadata": {
        "id": "2VZ6tqeaW3ov"
      },
      "source": [
        "try:\n",
        "    raise KeyboardInterrupt\n",
        "finally:\n",
        "    print('Goodbye, world!')\n"
      ],
      "execution_count": null,
      "outputs": []
    },
    {
      "cell_type": "markdown",
      "metadata": {
        "id": "tkA69LlM8Vsm"
      },
      "source": [
        "もし [finally](https://docs.python.org/ja/3/reference/compound_stmts.html#finally) 節がある場合、 [try](https://docs.python.org/ja/3/reference/compound_stmts.html#try) 文が終わる前の最後の処理を、 finally 節が実行します。 try 文が例外を発生させるか否かに関わらず、 finally 節は実行されます。以下では、例外が発生するという更に複雑なケースを議論します:\n",
        "\n",
        "- もし try 文の実行中に例外が発生したら、その例外は [except](https://docs.python.org/ja/3/reference/compound_stmts.html#except) 節によって処理されるでしょう。もしその例外が except 節によって処理されなければ、 finally 節が実行された後に、その例外が再送出されます。\n",
        "\n",
        "- except 節または else 節の実行中に例外が発生することがあり得ます。その場合も、 finally 節が実行された後に例外が再送出されます。\n",
        "\n",
        "- もし try 文が [break](https://docs.python.org/ja/3/reference/simple_stmts.html#break) 文、 [continue](https://docs.python.org/ja/3/reference/simple_stmts.html#continue) 文または [return](https://docs.python.org/ja/3/reference/simple_stmts.html#return) 文のいずれかに達すると、その**:keyword:_!break_** 文、 continue 文または return 文の実行の直前に finally 節が実行されます。\n",
        "\n",
        "- もし finally 節が return 文を含む場合、返される値は try 節の return 文ではなく、finally 節の return 文によるものになります。\n",
        "\n",
        "例えば:\n",
        "\n"
      ]
    },
    {
      "cell_type": "code",
      "metadata": {
        "id": "7jnQWM3F9PgO"
      },
      "source": [
        "def bool_return():\n",
        "    try:\n",
        "        return True\n",
        "    finally:\n",
        "        return False\n",
        "\n",
        "bool_return()"
      ],
      "execution_count": null,
      "outputs": []
    },
    {
      "cell_type": "markdown",
      "metadata": {
        "id": "UiiLqDxh9b-Y"
      },
      "source": [
        "より複雑な例:"
      ]
    },
    {
      "cell_type": "code",
      "metadata": {
        "id": "Etklo7gN9gsu"
      },
      "source": [
        "def divide(x, y):\n",
        "    try:\n",
        "        result = x / y\n",
        "    except ZeroDivisionError:\n",
        "        print(\"division by zero!\")\n",
        "    else:\n",
        "        print(\"result is\", result)\n",
        "    finally:\n",
        "        print(\"executing finally clause\")\n",
        "\n",
        "divide(2, 1)"
      ],
      "execution_count": null,
      "outputs": []
    },
    {
      "cell_type": "code",
      "metadata": {
        "id": "dvrU6o1Y9qtM"
      },
      "source": [
        "divide(2, 0)"
      ],
      "execution_count": null,
      "outputs": []
    },
    {
      "cell_type": "code",
      "metadata": {
        "id": "91uAZkRER85r"
      },
      "source": [
        "divide(\"2\", \"1\")"
      ],
      "execution_count": null,
      "outputs": []
    },
    {
      "cell_type": "markdown",
      "metadata": {
        "id": "45vAeJex9Tx8"
      },
      "source": [
        "見てわかるとおり、 [finally](https://docs.python.org/ja/3/reference/compound_stmts.html#finally) 節はどの場合にも実行されています。 文字列で割り算をすることで発生した [TypeError](https://docs.python.org/ja/3/library/exceptions.html#TypeError) は [except](https://docs.python.org/ja/3/reference/compound_stmts.html#except) 節で処理されていないので、 finally 節実行後に再度送出されています。\n",
        "\n",
        "実世界のアプリケーションでは、 [finally](https://docs.python.org/ja/3/reference/compound_stmts.html#finally) 節は(ファイルやネットワーク接続などの)外部リソースを、利用が成功したかどうかにかかわらず解放するために便利です。"
      ]
    },
    {
      "cell_type": "markdown",
      "metadata": {
        "id": "d-yyD-Cj8AV5"
      },
      "source": [
        "## 8.8. 定義済みクリーンアップ処理\n",
        "\n",
        "オブジェクトのなかには、その利用の成否にかかわらず、不要になった際に実行される標準的なクリーンアップ処理が定義されているものがあります。以下の、ファイルをオープンして内容を画面に表示する例をみてください。\n",
        "```\n",
        "for line in open(\"myfile.txt\"):\n",
        "    print(line, end=\"\")\n",
        "```\n",
        "このコードの問題点は、コードの実行が終わった後に不定の時間ファイルを開いたままでいることです。これは単純なスクリプトでは問題になりませんが、大きなアプリケーションでは問題になりえます。 [with](https://docs.python.org/ja/3/reference/compound_stmts.html#with) 文はファイルのようなオブジェクトが常に、即座に正しくクリーンアップされることを保証します。\n",
        "```\n",
        "with open(\"myfile.txt\") as f:\n",
        "    for line in f:\n",
        "        print(line, end=\"\")\n",
        "```\n",
        "この文が実行されたあとで、たとえ行の処理中に問題があったとしても、ファイル _f_ は常に close されます。ファイルなどの、定義済みクリーンアップ処理を持つオブジェクトについては、それぞれのドキュメントで示されます。"
      ]
    }
  ]
}