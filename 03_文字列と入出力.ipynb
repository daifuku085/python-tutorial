{
  "nbformat": 4,
  "nbformat_minor": 0,
  "metadata": {
    "colab": {
      "name": "03_文字列と入出力.ipynb",
      "provenance": [],
      "authorship_tag": "ABX9TyOXIylD+VW6X8F/j6ZEU6IC",
      "include_colab_link": true
    },
    "kernelspec": {
      "name": "python3",
      "display_name": "Python 3"
    }
  },
  "cells": [
    {
      "cell_type": "markdown",
      "metadata": {
        "id": "view-in-github",
        "colab_type": "text"
      },
      "source": [
        "<a href=\"https://colab.research.google.com/github/daifuku085/python-tutorial/blob/main/03_%E6%96%87%E5%AD%97%E5%88%97%E3%81%A8%E5%85%A5%E5%87%BA%E5%8A%9B.ipynb\" target=\"_parent\"><img src=\"https://colab.research.google.com/assets/colab-badge.svg\" alt=\"Open In Colab\"/></a>"
      ]
    },
    {
      "cell_type": "markdown",
      "metadata": {
        "id": "xDSOkrWeJTNy"
      },
      "source": [
        "# **文字列と入出力**"
      ]
    },
    {
      "cell_type": "markdown",
      "metadata": {
        "id": "UUlwBtuZJYf4"
      },
      "source": [
        "## **文字列**"
      ]
    },
    {
      "cell_type": "markdown",
      "metadata": {
        "id": "KmThcol-Ja7n"
      },
      "source": [
        "これまでは数字ばかりを使ってきましたが、数字以外にも、文章や人名などの文字データも、もちろん使えます。こういった文字データは、**文字列** といいます。\n",
        "\n",
        "Pythonでは、文字列は文字の前後を ```\"```(ダブルクォテーション) か ```'```(シングルクォテーション) で囲んで記述します。"
      ]
    },
    {
      "cell_type": "code",
      "metadata": {
        "id": "PUVDEx6mJgm2"
      },
      "source": [
        "\"Python Programming!\""
      ],
      "execution_count": null,
      "outputs": []
    },
    {
      "cell_type": "code",
      "metadata": {
        "id": "aeA428jdJj72"
      },
      "source": [
        "'Python Programming!'"
      ],
      "execution_count": null,
      "outputs": []
    },
    {
      "cell_type": "markdown",
      "metadata": {
        "id": "xKqxxjbXJiF-"
      },
      "source": [
        "```\"``` でも ```'``` でも、結果は一緒です。好きな方を使ってかまいません。本講座では、基本的に ```\"``` を使います。 「好きな方と言われても困る」という方は、とりあえず ```\"``` に統一するといいかもしれません。でも、本当にどっちでもいいんです。"
      ]
    },
    {
      "cell_type": "markdown",
      "metadata": {
        "id": "WJedRiGwKUEt"
      },
      "source": [
        "## **print() 関数**"
      ]
    },
    {
      "cell_type": "markdown",
      "metadata": {
        "id": "eCxXCxUuKWVO"
      },
      "source": [
        "Pythonの関数の中で、もっともよく使われる関数に ```print()``` 関数があります。\n",
        "\n",
        "```print()``` 関数は、引数として指定した値を画面に出力します。"
      ]
    },
    {
      "cell_type": "code",
      "metadata": {
        "id": "I4P8OdzsKTHZ"
      },
      "source": [
        "print(42)"
      ],
      "execution_count": null,
      "outputs": []
    },
    {
      "cell_type": "markdown",
      "metadata": {
        "id": "sXaMHE2cKdqU"
      },
      "source": [
        "```print()``` 関数には、複数の値を指定できます。"
      ]
    },
    {
      "cell_type": "code",
      "metadata": {
        "id": "uY9t_wd3KhkQ"
      },
      "source": [
        "print(1,2,3)"
      ],
      "execution_count": null,
      "outputs": []
    },
    {
      "cell_type": "markdown",
      "metadata": {
        "id": "lDTcllsXLdn0"
      },
      "source": [
        "## **文字列と print() 関数**"
      ]
    },
    {
      "cell_type": "markdown",
      "metadata": {
        "id": "_kRVO8sFLhrs"
      },
      "source": [
        "文字列を ```print()``` 関数で使うと、Pythonの表現力がぐっと上がります。 さきほどの **れんしゅうもんだい** を、 ```print()``` 関数を使って書いてみましょう。"
      ]
    },
    {
      "cell_type": "code",
      "metadata": {
        "id": "bTm6l_uYLn_U"
      },
      "source": [
        "print(\"もも5つと、みかん8つで\", 100 * 5 + 40 * 8, \"円になります。\")"
      ],
      "execution_count": null,
      "outputs": []
    },
    {
      "cell_type": "markdown",
      "metadata": {
        "id": "_8AVHQFbLthD"
      },
      "source": [
        "## **input() 関数**"
      ]
    },
    {
      "cell_type": "markdown",
      "metadata": {
        "id": "hEJoG5NvL3fT"
      },
      "source": [
        "```input()``` 関数を使うと、キーボードを使って、文字列データを入力できます。 Colabでは、\n",
        "\n",
        "```\n",
        ">>> input(\"好きな文字を入力してください\")\n",
        "```\n",
        "\n",
        "と ```input()``` 関数を実行すると、次のように文字を入力できるようになります。\n",
        "\n",
        "![](https://www.python.jp/train/string/input_func.png)\n",
        "\n",
        "図の入力エリアに適当な文章を入力し、エンターキーを入力すると、入力した文章が ```input()``` 関数の戻り値になります。"
      ]
    },
    {
      "cell_type": "markdown",
      "metadata": {
        "id": "31qTRxApMWda"
      },
      "source": [
        "```input(\"好きな文字を入力してください\")``` のように、```input()``` 関数の引数に文字列を指定すると、入力フィールドの前に表示されます。入力してもらいたい文字の説明などを指定しましょう。このような文字列は、**プロンプト** と言います。\n",
        "\n",
        "プロンプトが必要なければ、文字列を指定せずに\n",
        "```\n",
        "input()\n",
        "```\n",
        "とだけ書いてもOKです。"
      ]
    },
    {
      "cell_type": "markdown",
      "metadata": {
        "id": "Dj3GOa4cMlOd"
      },
      "source": [
        "次の例は、\n",
        "\n",
        "1. ```input()``` 関数で入力した文字列を変数 ```string``` に代入し、\n",
        "2. 変数 ```string``` を ```print()```関数で出力します。"
      ]
    },
    {
      "cell_type": "code",
      "metadata": {
        "id": "7mc5suunL7jT"
      },
      "source": [
        "string = input(\"文字列を入力してください:\")\n",
        "print(\"文字列\", string, \"が入力されました。\")"
      ],
      "execution_count": null,
      "outputs": []
    },
    {
      "cell_type": "markdown",
      "metadata": {
        "id": "ifVGO-gWL91v"
      },
      "source": [
        "## **メソッド**"
      ]
    },
    {
      "cell_type": "markdown",
      "metadata": {
        "id": "S7L7n_FBMzjD"
      },
      "source": [
        "文字列などのデータには、そのデータを操作するための、専用の **関数** が結びついています。\n",
        "\n",
        "たとえば、文字列データには、その文字列の文字をすべて大文字に変換した文字列を作成する関数 ```upper()``` があります。```upper()```は、次のように使います。"
      ]
    },
    {
      "cell_type": "code",
      "metadata": {
        "id": "WUyZPyC2M6nX"
      },
      "source": [
        "text = \"lower letters\" # 変数 text に 文字列 \"lower letters\"を代入\n",
        "uppered_text = text.upper() # upper() メソッドで、大文字を作成\n",
        "print(uppered_text)"
      ],
      "execution_count": null,
      "outputs": []
    },
    {
      "cell_type": "markdown",
      "metadata": {
        "id": "tSN5drZyNBJF"
      },
      "source": [
        "```lower letters``` の文字をすべて大文字に変換した文字列が、戻り値となっているのがわかると思います。\n",
        "このように、データに結びついた関数のことを、**メソッド** と呼びます。メソッドは、次のように呼び出します。\n",
        "\n",
        "```\n",
        "データ.メソッド名(引数1, 引数2, 引数3, ...)\n",
        "```"
      ]
    },
    {
      "cell_type": "markdown",
      "metadata": {
        "id": "MG-4z2M0NDTx"
      },
      "source": [
        "上で紹介した、\n",
        "\n",
        "```\n",
        "text = \"lower letters\" # 変数 text に 文字列 \"lower letters\"を代入\n",
        "uppered_text = text.upper() # upper() メソッドで、大文字を作成\n",
        "```\n",
        "\n",
        "というプログラムでは、```lower letters``` というデータの、```upper()``` というメソッドを呼び出しています。"
      ]
    },
    {
      "cell_type": "markdown",
      "metadata": {
        "id": "jxbn9Sj0NeGY"
      },
      "source": [
        "**文字列のfindメソッド**\n",
        "\n",
        "もう一つのメソッドの例として、文字列データのメソッド ```find()``` を紹介します。```find()``` メソッドは、文字列の中に、ある文字列があるかどうか調べるメソッドです。\n",
        "\n",
        "たとえば、```The shells she sells are sea-shells, I'm sure.``` という文字列に ```sea``` という文字列が含まれているかどうか調べる場合は、次のように書きます。"
      ]
    },
    {
      "cell_type": "code",
      "metadata": {
        "id": "hSlL1VUENm4h"
      },
      "source": [
        "text = \"The shells she sells are sea-shells, I'm sure.\"\n",
        "text.find(\"sea\")"
      ],
      "execution_count": null,
      "outputs": []
    },
    {
      "cell_type": "markdown",
      "metadata": {
        "id": "OOGFauiQNrfg"
      },
      "source": [
        "この例では、```The shells she sells are sea-shells, I'm sure.``` というデータの ```find()``` メソッドを、```sea``` という引数を指定して呼び出しています。"
      ]
    },
    {
      "cell_type": "markdown",
      "metadata": {
        "id": "3_SSFLJ_N8xX"
      },
      "source": [
        "```find()``` メソッドは、引数で指定した文字列が含まれていれば、その位置を戻り値として返します。この例では、```The shells she sells are sea-shells, I'm sure.``` の、25番目の文字が ```sea``` となっています。(注:先頭の文字を0番目として数えて、25番目です。Pythonでは、順序は常に ```0``` から数えます。)"
      ]
    },
    {
      "cell_type": "markdown",
      "metadata": {
        "id": "KevMuOa9OFX3"
      },
      "source": [
        "### **メソッドと関数**"
      ]
    },
    {
      "cell_type": "markdown",
      "metadata": {
        "id": "nEDDya6vOymE"
      },
      "source": [
        "メソッドは **関数** の一種です。これまで見てきたように、特定のデータに結びつき、\n",
        "\n",
        "```\n",
        "データ.メソッド名()\n",
        "```\n",
        "\n",
        "の形式で呼び出してデータを操作する関数を、**メソッド** と呼びます。"
      ]
    },
    {
      "cell_type": "markdown",
      "metadata": {
        "id": "5en0BE9RPARA"
      },
      "source": [
        "**メソッド** は、結びついている **データ** を対象として、処理を行います。例えば、\n",
        "\n",
        "```\n",
        "\"lower letters\".upper()\n",
        "```\n",
        "\n",
        "は、文字列データの ```lower letters``` に結び付けられた ```upper()``` メソッドを呼び出しています。```upper()``` メソッドは、結びついているデータである ```lower letters``` を大文字に変換します。\n",
        "\n",
        "一方、**関数** は、特定のデータには結びついておらず、操作する対象のデータを引数として指定します。たとえば、**abs() 関数** では、絶対値を求める対象の数値データを、\n",
        "\n",
        "```\n",
        "abs(-100)\n",
        "```\n",
        "\n",
        "のように、引数として指定します。"
      ]
    },
    {
      "cell_type": "markdown",
      "metadata": {
        "id": "FtCfUF-lPXAu"
      },
      "source": [
        "このように、Pythonが提供する機能には、```abs()``` のように **関数** として提供されているものと、 ```文字列.upper()``` のように **メソッド** として提供されているものがあります。特定のデータに強く結びつき、利用頻度が高い処理はメソッドとして使えるようになっており、それ以外の処理は関数として使えるようになっていることが多いようです。"
      ]
    },
    {
      "cell_type": "markdown",
      "metadata": {
        "id": "FE64ZIlePugV"
      },
      "source": [
        "### **メソッドとデータ**"
      ]
    },
    {
      "cell_type": "markdown",
      "metadata": {
        "id": "CFjDWt_IPyvG"
      },
      "source": [
        "Pythonのデータには、その種類に応じて、別々のメソッドが用意されています。上で紹介した ```lower()``` メソッドや ```find()``` メソッドは、文字列データだけで使える、専用のメソッドです。たとえば、```lower()``` メソッドを数値データに使おうとすると、次のようなエラーになります。"
      ]
    },
    {
      "cell_type": "code",
      "metadata": {
        "id": "dIiTPsIaP3Zl"
      },
      "source": [
        "data = 10000\n",
        "data.lower()"
      ],
      "execution_count": null,
      "outputs": []
    },
    {
      "cell_type": "markdown",
      "metadata": {
        "id": "7trac7hJP7aN"
      },
      "source": [
        "数字に大文字も小文字もありませんから、数値にはこんなメソッドは必要ありませんね。"
      ]
    },
    {
      "cell_type": "markdown",
      "metadata": {
        "id": "iYfKEtSXP94l"
      },
      "source": [
        "逆に、数値には数値で、別に専用のメソッドが用意されています。例えば、数値データには ```as_integer_ratio()``` メソッドが用意されており、**実数** を分数のように2つの整数の比で表します。\n",
        "\n",
        "たとえば、実数の ```0.5``` は 1/2 ですから、```as_integer_ratio()``` メソッドを使うと、"
      ]
    },
    {
      "cell_type": "code",
      "metadata": {
        "id": "sL_0fj6tQKGN"
      },
      "source": [
        "data = 0.5\n",
        "data.as_integer_ratio()"
      ],
      "execution_count": null,
      "outputs": []
    },
    {
      "cell_type": "markdown",
      "metadata": {
        "id": "DSMccNf6QQZU"
      },
      "source": [
        "のように、 ```1``` と ```2``` の比である、と求められます。"
      ]
    },
    {
      "cell_type": "markdown",
      "metadata": {
        "id": "MrkN2ZjRQSdR"
      },
      "source": [
        "この「値を整数の比で表す」というのは、数値だけで有効な処理です。数値以外の、文字列などのデータを「整数の比で表わす」といわれても困ってしまいます。ですから、```as_integer_ratio()```メソッドは数値データ専用のメソッドで、文字列データで使おうとすると次のようにエラーになります。"
      ]
    },
    {
      "cell_type": "code",
      "metadata": {
        "id": "RWYj4GceQYKK"
      },
      "source": [
        "data = \"abracadabra\"\n",
        "data.as_integer_ratio()"
      ],
      "execution_count": null,
      "outputs": []
    },
    {
      "cell_type": "markdown",
      "metadata": {
        "id": "w9ZVsi0JQbx1"
      },
      "source": [
        "このように、データはその種類ごとに、専用のメソッドをたくさん持っています。すべてのメソッドを紹介することはできませんが、Python公式サイトには、[**文字列データのメソッド一覧**](https://docs.python.org/ja/3/library/stdtypes.html#string-methods) や [**数値データのメソッド一覧**](https://docs.python.org/ja/3/library/stdtypes.html#additional-methods-on-integer-types) がありますので、興味があれば参照してみてください。"
      ]
    },
    {
      "cell_type": "markdown",
      "metadata": {
        "id": "93OKSLuyQn28"
      },
      "source": [
        "### **練習問題**"
      ]
    },
    {
      "cell_type": "markdown",
      "metadata": {
        "id": "3M-Ilx4VQsKa"
      },
      "source": [
        "```input()``` 関数で入力した文字列を、すべて小文字に変換して表示するプログラムを書いてみましょう。\n",
        "\n",
        "文字列の ```lower()``` メソッドで、小文字に変換した文字列を作成できます。"
      ]
    },
    {
      "cell_type": "code",
      "metadata": {
        "id": "MRxSrX9eQvxf"
      },
      "source": [
        ""
      ],
      "execution_count": null,
      "outputs": []
    },
    {
      "cell_type": "markdown",
      "metadata": {
        "id": "KlMPASutQzuX"
      },
      "source": [
        "[**回答例**](https://www.python.jp/train/string/method.html#%E5%9B%9E%E7%AD%94%E4%BE%8B)\n",
        "\n",
        "この例では、変数 ```text``` の、```lower()``` メソッドを使って、小文字に変換した文字列を作っています。\n",
        "\n",
        "ここで、 ```lower()``` メソッドを呼び出したあとでも、変数 ```text``` に代入した文字列は大文字のままで、小文字には変換されていない、という点を確認してください。文字列の ```lower()``` メソッドは、変数 ```text``` の文字列を **変更** するメソッドではなく、あたらしく小文字からなる文字列を **作成** するメソッドなのです。"
      ]
    },
    {
      "cell_type": "markdown",
      "metadata": {
        "id": "1P4kYJrWRIqW"
      },
      "source": [
        "## **文字列の演算子と数値**"
      ]
    },
    {
      "cell_type": "markdown",
      "metadata": {
        "id": "NAzY6HCNRUoW"
      },
      "source": [
        "Pythonでは、文字列はこれまで使ってきたような数値とはまったく違った種類のデータとして扱われています。\n",
        "\n",
        "数値同士の足し算では、値と値を加算した結果が得られます。整数の ```123``` と ```456``` を足せば、```579``` になります。"
      ]
    },
    {
      "cell_type": "code",
      "metadata": {
        "id": "WYcT3hR-RpVU"
      },
      "source": [
        "123 + 456"
      ],
      "execution_count": null,
      "outputs": []
    },
    {
      "cell_type": "markdown",
      "metadata": {
        "id": "_02BoUIDRp6b"
      },
      "source": [
        "しかし、文字列同士の足し算は、文字列の連結になります。文字列の ```\"123\"``` と ```\"456\"``` を足すと、```\"123456\"``` になります。"
      ]
    },
    {
      "cell_type": "code",
      "metadata": {
        "id": "eZudjJMPRvMD"
      },
      "source": [
        "\"123\" + \"456\""
      ],
      "execution_count": null,
      "outputs": []
    },
    {
      "cell_type": "markdown",
      "metadata": {
        "id": "5qRGVzCRRwme"
      },
      "source": [
        "また、数値と文字列を足すと、次のようなエラーになり、加算することはできません。"
      ]
    },
    {
      "cell_type": "code",
      "metadata": {
        "id": "XzMblF9PRyfL"
      },
      "source": [
        "123 + \"456\""
      ],
      "execution_count": null,
      "outputs": []
    },
    {
      "cell_type": "markdown",
      "metadata": {
        "id": "qzQWRMsZR0fm"
      },
      "source": [
        "### **文字列の数値化**"
      ]
    },
    {
      "cell_type": "markdown",
      "metadata": {
        "id": "5B4zf-B_R2Si"
      },
      "source": [
        "数字だけからなる文字列は、次のように ```int()``` を使って整数に変換できます。"
      ]
    },
    {
      "cell_type": "code",
      "metadata": {
        "id": "2bqkvMgiR6Tv"
      },
      "source": [
        "text = \"123\"\n",
        "print(int(text))"
      ],
      "execution_count": null,
      "outputs": []
    },
    {
      "cell_type": "markdown",
      "metadata": {
        "id": "jb-V_TIsR71y"
      },
      "source": [
        "```int()``` をつかって、文字列 ```\"123\"``` と ```\"456\"``` を、数字に変換してから足してみましょう。"
      ]
    },
    {
      "cell_type": "code",
      "metadata": {
        "id": "iUnuFSRNSAVa"
      },
      "source": [
        "text1 = \"123\"\n",
        "text2 = \"456\"\n",
        "\n",
        "print(text1, \"と\", text2, \"を足すと\", int(text1) + int(text2), 'になります')"
      ],
      "execution_count": null,
      "outputs": []
    },
    {
      "cell_type": "markdown",
      "metadata": {
        "id": "54XbgQfQSCXL"
      },
      "source": [
        "また、```float()```使うと、float型に変換できます。"
      ]
    },
    {
      "cell_type": "code",
      "metadata": {
        "id": "oNo1gHUwSFz8"
      },
      "source": [
        "text = \"123.4\"\n",
        "float(text)"
      ],
      "execution_count": null,
      "outputs": []
    },
    {
      "cell_type": "markdown",
      "metadata": {
        "id": "4uBVXRYnSJpK"
      },
      "source": [
        "数字以外の文字は、数値にはできません。次のようなエラーになります。"
      ]
    },
    {
      "cell_type": "code",
      "metadata": {
        "id": "uyiBzu_GSLfK"
      },
      "source": [
        "int(\"Hello\")"
      ],
      "execution_count": null,
      "outputs": []
    }
  ]
}