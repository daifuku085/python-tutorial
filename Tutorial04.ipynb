{
  "nbformat": 4,
  "nbformat_minor": 0,
  "metadata": {
    "colab": {
      "name": "Tutorial04.ipynb",
      "provenance": [],
      "collapsed_sections": [
        "jUe3th4Bq5Ct",
        "Orhl31lXskw6",
        "fcCkMCGBvhj9",
        "vVl2mnhz5-cQ",
        "ZUDXgQAx6FSS",
        "xX3a_n_U6Vji",
        "Mdzn-qn_76Yq",
        "J8Pp3jXqBWWC",
        "f-95swoRBmVV"
      ],
      "toc_visible": true,
      "authorship_tag": "ABX9TyP0Q+IlatIaO0wETTzJZCUs",
      "include_colab_link": true
    },
    "kernelspec": {
      "name": "python3",
      "display_name": "Python 3"
    }
  },
  "cells": [
    {
      "cell_type": "markdown",
      "metadata": {
        "id": "view-in-github",
        "colab_type": "text"
      },
      "source": [
        "<a href=\"https://colab.research.google.com/github/daifuku085/python-tutorial/blob/main/Tutorial04.ipynb\" target=\"_parent\"><img src=\"https://colab.research.google.com/assets/colab-badge.svg\" alt=\"Open In Colab\"/></a>"
      ]
    },
    {
      "cell_type": "markdown",
      "metadata": {
        "id": "EevJLHUznCHb"
      },
      "source": [
        "# 4. その他の制御フローツール\n",
        "\n",
        "先ほど説明のあった [while](https://docs.python.org/ja/3/reference/compound_stmts.html#while) 文に加えて、他の言語での経験から分かるような通常のフロー制御文を少し工夫を効かせて使用します。"
      ]
    },
    {
      "cell_type": "markdown",
      "metadata": {
        "id": "Qgb_azZenIVD"
      },
      "source": [
        "## 4.1. if 文\n",
        "\n",
        "おそらく最もおなじみの文型は [if](https://docs.python.org/ja/3/reference/compound_stmts.html#if) 文でしょう。例えば:"
      ]
    },
    {
      "cell_type": "code",
      "metadata": {
        "id": "48Tul8w4nOti"
      },
      "source": [
        "x = int(input(\"Please enter an integer: \"))"
      ],
      "execution_count": null,
      "outputs": []
    },
    {
      "cell_type": "code",
      "metadata": {
        "id": "H3FB5CRpnQva"
      },
      "source": [
        "if x < 0:\n",
        "  x = 0\n",
        "  print('Negative changed to zero')\n",
        "elif x == 0:\n",
        "  print('Zero')\n",
        "elif x == 1:\n",
        "  print('Single')\n",
        "else:\n",
        "  print('More')"
      ],
      "execution_count": null,
      "outputs": []
    },
    {
      "cell_type": "markdown",
      "metadata": {
        "id": "jvUKWnYQndW5"
      },
      "source": [
        "ゼロ個以上の [elif](https://docs.python.org/ja/3/reference/compound_stmts.html#elif) 部を使うことができ、 [else](https://docs.python.org/ja/3/reference/compound_stmts.html#else) 部を付けることもできます。キーワード 'elif' は 'else if' を短くしたもので、過剰なインデントを避けるのに役立ちます。一連の if ... elif ... elif ... は、他の言語における ```switch``` 文や ```case``` 文の代用となります。"
      ]
    },
    {
      "cell_type": "markdown",
      "metadata": {
        "id": "4Vs7BSBunsDz"
      },
      "source": [
        "## 4.2. for 文\n",
        "\n",
        "Python の [for](https://docs.python.org/ja/3/reference/compound_stmts.html#for) 文は、読者が C 言語や Pascal 言語で使いなれているかもしれない [for](https://docs.python.org/ja/3/reference/compound_stmts.html#for) 文とは少し違います。 (Pascal のように) 常に算術型の数列にわたる反復を行ったり、 (C のように) 繰返しステップと停止条件を両方ともユーザが定義できるようにするのとは違い、Python の for 文は、任意のシーケンス型 (リストまたは文字列) にわたって反復を行います。反復の順番はシーケンス中に要素が現れる順番です。例えば:"
      ]
    },
    {
      "cell_type": "code",
      "metadata": {
        "id": "475AVITXnZ6p"
      },
      "source": [
        "# Measure some strings:\n",
        "words = ['cat', 'window', 'defenestrate']\n",
        "for w in words:\n",
        "  print(w, len(w))"
      ],
      "execution_count": null,
      "outputs": []
    },
    {
      "cell_type": "markdown",
      "metadata": {
        "id": "GBDhC9EqpBi4"
      },
      "source": [
        "コレクションオブジェクトの値を反復処理をしているときに、そのコレクションオブジェクトを変更するコードは理解するのが面倒になり得ます。 そうするよりも、コレクションオブジェクトのコピーに対して反復処理をするか、新しいコレクションオブジェクトを作成する方が通常は理解しやすいです:\n",
        "```\n",
        "# Strategy:  Iterate over a copy\n",
        "for user, status in users.copy().items():\n",
        "    if status == 'inactive':\n",
        "        del users[user]\n",
        "\n",
        "# Strategy:  Create a new collection\n",
        "active_users = {}\n",
        "for user, status in users.items():\n",
        "    if status == 'active':\n",
        "        active_users[user] = status\n",
        "```"
      ]
    },
    {
      "cell_type": "markdown",
      "metadata": {
        "id": "jUe3th4Bq5Ct"
      },
      "source": [
        "## 4.3. [range()](https://docs.python.org/ja/3/library/stdtypes.html#range) 関数\n",
        "\n",
        "数列にわたって反復を行う必要がある場合、組み込み関数 [range()](https://docs.python.org/ja/3/library/stdtypes.html#range) が便利です。この関数は算術型の数列を生成します:"
      ]
    },
    {
      "cell_type": "code",
      "metadata": {
        "id": "_zEFF2A_pAp-"
      },
      "source": [
        "for i in range(5):\n",
        "    print(i)"
      ],
      "execution_count": null,
      "outputs": []
    },
    {
      "cell_type": "markdown",
      "metadata": {
        "id": "OV_9Z40rrJac"
      },
      "source": [
        "指定した終端値は生成されるシーケンスには入りません。```range(10)``` は 10 個の値を生成し、長さ 10 のシーケンスにおける各項目のインデクスとなります。range を別の数から開始したり、他の増加量 (負でも; 増加量は時に 'ステップ(step)' と呼ばれることもあります) を指定することもできます:\n",
        "```\n",
        "range(5, 10)\n",
        "   5, 6, 7, 8, 9\n",
        "\n",
        "range(0, 10, 3)\n",
        "   0, 3, 6, 9\n",
        "\n",
        "range(-10, -100, -30)\n",
        "  -10, -40, -70\n",
        "```"
      ]
    },
    {
      "cell_type": "markdown",
      "metadata": {
        "id": "uLh7hJWVrTDe"
      },
      "source": [
        "あるシーケンスにわたってインデクスで反復を行うには、 [range()](https://docs.python.org/ja/3/library/stdtypes.html#range) と [len()](https://docs.python.org/ja/3/library/functions.html#len) を次のように組み合わせられます:"
      ]
    },
    {
      "cell_type": "code",
      "metadata": {
        "id": "bfgd6TEYrgjL"
      },
      "source": [
        "a = ['Mary', 'had', 'a', 'little', 'lamb']\n",
        "for i in range(len(a)):\n",
        "  print(i, a[i])"
      ],
      "execution_count": null,
      "outputs": []
    },
    {
      "cell_type": "markdown",
      "metadata": {
        "id": "8KD8gpnArZD1"
      },
      "source": [
        "しかし、多くの場合は [enumerate()](https://docs.python.org/ja/3/library/functions.html#enumerate) 関数を使う方が便利です。 [ループのテクニック](https://docs.python.org/ja/3/tutorial/datastructures.html#tut-loopidioms) を参照してください。\n"
      ]
    },
    {
      "cell_type": "markdown",
      "metadata": {
        "id": "1ejTSjEcrsXb"
      },
      "source": [
        "range を直接出力すると変なことになります:"
      ]
    },
    {
      "cell_type": "code",
      "metadata": {
        "id": "kBXxiDsbruD7"
      },
      "source": [
        "print(range(10))"
      ],
      "execution_count": null,
      "outputs": []
    },
    {
      "cell_type": "markdown",
      "metadata": {
        "id": "eFaZlc3SrwNk"
      },
      "source": [
        "[range()](https://docs.python.org/ja/3/library/stdtypes.html#range) が返すオブジェクトは、いろいろな点でリストであるかのように振る舞いますが、本当はリストではありません。これは、イテレートした時に望んだ数列の連続した要素を返すオブジェクトです。しかし実際にリストを作るわけではないので、スペースの節約になります。\n",
        "\n",
        "このようなオブジェクトは イテラブル (iterable) と呼ばれます。 これらは関数や構成物のターゲットとして、あるだけの項目を逐次与えるのに適しています。 [for](https://docs.python.org/ja/3/reference/compound_stmts.html#for) 文がそのような構成物であることはすでに見てきており、イテラブルを受け取る関数の例には [sum()](https://docs.python.org/ja/3/library/functions.html#sum) があります:"
      ]
    },
    {
      "cell_type": "code",
      "metadata": {
        "id": "EFSRClIVsVga"
      },
      "source": [
        "sum(range(4))  # 0 + 1 + 2 + 3"
      ],
      "execution_count": null,
      "outputs": []
    },
    {
      "cell_type": "markdown",
      "metadata": {
        "id": "9wus9PKjsWOT"
      },
      "source": [
        "後ほど、イテラブルを返したりイテラブルを引数として取る関数をもっと見ていきます。 そして最後に、どうやって range からリストを作るのかが気になるかもしれません。 これが答えです:"
      ]
    },
    {
      "cell_type": "code",
      "metadata": {
        "id": "Gs4q1pPKsYFz"
      },
      "source": [
        "list(range(4))"
      ],
      "execution_count": null,
      "outputs": []
    },
    {
      "cell_type": "markdown",
      "metadata": {
        "id": "nEKxOPsDscFD"
      },
      "source": [
        "[データ構造](https://docs.python.org/ja/3/tutorial/datastructures.html#tut-structures) の章では、 [list()](https://docs.python.org/ja/3/library/stdtypes.html#list) についてより詳細に議論します。"
      ]
    },
    {
      "cell_type": "markdown",
      "metadata": {
        "id": "Orhl31lXskw6"
      },
      "source": [
        "## 4.4. break 文と continue 文とループの else 節\n",
        "\n",
        "[break](https://docs.python.org/ja/3/reference/simple_stmts.html#break) 文は、C 言語と同じく、最も内側の [for](https://docs.python.org/ja/3/reference/compound_stmts.html#for) または [while](https://docs.python.org/ja/3/reference/compound_stmts.html#while) ループを中断します。\n",
        "\n",
        "ループ文は else 節を持つことができます。これは、 ([for](https://docs.python.org/ja/3/reference/compound_stmts.html#for) で) イテラブルを使い切ってループが終了したとき、または ([while](https://docs.python.org/ja/3/reference/compound_stmts.html#while) で) 条件が偽になったときに実行されますが、 [break](https://docs.python.org/ja/3/reference/simple_stmts.html#break) 文でループが終了したときは実行されません。この動作を、素数を探す下記のループを例にとって示します:"
      ]
    },
    {
      "cell_type": "code",
      "metadata": {
        "id": "1MnDGJ2os6q3"
      },
      "source": [
        "for n in range(2, 10):\n",
        "  for x in range(2, n):\n",
        "    if n % x == 0:\n",
        "      print(n, 'equals', x, '*', n//x)\n",
        "      break\n",
        "  else:\n",
        "    # loop fell through without finding a factor\n",
        "    print(n, 'is a prime number')"
      ],
      "execution_count": null,
      "outputs": []
    },
    {
      "cell_type": "markdown",
      "metadata": {
        "id": "6HIB5d_zt287"
      },
      "source": [
        "(そう、これは正しいコードです。よく見てください: ```else``` 節は [if](https://docs.python.org/ja/3/reference/compound_stmts.html#if) 文 **ではなく** 、 [for](https://docs.python.org/ja/3/reference/compound_stmts.html#for) ループに属しています。)\n",
        "\n",
        "ループの ```else``` 句は、 [if](https://docs.python.org/ja/3/reference/compound_stmts.html#if) 文の ```else``` よりも [try](https://docs.python.org/ja/3/reference/compound_stmts.html#try) 文の ```else``` に似ています。 [try](https://docs.python.org/ja/3/reference/compound_stmts.html#try) 文の ```else``` 句は例外が発生しなかった時に実行され、ループの ```else``` 句は break されなかった場合に実行されます。 try 文と例外についての詳細は [例外を処理する](https://docs.python.org/ja/3/tutorial/errors.html#tut-handling) を参照してください。"
      ]
    },
    {
      "cell_type": "markdown",
      "metadata": {
        "id": "4DidzOm9t6DR"
      },
      "source": [
        "[continue](https://docs.python.org/ja/3/reference/simple_stmts.html#continue) 文も C 言語から借りてきたもので、ループの次のイテレーションを実行します:"
      ]
    },
    {
      "cell_type": "code",
      "metadata": {
        "id": "RDbXe0bitGZL"
      },
      "source": [
        "for num in range(2, 10):\n",
        "  if num % 2 == 0:\n",
        "    print(\"Found an even number\", num)\n",
        "    continue\n",
        "  print(\"Found an odd number\", num)"
      ],
      "execution_count": null,
      "outputs": []
    },
    {
      "cell_type": "markdown",
      "metadata": {
        "id": "fcCkMCGBvhj9"
      },
      "source": [
        "## 4.5. pass 文\n",
        "\n",
        "[pass](https://docs.python.org/ja/3/reference/simple_stmts.html#pass) 文は何もしません。 [pass](https://docs.python.org/ja/3/reference/simple_stmts.html#pass) は、文を書くことが構文上要求されているが、プログラム上何の動作もする必要がない時に使われます:\n",
        "```\n",
        "while True:\n",
        "  pass  # Busy-wait for keyboard interrupt (Ctrl+C)\n",
        "```\n",
        "これは最小のクラスを作るときによく使われる方法です:"
      ]
    },
    {
      "cell_type": "code",
      "metadata": {
        "id": "zAO3B8szvp4e"
      },
      "source": [
        "class MyEmptyClass:\n",
        "  pass"
      ],
      "execution_count": null,
      "outputs": []
    },
    {
      "cell_type": "markdown",
      "metadata": {
        "id": "ZqvSvU7QvtKl"
      },
      "source": [
        "[pass](https://docs.python.org/ja/3/reference/simple_stmts.html#pass) のもう 1 つの使い道は、新しいコードを書いているときの関数や条件文の仮置きの本体としてです。こうすることで、より抽象的なレベルで考え続けられます。 pass は何事も無く無視されます"
      ]
    },
    {
      "cell_type": "code",
      "metadata": {
        "id": "WzuzkxSswQgd"
      },
      "source": [
        "def initlog(*args):\n",
        "  pass   # Remember to implement this!"
      ],
      "execution_count": null,
      "outputs": []
    },
    {
      "cell_type": "markdown",
      "metadata": {
        "id": "EMdSC8fOwQS2"
      },
      "source": [
        "## 4.6. 関数を定義する\n",
        "\n",
        "フィボナッチ数列 (Fibonacci series) を任意の上限値まで書き出すような関数を作成できます:"
      ]
    },
    {
      "cell_type": "code",
      "metadata": {
        "id": "XPxkNojDwXtE"
      },
      "source": [
        "def fib(n):    # write Fibonacci series up to n\n",
        "  \"\"\"Print a Fibonacci series up to n.\"\"\"\n",
        "  a, b = 0, 1\n",
        "  while a < n:\n",
        "    print(a, end=' ')\n",
        "    a, b = b, a+b\n",
        "  print()"
      ],
      "execution_count": null,
      "outputs": []
    },
    {
      "cell_type": "code",
      "metadata": {
        "id": "Wr091Tju2wpZ"
      },
      "source": [
        "# Now call the function we just defined:\n",
        "fib(2000)"
      ],
      "execution_count": null,
      "outputs": []
    },
    {
      "cell_type": "markdown",
      "metadata": {
        "id": "f0ImpepgwmUm"
      },
      "source": [
        "[def](https://docs.python.org/ja/3/reference/compound_stmts.html#def) は関数の 定義 *(definition)* を導くキーワードです。 [def](https://docs.python.org/ja/3/reference/compound_stmts.html#def) の後には、関数名と仮引数を丸括弧で囲んだリストを続けなければなりません。関数の実体を構成する実行文は次の行から始め、インデントされていなければなりません。\n",
        "\n",
        "関数の本体の記述する文の最初の行は文字列リテラルにすることもできます。その場合、この文字列は関数のドキュメンテーション文字列 (documentation string)、または *docstring* と呼ばれます。 (docstring については [ドキュメンテーション文字列](https://docs.python.org/ja/3/tutorial/controlflow.html#tut-docstrings) でさらに扱っています。) ドキュメンテーション文字列を使ったツールには、オンライン文書や印刷文書を自動的に生成したり、ユーザが対話的にコードから直接閲覧できるようにするものがあります。自分が書くコードにドキュメンテーション文字列を入れるのはよい習慣です。書く癖をつけてください。\n",
        "\n",
        "関数を 実行 *(execution)* するとき、関数のローカル変数のために使われる新たなシンボルテーブル (symbol table) が用意されます。 もっと正確にいうと、関数内で変数への代入を行うと、その値はすべてこのローカルなシンボルテーブルに記憶されます。 一方、変数の参照を行うと、まずローカルなシンボルテーブルが検索され、次にさらに外側の関数のローカルなシンボルテーブルを検索し、その後グローバルなシンボルテーブルを調べ、最後に組み込みの名前テーブルを調べます。 従って、関数の中では (グローバル変数が [global](https://docs.python.org/ja/3/reference/simple_stmts.html#global) 文で指定されていたり、外側の関数の変数が [nonlocal](https://docs.python.org/ja/3/reference/simple_stmts.html#nonlocal) 文で指定されていない限り) グローバル変数や外側の関数の変数に直接値を代入できませんが、参照することはできます。\n",
        "\n",
        "関数を呼び出す際の実際の引数 (実引数) は、関数が呼び出されるときに関数のローカルなシンボルテーブル内に取り込まれます。そうすることで、引数は 値渡し *(call by value)* で関数に渡されることになります (ここでの 値 *(value)* とは常にオブジェクトへの 参照*(reference)* をいい、オブジェクトの値そのものではありません) [[1]]()。ある関数がほかの関数を呼び出すときには、新たな呼び出しのためにローカルなシンボルテーブルが新たに作成されます。"
      ]
    },
    {
      "cell_type": "markdown",
      "metadata": {
        "id": "U7g_w7jcy8lt"
      },
      "source": [
        "A function definition associates the function name with the function object in the current symbol table. The interpreter recognizes the object pointed to by that name as a user-defined function. Other names can also point to that same function object and can also be used to access the function:"
      ]
    },
    {
      "cell_type": "code",
      "metadata": {
        "id": "m63q2Yd1wibU"
      },
      "source": [
        "fib"
      ],
      "execution_count": null,
      "outputs": []
    },
    {
      "cell_type": "code",
      "metadata": {
        "id": "N_wP3ozsyx4t"
      },
      "source": [
        "f = fib\n",
        "f(100)"
      ],
      "execution_count": null,
      "outputs": []
    },
    {
      "cell_type": "markdown",
      "metadata": {
        "id": "l1CyncvhzXoh"
      },
      "source": [
        "他の言語出身の人からは、 ```fib``` は値を返さないので関数ではなく手続き (procedure) だと異論があるかもしれませんね。技術的に言えば、実際には [return](https://docs.python.org/ja/3/reference/simple_stmts.html#return) 文を持たない関数もややつまらない値ですが値を返しています。この値は ```None``` と呼ばれます (これは組み込みの名前です)。 ```None``` だけを書き出そうとすると、インタプリタは通常出力を抑制します。本当に出力したいのなら、以下のように [print()](https://docs.python.org/ja/3/library/functions.html#print) を使うと見ることができます:"
      ]
    },
    {
      "cell_type": "code",
      "metadata": {
        "id": "lmKjXnHyzsHz"
      },
      "source": [
        "fib(0)"
      ],
      "execution_count": null,
      "outputs": []
    },
    {
      "cell_type": "code",
      "metadata": {
        "id": "zB_FeHvB25RU"
      },
      "source": [
        "print(fib(0))"
      ],
      "execution_count": null,
      "outputs": []
    },
    {
      "cell_type": "markdown",
      "metadata": {
        "id": "fLQPl0rszwHg"
      },
      "source": [
        "フィボナッチ数列の数からなるリストを出力する代わりに、値を返すような関数を書くのは簡単です:"
      ]
    },
    {
      "cell_type": "code",
      "metadata": {
        "id": "W5B6-eyqzw-g"
      },
      "source": [
        "def fib2(n):  # return Fibonacci series up to n\n",
        "  \"\"\"Return a list containing the Fibonacci series up to n.\"\"\"\n",
        "  result = []\n",
        "  a, b = 0, 1\n",
        "  while a < n:\n",
        "    result.append(a)    # see below\n",
        "    a, b = b, a+b\n",
        "  return result\n",
        "\n",
        "f100 = fib2(100)    # call it\n",
        "f100                # write the result"
      ],
      "execution_count": null,
      "outputs": []
    },
    {
      "cell_type": "markdown",
      "metadata": {
        "id": "Rod9B0lNz94X"
      },
      "source": [
        "この例は Python の新しい機能を示しています:\n",
        "\n",
        "- [return](https://docs.python.org/ja/3/reference/simple_stmts.html#return) 文では、関数から一つ値を返します。 return の引数となる式がない場合、 ```None``` が返ります。関数が終了したときにも ```None``` が返ります。\n",
        "\n",
        "- 文 ```result.append(a)``` では、リストオブジェクト ```result``` の メソッド *(method)* を呼び出しています。メソッドとは、オブジェクトに '属している' 関数のことで、 ```obj``` を何らかのオブジェクト (式であっても構いません)、 ```methodname``` をそのオブジェクトで定義されているメソッド名とすると、 ```obj.methodname``` と書き表されます。異なる型は異なるメソッドを定義しています。異なる型のメソッドで同じ名前のメソッドを持つことができ、あいまいさを生じることはありません。 (クラス *(class)* を使うことで、自前のオブジェクト型とメソッドを定義することもできます。 [クラス](https://docs.python.org/ja/3/tutorial/classes.html#tut-classes) 参照) 例で示されているメソッド append() は、リストオブジェクトで定義されています; このメソッドはリストの末尾に新たな要素を追加します。この例での append() は ```result = result + [a]``` と等価ですが、より効率的です。"
      ]
    },
    {
      "cell_type": "markdown",
      "metadata": {
        "id": "A1Aszzx-0o7r"
      },
      "source": [
        "## 4.7. 関数定義についてもう少し\n",
        "\n",
        "可変個の引数を伴う関数を定義することもできます。引数の定義方法には 3 つの形式があり、それらを組み合わせることができます。"
      ]
    },
    {
      "cell_type": "markdown",
      "metadata": {
        "id": "HJUH0Wgw0reW"
      },
      "source": [
        "### 4.7.1. デフォルトの引数値\n",
        "\n",
        "もっとも便利なのは、一つ以上の引数に対してデフォルトの値を指定する形式です。この形式を使うと、定義されている引数より少ない個数の引数で呼び出せる関数を作成します:"
      ]
    },
    {
      "cell_type": "code",
      "metadata": {
        "id": "F3PFiJCu00WZ"
      },
      "source": [
        "def ask_ok(prompt, retries=4, reminder='Please try again!'):\n",
        "  while True:\n",
        "    ok = input(prompt)\n",
        "    if ok in ('y', 'ye', 'yes'):\n",
        "      return True\n",
        "    if ok in ('n', 'no', 'nop', 'nope'):\n",
        "      return False\n",
        "    retries = retries - 1\n",
        "    if retries < 0:\n",
        "      raise ValueError('invalid user response')\n",
        "    print(reminder)"
      ],
      "execution_count": null,
      "outputs": []
    },
    {
      "cell_type": "markdown",
      "metadata": {
        "id": "cBBa3NgA068H"
      },
      "source": [
        "この関数はいくつかの方法で呼び出せます:\n",
        "\n",
        "- 必須の引数のみ与える:"
      ]
    },
    {
      "cell_type": "code",
      "metadata": {
        "id": "noWmj6N_1EV4"
      },
      "source": [
        "ask_ok('Do you really want to quit?')"
      ],
      "execution_count": null,
      "outputs": []
    },
    {
      "cell_type": "markdown",
      "metadata": {
        "id": "J45UD4OW1GqV"
      },
      "source": [
        "- 一つのオプション引数を与える:"
      ]
    },
    {
      "cell_type": "code",
      "metadata": {
        "id": "_tsdMPe41Jzd"
      },
      "source": [
        "ask_ok('OK to overwrite the file?', 2)"
      ],
      "execution_count": null,
      "outputs": []
    },
    {
      "cell_type": "markdown",
      "metadata": {
        "id": "ZKrVexqy1L6F"
      },
      "source": [
        "- 全ての引数を与える:"
      ]
    },
    {
      "cell_type": "code",
      "metadata": {
        "id": "-XXlDfhA1OEV"
      },
      "source": [
        "ask_ok('OK to overwrite the file?', 2, 'Come on, only yes or no!')"
      ],
      "execution_count": null,
      "outputs": []
    },
    {
      "cell_type": "markdown",
      "metadata": {
        "id": "7WhuQnqj1SsV"
      },
      "source": [
        "この例では [in](https://docs.python.org/ja/3/reference/expressions.html#in) キーワードが導入されています。このキーワードはシーケンスが特定の値を含んでいるかどうか調べるのに使われます。"
      ]
    },
    {
      "cell_type": "markdown",
      "metadata": {
        "id": "EHbWiBnd1dTV"
      },
      "source": [
        "デフォルト値は、関数が定義された時点で、関数を 定義している 側のスコープ (scope) で評価されるので"
      ]
    },
    {
      "cell_type": "code",
      "metadata": {
        "id": "F22jwLPM1bfu"
      },
      "source": [
        "i = 5\n",
        "\n",
        "def f(arg=i):\n",
        "    print(arg)\n",
        "\n",
        "i = 6\n",
        "f()"
      ],
      "execution_count": null,
      "outputs": []
    },
    {
      "cell_type": "markdown",
      "metadata": {
        "id": "DoB2YAav1lOe"
      },
      "source": [
        "は ```5``` を出力します。"
      ]
    },
    {
      "cell_type": "markdown",
      "metadata": {
        "id": "bbG_0cBs1pe9"
      },
      "source": [
        "**重要な警告:** デフォルト値は 1 度だけしか評価されません。デフォルト値がリストや辞書のような変更可能なオブジェクトの時にはその影響がでます。例えば以下の関数は、後に続く関数呼び出しで関数に渡されている引数を累積します:"
      ]
    },
    {
      "cell_type": "code",
      "metadata": {
        "id": "5QyeNZ_z1zjk"
      },
      "source": [
        "def f(a, L=[]):\n",
        "    L.append(a)\n",
        "    return L\n",
        "\n",
        "print(f(1))\n",
        "print(f(2))\n",
        "print(f(3))"
      ],
      "execution_count": null,
      "outputs": []
    },
    {
      "cell_type": "markdown",
      "metadata": {
        "id": "3EeRv40c11a6"
      },
      "source": [
        "このコードは、以下を出力します\n",
        "```\n",
        "[1]\n",
        "[1, 2]\n",
        "[1, 2, 3]\n",
        "```\n",
        "後続の関数呼び出しでデフォルト値を共有したくなければ、代わりに以下のように関数を書くことができます:"
      ]
    },
    {
      "cell_type": "code",
      "metadata": {
        "id": "8XQ5xF8x2QX8"
      },
      "source": [
        "def f(a, L=None):\n",
        "    if L is None:\n",
        "        L = []\n",
        "    L.append(a)\n",
        "    return L\n",
        "\n",
        "print(f(1))\n",
        "print(f(2))\n",
        "print(f(3))"
      ],
      "execution_count": null,
      "outputs": []
    },
    {
      "cell_type": "markdown",
      "metadata": {
        "id": "Il3EEQ_03BBO"
      },
      "source": [
        "### 4.7.2. キーワード引数\n",
        "\n",
        "関数を ```kwarg=value``` という形式の [キーワード引数](https://docs.python.org/ja/3/glossary.html#term-keyword-argument) を使って呼び出すこともできます。例えば、以下の関数:"
      ]
    },
    {
      "cell_type": "code",
      "metadata": {
        "id": "PSUYUw_P3KpA"
      },
      "source": [
        "def parrot(voltage, state='a stiff', action='voom', type='Norwegian Blue'):\n",
        "    print(\"-- This parrot wouldn't\", action, end=' ')\n",
        "    print(\"if you put\", voltage, \"volts through it.\")\n",
        "    print(\"-- Lovely plumage, the\", type)\n",
        "    print(\"-- It's\", state, \"!\")"
      ],
      "execution_count": null,
      "outputs": []
    },
    {
      "cell_type": "markdown",
      "metadata": {
        "id": "V9QBl22d3QjL"
      },
      "source": [
        "は、必須引数 (```voltage```) とオプション引数 (```state```、```action```、```type```) を受け付けます。この関数は以下のいずれかの方法で呼び出せます:"
      ]
    },
    {
      "cell_type": "code",
      "metadata": {
        "id": "d17zvCVX3X5f"
      },
      "source": [
        "parrot(1000)                                          # 1 positional argument"
      ],
      "execution_count": null,
      "outputs": []
    },
    {
      "cell_type": "code",
      "metadata": {
        "id": "N7Md2YYT3V_8"
      },
      "source": [
        "parrot(voltage=1000)                                  # 1 keyword argument"
      ],
      "execution_count": null,
      "outputs": []
    },
    {
      "cell_type": "code",
      "metadata": {
        "id": "iFfZk2Fu3XSe"
      },
      "source": [
        "parrot(voltage=1000000, action='VOOOOOM')             # 2 keyword arguments"
      ],
      "execution_count": null,
      "outputs": []
    },
    {
      "cell_type": "code",
      "metadata": {
        "id": "Hv2S19Vw3Yv-"
      },
      "source": [
        "parrot(action='VOOOOOM', voltage=1000000)             # 2 keyword arguments"
      ],
      "execution_count": null,
      "outputs": []
    },
    {
      "cell_type": "code",
      "metadata": {
        "id": "75hGnRW93aCK"
      },
      "source": [
        "parrot('a million', 'bereft of life', 'jump')         # 3 positional arguments"
      ],
      "execution_count": null,
      "outputs": []
    },
    {
      "cell_type": "code",
      "metadata": {
        "id": "zFERO0Q23bgM"
      },
      "source": [
        "parrot('a thousand', state='pushing up the daisies')  # 1 positional, 1 keyword"
      ],
      "execution_count": null,
      "outputs": []
    },
    {
      "cell_type": "markdown",
      "metadata": {
        "id": "jgqtXEeO3bn7"
      },
      "source": [
        "が、以下の呼び出しは不適切です:"
      ]
    },
    {
      "cell_type": "code",
      "metadata": {
        "id": "rdzAPQwu3YWV"
      },
      "source": [
        "parrot()                     # required argument missing"
      ],
      "execution_count": null,
      "outputs": []
    },
    {
      "cell_type": "code",
      "metadata": {
        "id": "dH7MG-QY3ee6"
      },
      "source": [
        "parrot(voltage=5.0, 'dead')  # non-keyword argument after a keyword argument"
      ],
      "execution_count": null,
      "outputs": []
    },
    {
      "cell_type": "code",
      "metadata": {
        "id": "3fA1Ywdj3ftS"
      },
      "source": [
        "parrot(110, voltage=220)     # duplicate value for the same argument"
      ],
      "execution_count": null,
      "outputs": []
    },
    {
      "cell_type": "code",
      "metadata": {
        "id": "UbBxYvTw3gxa"
      },
      "source": [
        "parrot(actor='John Cleese')  # unknown keyword argument"
      ],
      "execution_count": null,
      "outputs": []
    },
    {
      "cell_type": "markdown",
      "metadata": {
        "id": "zD6LMOx531i1"
      },
      "source": [
        "関数の呼び出しにおいて、キーワード引数は位置引数の後でなければなりません。渡されるキーワード引数は全て、関数で受け付けられる引数のいずれかに対応していなければならず (例えば、```actor``` はこの ```parrot``` 関数の引数として適切ではありません)、順序は重要ではありません。これはオプションでない引数でも同様です (例えば、```parrot(voltage=1000)``` も適切です)。いかなる引数も値を複数回は受け取れません。この制限により失敗する例は:"
      ]
    },
    {
      "cell_type": "code",
      "metadata": {
        "id": "QXDzbCZM4yzl"
      },
      "source": [
        "def function(a):\n",
        "    pass\n",
        "\n",
        "function(0, a=0)"
      ],
      "execution_count": null,
      "outputs": []
    },
    {
      "cell_type": "markdown",
      "metadata": {
        "id": "n8CQgnIj43ka"
      },
      "source": [
        "仮引数の最後に ```**name``` の形式のものがあると、それまでの仮引数に対応したものを除くすべてのキーワード引数が入った辞書 ([マッピング型 --- dict](https://docs.python.org/ja/3/library/stdtypes.html#typesmapping) を参照) を受け取ります。 ```**name``` は ```*name``` の形式をとる、仮引数のリストを超えた位置引数の入った [タプル ](https://docs.python.org/ja/3/tutorial/datastructures.html#tut-tuples)を受け取る引数 (次の小節で述べます) と組み合わせられます。 (```*name``` は ```**name``` より前になければなりません)。 例えば、ある関数の定義を以下のようにすると:"
      ]
    },
    {
      "cell_type": "code",
      "metadata": {
        "id": "TkKENG2f5TAX"
      },
      "source": [
        "def cheeseshop(kind, *arguments, **keywords):\n",
        "    print(\"-- Do you have any\", kind, \"?\")\n",
        "    print(\"-- I'm sorry, we're all out of\", kind)\n",
        "    for arg in arguments:\n",
        "        print(arg)\n",
        "    print(\"-\" * 40)\n",
        "    for kw in keywords:\n",
        "        print(kw, \":\", keywords[kw])"
      ],
      "execution_count": null,
      "outputs": []
    },
    {
      "cell_type": "markdown",
      "metadata": {
        "id": "EkjilsWo5WT8"
      },
      "source": [
        "呼び出しは以下のようになり:"
      ]
    },
    {
      "cell_type": "code",
      "metadata": {
        "id": "xG_mmAVO5XaZ"
      },
      "source": [
        "cheeseshop(\"Limburger\", \"It's very runny, sir.\",\n",
        "           \"It's really very, VERY runny, sir.\",\n",
        "           shopkeeper=\"Michael Palin\",\n",
        "           client=\"John Cleese\",\n",
        "           sketch=\"Cheese Shop Sketch\")"
      ],
      "execution_count": null,
      "outputs": []
    },
    {
      "cell_type": "markdown",
      "metadata": {
        "id": "PpubrYyW5gov"
      },
      "source": [
        "もちろん以下のように出力されます:\n",
        "```\n",
        "-- Do you have any Limburger ?\n",
        "-- I'm sorry, we're all out of Limburger\n",
        "It's very runny, sir.\n",
        "It's really very, VERY runny, sir.\n",
        "----------------------------------------\n",
        "shopkeeper : Michael Palin\n",
        "client : John Cleese\n",
        "sketch : Cheese Shop Sketch\n",
        "```\n",
        "なお、複数のキーワード引数を与えた場合に、それらが出力される順序は、関数呼び出しで与えられた順序と同じになります。"
      ]
    },
    {
      "cell_type": "markdown",
      "metadata": {
        "id": "jYXLfntq5m-v"
      },
      "source": [
        "### 4.7.3. 特殊なパラメータ\n",
        "\n",
        "デフォルトでは、引数は位置またはキーワードによる明示で Python 関数に渡されます。 可読性とパフォーマンスのために、その引数が位置、位置またはキーワード、キーワードのどれで渡されるかを開発者が判定するのに関数定義だけを見ればよいように、引数の渡され方を制限することには意味があります。\n",
        "\n",
        "関数定義は次のようになります:\n",
        "```\n",
        "def f(pos1, pos2, /, pos_or_kwd, *, kwd1, kwd2):\n",
        "      -----------    ----------     ----------\n",
        "        |             |                  |\n",
        "        |        Positional or keyword   |\n",
        "        |                                - Keyword only\n",
        "         -- Positional only\n",
        "```\n",
        "ここで、```/``` と ```*``` はオプションです。使用された場合、これらの記号は、引数が関数に渡される方法、すなわち、位置専用、位置またはキーワード、キーワード専用、といった引数の種類を示します。キーワード引数は、名前付き引数とも呼ばれます。"
      ]
    },
    {
      "cell_type": "markdown",
      "metadata": {
        "id": "vVl2mnhz5-cQ"
      },
      "source": [
        "#### 4.7.3.1. 位置またはキーワード引数\n",
        "\n",
        "関数定義に ```/``` も ```*``` もない場合は、引数は位置またはキーワードで関数に渡されます。"
      ]
    },
    {
      "cell_type": "markdown",
      "metadata": {
        "id": "ZUDXgQAx6FSS"
      },
      "source": [
        "#### 4.7.3.2. 位置専用引数\n",
        "\n",
        "これをもう少し詳しく見てみると、特定の引数を 位置専用 と印を付けるられます。 位置専用 の場合、引数の順序が重要であり、キーワードで引数を渡せません。 位置専用引数は ```/``` （スラッシュ）の前に配置されます。 ```/``` は、位置専用引数を残りの引数から論理的に分離するために使用されます。 関数定義に ```/``` がない場合、位置専用引数はありません。\n",
        "\n",
        "```/``` の後の引数は、 位置またはキーワード 、もしくは、 キーワード専用 です。"
      ]
    },
    {
      "cell_type": "markdown",
      "metadata": {
        "id": "xX3a_n_U6Vji"
      },
      "source": [
        "#### 4.7.3.3. キーワード専用引数\n",
        "\n",
        "引数をキーワード引数で渡す必要があることを示す キーワード専用 として引数をマークするには、引数リストの最初の キーワード専用 引数の直前に ```*``` を配置します。"
      ]
    },
    {
      "cell_type": "markdown",
      "metadata": {
        "id": "BJs67Gm-6dGF"
      },
      "source": [
        "#### 4.7.3.4. 関数の例\n",
        "\n",
        "```/``` および ```*``` といったマーカーに注意を払って、次の関数定義の例を見てください:"
      ]
    },
    {
      "cell_type": "code",
      "metadata": {
        "id": "jNx0NfbB58hZ"
      },
      "source": [
        "def standard_arg(arg):\n",
        "    print(arg)\n",
        "\n",
        "def pos_only_arg(arg, /):\n",
        "    print(arg)\n",
        "\n",
        "def kwd_only_arg(*, arg):\n",
        "    print(arg)\n",
        "\n",
        "def combined_example(pos_only, /, standard, *, kwd_only):\n",
        "    print(pos_only, standard, kwd_only)"
      ],
      "execution_count": null,
      "outputs": []
    },
    {
      "cell_type": "markdown",
      "metadata": {
        "id": "kCOSAThF6pl6"
      },
      "source": [
        "最も馴染みのある形式の最初の関数定義 ```standard_arg``` は、呼び出し規約に制限を設けておらず、引数は位置またはキーワードで渡されます:"
      ]
    },
    {
      "cell_type": "code",
      "metadata": {
        "id": "X6qiqpVe6un9"
      },
      "source": [
        "standard_arg(2)"
      ],
      "execution_count": null,
      "outputs": []
    },
    {
      "cell_type": "code",
      "metadata": {
        "id": "LM62tZs66wpK"
      },
      "source": [
        "standard_arg(arg=2)"
      ],
      "execution_count": null,
      "outputs": []
    },
    {
      "cell_type": "markdown",
      "metadata": {
        "id": "ib4eUBOO62Wg"
      },
      "source": [
        "2番目の関数の ```pos_only_arg``` は、 ```/``` が関数定義にあるので、引数は位置専用になります:"
      ]
    },
    {
      "cell_type": "code",
      "metadata": {
        "id": "1RrYcxe267r-"
      },
      "source": [
        "pos_only_arg(1)"
      ],
      "execution_count": null,
      "outputs": []
    },
    {
      "cell_type": "code",
      "metadata": {
        "id": "aZz2RKCy69io"
      },
      "source": [
        "pos_only_arg(arg=1)"
      ],
      "execution_count": null,
      "outputs": []
    },
    {
      "cell_type": "markdown",
      "metadata": {
        "id": "toUvcHPo6_ZW"
      },
      "source": [
        "3番目の関数 ```kwd_only_args``` は、関数定義に ```*``` があるので、引数はキーワード専用になります:"
      ]
    },
    {
      "cell_type": "code",
      "metadata": {
        "id": "CEY-gMpQ7DPt"
      },
      "source": [
        "kwd_only_arg(3)"
      ],
      "execution_count": null,
      "outputs": []
    },
    {
      "cell_type": "code",
      "metadata": {
        "id": "D7u-oaJ67IiN"
      },
      "source": [
        "kwd_only_arg(arg=3)"
      ],
      "execution_count": null,
      "outputs": []
    },
    {
      "cell_type": "markdown",
      "metadata": {
        "id": "352lcLdI7L6i"
      },
      "source": [
        "そして最後の関数は3つの引数の種類を一つの関数定義の中で使用しています:"
      ]
    },
    {
      "cell_type": "code",
      "metadata": {
        "id": "FJZizoVY7PCQ"
      },
      "source": [
        "combined_example(1, 2, 3)"
      ],
      "execution_count": null,
      "outputs": []
    },
    {
      "cell_type": "code",
      "metadata": {
        "id": "8X_f8B_K7Q29"
      },
      "source": [
        "combined_example(1, 2, kwd_only=3)"
      ],
      "execution_count": null,
      "outputs": []
    },
    {
      "cell_type": "code",
      "metadata": {
        "id": "R_XehvkB7VmO"
      },
      "source": [
        "combined_example(1, standard=2, kwd_only=3)"
      ],
      "execution_count": null,
      "outputs": []
    },
    {
      "cell_type": "code",
      "metadata": {
        "id": "TBgvZTC77XW9"
      },
      "source": [
        "combined_example(pos_only=1, standard=2, kwd_only=3)"
      ],
      "execution_count": null,
      "outputs": []
    },
    {
      "cell_type": "markdown",
      "metadata": {
        "id": "3ugzmmqw7ZqE"
      },
      "source": [
        "最後に、位置引数 ```name``` と ```name``` をキーとして持つ ```**kwds``` の間に潜在的な衝突がある関数定義を考えてみましょう。"
      ]
    },
    {
      "cell_type": "code",
      "metadata": {
        "id": "TzqnQiVJ7Yjs"
      },
      "source": [
        "def foo(name, **kwds):\n",
        "    return 'name' in kwds"
      ],
      "execution_count": null,
      "outputs": []
    },
    {
      "cell_type": "markdown",
      "metadata": {
        "id": "6baisC0L7ih9"
      },
      "source": [
        "キーワードに ```'name'``` を入れても、先頭の引数と同じになってしまうため、この関数が ```True``` を返すような呼び出しの方法はありません。例えば、次のようになってしまいます:"
      ]
    },
    {
      "cell_type": "code",
      "metadata": {
        "id": "foVxmsnl7oJ2"
      },
      "source": [
        "foo(1, **{'name': 2})"
      ],
      "execution_count": null,
      "outputs": []
    },
    {
      "cell_type": "markdown",
      "metadata": {
        "id": "o4WbhyHI7s0h"
      },
      "source": [
        "しかし位置専用を示す ```/``` を使用すれば可能になります。 ```name``` は位置引数として、そして ```'name'``` はキーワード引数のキーワードとして認識されるからです:"
      ]
    },
    {
      "cell_type": "code",
      "metadata": {
        "id": "5OYE9F_t708d"
      },
      "source": [
        "def foo(name, /, **kwds):\n",
        "    return 'name' in kwds\n",
        "\n",
        "foo(1, **{'name': 2})"
      ],
      "execution_count": null,
      "outputs": []
    },
    {
      "cell_type": "markdown",
      "metadata": {
        "id": "9zGEexJ174ka"
      },
      "source": [
        "言い換えると、位置専用引数であれば、その名前を **kwds の中で使用しても、曖昧にならないということです。"
      ]
    },
    {
      "cell_type": "markdown",
      "metadata": {
        "id": "Mdzn-qn_76Yq"
      },
      "source": [
        "#### 4.7.3.5. 要約\n",
        "\n",
        "使用例で、関数定義でどの種類の引数を使うかべきかがわかると思います:\n",
        "```\n",
        "def f(pos1, pos2, /, pos_or_kwd, *, kwd1, kwd2):\n",
        "```\n",
        "ガイドとしては、\n",
        "\n",
        "- もし引数の名前をユーザーに知らせる必要がないなら、位置専用引数を使用しましょう。これは引数の名前がユーザーにとって意味がなく、関数が呼ばれたときの引数の順序が問題であり、または、位置引数と任意のキーワードを使用する必要がある場合に便利です。\n",
        "\n",
        "- 引数の名前に意味があり、それにより関数の定義がより明らかになる、または、ユーザーが引数の順番に縛られることを避けたほうがいいと考えるのなら、キーワード専用引数を使用しましょう。\n",
        "\n",
        "- APIの場合、将来引数の名前が変更された場合にAPIの変更ができなくなることを防ぐために、位置専用引数を使用しましょう。"
      ]
    },
    {
      "cell_type": "markdown",
      "metadata": {
        "id": "BtM5ckv_8NWm"
      },
      "source": [
        "### 4.7.4. 任意引数リスト\n",
        "\n",
        "最後に、最も使うことの少ない選択肢として、関数が任意の個数の引数で呼び出せるよう指定する方法があります。これらの引数はタプル ([タプルとシーケンス](https://docs.python.org/ja/3/tutorial/datastructures.html#tut-tuples) を参照) に格納されます。可変個の引数の前に、ゼロ個かそれ以上の引数があっても構いません。\n",
        "```\n",
        "def write_multiple_items(file, separator, *args):\n",
        "    file.write(separator.join(args))\n",
        "```\n",
        "\n",
        "通常このような ```可変``` 引数は、関数に渡される入力引数の残りを全て掬い取るために、仮引数リストの最後に置かれます。 ```*args``` 引数の後にある仮引数は 'キーワード専用' 引数で、位置引数ではなくキーワード引数としてのみ使えることを意味します。"
      ]
    },
    {
      "cell_type": "code",
      "metadata": {
        "id": "Tc2eDLd48iWc"
      },
      "source": [
        "def concat(*args, sep=\"/\"):\n",
        "    return sep.join(args)\n",
        "\n",
        "concat(\"earth\", \"mars\", \"venus\")"
      ],
      "execution_count": null,
      "outputs": []
    },
    {
      "cell_type": "code",
      "metadata": {
        "id": "iLyAFnzd8uC1"
      },
      "source": [
        "concat(\"earth\", \"mars\", \"venus\", sep=\".\")"
      ],
      "execution_count": null,
      "outputs": []
    },
    {
      "cell_type": "markdown",
      "metadata": {
        "id": "C8_jqwGI81Ag"
      },
      "source": [
        "### 4.7.5. 引数リストのアンパック\n",
        "\n",
        "引数がすでにリストやタプルになっていて、個別な位置引数を要求する関数呼び出しに渡すためにアンパックする必要がある場合には、逆の状況が起こります。例えば、組み込み関数 [range()](https://docs.python.org/ja/3/library/stdtypes.html#range) は引数 *start* と *stop* を別に与える必要があります。個別に引数を与えることができない場合、関数呼び出しを ```*``` 演算子を使って書き、リストやタプルから引数をアンパックします:"
      ]
    },
    {
      "cell_type": "code",
      "metadata": {
        "id": "1O7C25N784Kz"
      },
      "source": [
        "list(range(3, 6))            # normal call with separate arguments"
      ],
      "execution_count": null,
      "outputs": []
    },
    {
      "cell_type": "code",
      "metadata": {
        "id": "ibB0_uXg9H-c"
      },
      "source": [
        "args = [3, 6]\n",
        "list(range(*args))            # call with arguments unpacked from a list"
      ],
      "execution_count": null,
      "outputs": []
    },
    {
      "cell_type": "markdown",
      "metadata": {
        "id": "WVaNgOg5865D"
      },
      "source": [
        "同じやりかたで、```**``` オペレータを使って辞書でもキーワード引数を渡すことができます:"
      ]
    },
    {
      "cell_type": "code",
      "metadata": {
        "id": "VYqWucy49AIi"
      },
      "source": [
        "def parrot(voltage, state='a stiff', action='voom'):\n",
        "    print(\"-- This parrot wouldn't\", action, end=' ')\n",
        "    print(\"if you put\", voltage, \"volts through it.\", end=' ')\n",
        "    print(\"E's\", state, \"!\")\n",
        "\n",
        "d = {\"voltage\": \"four million\", \"state\": \"bleedin' demised\", \"action\": \"VOOM\"}\n",
        "parrot(**d)"
      ],
      "execution_count": null,
      "outputs": []
    },
    {
      "cell_type": "markdown",
      "metadata": {
        "id": "wOnoNIix9ixW"
      },
      "source": [
        "### 4.7.6. ラムダ式\n",
        "\n",
        "キーワード [lambda](https://docs.python.org/ja/3/reference/expressions.html#lambda) を使うと、名前のない小さな関数を生成できます。例えば ```lambda a, b: a+b``` は、二つの引数の和を返す関数です。ラムダ式の関数は、関数オブジェクトが要求されている場所にならどこでも使うことができます。ラムダ式は、構文上単一の式に制限されています。意味付け的には、ラムダ形式は単に通常の関数定義に構文的な糖衣をかぶせたものに過ぎません。入れ子構造になった関数定義と同様、ラムダ式もそれを取り囲むスコープから変数を参照することができます:"
      ]
    },
    {
      "cell_type": "code",
      "metadata": {
        "id": "sqQbJ8RU-ULR"
      },
      "source": [
        "def make_incrementor(n):\n",
        "    return lambda x: x + n"
      ],
      "execution_count": null,
      "outputs": []
    },
    {
      "cell_type": "code",
      "metadata": {
        "id": "fUWfviTN-fJN"
      },
      "source": [
        "f = make_incrementor(42)"
      ],
      "execution_count": null,
      "outputs": []
    },
    {
      "cell_type": "code",
      "metadata": {
        "id": "yP6qf4Dz4nPe"
      },
      "source": [
        "f(0)"
      ],
      "execution_count": null,
      "outputs": []
    },
    {
      "cell_type": "code",
      "metadata": {
        "id": "kAOd3oFB-beY"
      },
      "source": [
        "f(1)"
      ],
      "execution_count": null,
      "outputs": []
    },
    {
      "cell_type": "markdown",
      "metadata": {
        "id": "HviKE73W-j8R"
      },
      "source": [
        "上記の例は、関数を返すところでラムダ式を使っています。もう1つの例では、ちょっとした関数を引数として渡すのに使っています:"
      ]
    },
    {
      "cell_type": "code",
      "metadata": {
        "id": "QhLUNVcT-nYC"
      },
      "source": [
        "pairs = [(1, 'one'), (2, 'two'), (3, 'three'), (4, 'four')]\n",
        "pairs.sort(key=lambda pair: pair[1])\n",
        "pairs"
      ],
      "execution_count": null,
      "outputs": []
    },
    {
      "cell_type": "markdown",
      "metadata": {
        "id": "J8Pp3jXqBWWC"
      },
      "source": [
        "### 4.7.7. ドキュメンテーション文字列\n",
        "\n",
        "ドキュメンテーション文字列については、その内容と書式に関する慣習をいくつか挙げます。\n",
        "\n",
        "最初の行は、常に対象物の目的を短く簡潔にまとめたものでなくてはなりません。簡潔に書くために、対象物の名前や型を明示する必要はありません。名前や型は他の方法でも得られるからです (名前がたまたま関数の演算内容を記述する動詞である場合は例外です)。最初の行は大文字で始まり、ピリオドで終わっていなければなりません。\n",
        "\n",
        "ドキュメンテーション文字列中にさらに記述すべき行がある場合、二行目は空行にし、まとめの行と残りの記述部分を視覚的に分離します。つづく行は一つまたはそれ以上の段落で、対象物の呼び出し規約や副作用について記述します。\n",
        "\n",
        "Python のパーザは複数行にわたる Python 文字列リテラルからインデントを剥ぎ取らないので、ドキュメントを処理するツールでは必要に応じてインデントを剥ぎ取らなければなりません。この処理は以下の規約に従って行います。最初の行の 後にある 空行でない最初の行が、ドキュメント全体のインデントの量を決めます。(最初の行は通常、文字列を開始するクオートに隣り合っているので、インデントが文字列リテラル中に現れないためです。) このインデント量と \"等価な\" 空白が、文字列のすべての行頭から剥ぎ取られます。インデントの量が少ない行を書いてはならないのですが、もしそういう行があると、先頭の空白すべてが剥ぎ取られます。インデントの空白の大きさが等しいかどうかは、タブ文字を (通常は 8 文字のスペースとして) 展開した後に調べられます。\n",
        "\n",
        "以下に複数行のドキュメンテーション文字列の例を示します:"
      ]
    },
    {
      "cell_type": "code",
      "metadata": {
        "id": "xguMH2D9-rPn"
      },
      "source": [
        "def my_function():\n",
        "    \"\"\"Do nothing, but document it.\n",
        "\n",
        "    No, really, it doesn't do anything.\n",
        "    \"\"\"\n",
        "    pass\n",
        "\n",
        "print(my_function.__doc__)"
      ],
      "execution_count": null,
      "outputs": []
    },
    {
      "cell_type": "markdown",
      "metadata": {
        "id": "f-95swoRBmVV"
      },
      "source": [
        "### 4.7.8. 関数のアノテーション\n",
        "\n",
        "[関数アノテーション](https://docs.python.org/ja/3/reference/compound_stmts.html#function) はユーザ定義関数で使用される型についての完全にオプションなメタデータ情報です (詳細は **[PEP 3107](https://www.python.org/dev/peps/pep-3107)** と **[PEP 484](https://www.python.org/dev/peps/pep-0484)** を参照してください)。\n",
        "\n",
        "[アノテーション](https://docs.python.org/ja/3/glossary.html#term-function-annotation) は関数の \\_\\_annotations\\_\\_ 属性に辞書として格納され、関数の他の部分には何も影響がありません。 パラメータアノテーションは、パラメータ名の後にコロンを続けることによって定義され、その後にアノテーションの値として評価される式が置かれます。 戻り値アノテーションは、パラメータリストと def ステートメントの終わりを表すコロンの間に置かれたリテラル ```->``` によって定義され、その後に式が続きます。次の例は位置引数とキーワード引数、そして戻り値アノテーションを持っています:"
      ]
    },
    {
      "cell_type": "code",
      "metadata": {
        "id": "leR850JUBiaF"
      },
      "source": [
        "def f(ham: str, eggs: str = 'eggs') -> str:\n",
        "    print(\"Annotations:\", f.__annotations__)\n",
        "    print(\"Arguments:\", ham, eggs)\n",
        "    return ham + ' and ' + eggs\n",
        "\n",
        "f('spam')"
      ],
      "execution_count": null,
      "outputs": []
    },
    {
      "cell_type": "markdown",
      "metadata": {
        "id": "KRXyZJBrCoHz"
      },
      "source": [
        "## 4.8. 間奏曲: コーディングスタイル\n",
        "\n",
        "これからより長くより複雑な Python のコードを書いていくので、そろそろ コーディングスタイル について語っても良い頃です。ほとんどの言語は様々なスタイルで書け (もっと簡潔に言えば フォーマットでき)、スタイルによって読み易さが異なります。他人にとって読み易いコードにしようとするのはどんなときでも良い考えであり、良いコーディングスタイルを採用することが非常に強力な助けになります。\n",
        "\n",
        "Python には、ほとんどのプロジェクトが守っているスタイルガイドとして **[PEP 8](https://www.python.org/dev/peps/pep-0008)** があります。それは非常に読み易く目に優しいコーディングスタイルを推奨しています。全ての Python 開発者はある時点でそれを読むべきです。ここに最も重要な点を抜き出しておきます:\n",
        "\n",
        "- インデントには空白 4 つを使い、タブは使わないこと。  \n",
        "空白 4 つは (深くネストできる) 小さいインデントと (読み易い) 大きいインデントのちょうど中間に当たります。タブは混乱させるので、使わずにおくのが良いです。\n",
        "\n",
        "- ソースコードの幅が 79 文字を越えないように行を折り返すこと。  \n",
        "こうすることで小さいディスプレイを使っているユーザも読み易くなり、大きなディスプレイではソースコードファイルを並べることもできるようになります。\n",
        "\n",
        "- 関数やクラスや関数内の大きめのコードブロックの区切りに空行を使うこと。\n",
        "\n",
        "- 可能なら、コメントは行に独立で書くこと。\n",
        "\n",
        "- docstring を使うこと。\n",
        "\n",
        "- 演算子の前後とコンマの後には空白を入れ、括弧類のすぐ内側には空白を入れないこと: ```a = f(1, 2) + g(3, 4)```。\n",
        "\n",
        "- クラスや関数に一貫性のある名前を付けること。慣習では ```UpperCamelCase``` をクラス名に使い、 ```lowercase_with_underscores``` を関数名やメソッド名に使います。常に ```self``` をメソッドの第 1 引数の名前 (クラスやメソッドについては [クラス初見](https://docs.python.org/ja/3/tutorial/classes.html#tut-firstclasses) を見よ) として使うこと。\n",
        "\n",
        "- あなたのコードを世界中で使ってもらうつもりなら、風変りなエンコーディングは使わないこと。どんな場合でも、Python のデフォルト UTF-8 またはプレーン ASCII が最も上手くいきます。\n",
        "\n",
        "- 同様に、ほんの少しでも他の言語を話す人がコードを読んだりメンテナンスする可能性があるのであれば、非 ASCII 文字も識別子に使うべきではありません。"
      ]
    },
    {
      "cell_type": "markdown",
      "metadata": {
        "id": "hwDz_tYnFSlx"
      },
      "source": [
        "## **脚注**\n",
        "\n",
        "[[1]]()\n",
        "実際には、オブジェクトへの参照渡し *(call by object reference)* と書けばよいのかもしれません。というのは、変更可能なオブジェクトが渡されると、関数の呼び出し側は、呼び出された側の関数がオブジェクトに行ったどんな変更 (例えばリストに挿入された要素) にも出くわすことになるからです。"
      ]
    }
  ]
}