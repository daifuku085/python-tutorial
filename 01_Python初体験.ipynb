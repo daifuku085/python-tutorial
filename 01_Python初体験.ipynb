{
  "nbformat": 4,
  "nbformat_minor": 0,
  "metadata": {
    "colab": {
      "name": "01_Python初体験.ipynb",
      "provenance": [],
      "collapsed_sections": [],
      "toc_visible": true,
      "authorship_tag": "ABX9TyMtjEMUPatIHN83DkdVs0JA",
      "include_colab_link": true
    },
    "kernelspec": {
      "name": "python3",
      "display_name": "Python 3"
    }
  },
  "cells": [
    {
      "cell_type": "markdown",
      "metadata": {
        "id": "view-in-github",
        "colab_type": "text"
      },
      "source": [
        "<a href=\"https://colab.research.google.com/github/daifuku085/python-tutorial/blob/main/01_Python%E5%88%9D%E4%BD%93%E9%A8%93.ipynb\" target=\"_parent\"><img src=\"https://colab.research.google.com/assets/colab-badge.svg\" alt=\"Open In Colab\"/></a>"
      ]
    },
    {
      "cell_type": "markdown",
      "metadata": {
        "id": "c7wxZrvmrWWK"
      },
      "source": [
        "# **Python初体験**"
      ]
    },
    {
      "cell_type": "markdown",
      "metadata": {
        "id": "pZubDoXZ5lK2"
      },
      "source": [
        "## **Google Colab の準備**"
      ]
    },
    {
      "cell_type": "markdown",
      "metadata": {
        "id": "HTl6oi2zrZIe"
      },
      "source": [
        "\n",
        "\n",
        "この講座では、[**Google Colaboratory(Colab)**](https://colab.research.google.com/)を使って、プログラミング言語Pythonを学習します。プログラミングの未経験者を対象としています。\n",
        "\n",
        "ColabはGoogle社が提供する、Webブラウザからプログラミング言語Pythonを実行できるサービスです。無料で使え、めんどうな環境設定なしに、いきなりプログラミングを体験できますから、これからプログラミングをやってみたい、という方にはおすすめの学習環境です。\n",
        "\n",
        "まずは、Colabを使えるように準備しましょう。"
      ]
    },
    {
      "cell_type": "markdown",
      "metadata": {
        "id": "yzWw2IP75pgf"
      },
      "source": [
        "### **Googleアカウントの用意**"
      ]
    },
    {
      "cell_type": "markdown",
      "metadata": {
        "id": "KJwpUaXurb5i"
      },
      "source": [
        "Colabの利用には、Googleのアカウントが必要です。アカウントをお持ちでなければ、\n",
        "\n",
        "**[Googleのログインページ](https://accounts.google.com/) (新しいウィンドウで開きます)**\n",
        "\n",
        "で、アカウントを作成してください。\n",
        "\n",
        "![](https://www.python.jp/train/experience/create_google_account.png)"
      ]
    },
    {
      "cell_type": "markdown",
      "metadata": {
        "id": "CpHzmdJ05sOe"
      },
      "source": [
        "### **ノートブックの作成**"
      ]
    },
    {
      "cell_type": "markdown",
      "metadata": {
        "id": "rY2VISdVnWYa"
      },
      "source": [
        "さっそく、Colab にアクセスしてみましょう。\n",
        "\n",
        "**[Google Colaboratory](https://colab.research.google.com/) (新しいウィンドウで開きます)**\n",
        "\n",
        "最初は、次のような画面が表示されます。まず、Pythonのプログラムを入力して実行する **「ノートブック」** を作成しましょう。\n",
        "\n",
        "右下の **「ノートブックを新規作成」** をクリックしてください。\n",
        "\n",
        "![](https://www.python.jp/train/experience/logged-in.png)\n",
        "\n"
      ]
    },
    {
      "cell_type": "markdown",
      "metadata": {
        "id": "qGfOv4Gk5yMu"
      },
      "source": [
        "これで、**「ノートブック」** が作成されました。\n",
        "\n",
        "![](https://www.python.jp/train/experience/blank-ipynb.png)"
      ]
    },
    {
      "cell_type": "markdown",
      "metadata": {
        "id": "VQpWwaly5z2Y"
      },
      "source": [
        "ノートブックは、画面左上の **ファイル** メニューにある、**ノートブックの新規作成** からも作成できます。\n",
        "\n",
        "![](https://www.python.jp/train/experience/create-notebook.png)"
      ]
    },
    {
      "cell_type": "markdown",
      "metadata": {
        "id": "QZ_0GSh4517P"
      },
      "source": [
        "これで、Pythonのプログラム実行する用意ができました。次のページ に移動して、プログラムを実行してみましょう。"
      ]
    },
    {
      "cell_type": "markdown",
      "metadata": {
        "id": "_pVS-T9H557-"
      },
      "source": [
        "## **はじめてのPython**"
      ]
    },
    {
      "cell_type": "markdown",
      "metadata": {
        "id": "lpX3Y80po35n"
      },
      "source": [
        "前のページ では、Google Colabに新しい **ノートブック** を作成しました。こんなページが表示されていると思います。\n",
        "\n",
        "![](https://www.python.jp/train/experience/blank-ipynb.png)\n",
        "\n",
        "ノートブックの、文字を入力できる部分を、**セル** といいます。"
      ]
    },
    {
      "cell_type": "markdown",
      "metadata": {
        "id": "O-oJp3Ma58mv"
      },
      "source": [
        "### **Pythonの実行**"
      ]
    },
    {
      "cell_type": "markdown",
      "metadata": {
        "id": "RMODr0cJqVX7"
      },
      "source": [
        "さっそく、セルに\n",
        "\n",
        "```\n",
        ">>> 1+1\n",
        "```\n",
        "\n",
        "と入力しましょう。\n",
        "\n",
        "入力するのは、```1+1``` の３文字だけです。 >>> という記号は、「ここの部分は Colab に入力して実行できます。」というマークです。プログラムの一部ではありませんから、入力しないでください。"
      ]
    },
    {
      "cell_type": "code",
      "metadata": {
        "id": "8vAymhI5plNE"
      },
      "source": [
        ""
      ],
      "execution_count": null,
      "outputs": []
    },
    {
      "cell_type": "markdown",
      "metadata": {
        "id": "o-gorpJepluZ"
      },
      "source": [
        "\n",
        "左側の ▶ を押すか、```Shift+Enter``` (シフトキーを押しながらEnterキー) を入力して、Pythonを実行します。\n",
        "\n",
        "![](https://www.python.jp/train/experience/expr.png)"
      ]
    },
    {
      "cell_type": "markdown",
      "metadata": {
        "id": "8_sLepK46UMl"
      },
      "source": [
        "最初はしばらく(10秒～)待たされますが、```1+1``` の結果が表示されます。\n",
        "\n",
        "![](https://www.python.jp/train/experience/expr-eval.png)"
      ]
    },
    {
      "cell_type": "markdown",
      "metadata": {
        "id": "VtuC3Kk86YTU"
      },
      "source": [
        "結果が表示されたでしょうか？初のPython、おめでとうございます！非常に単純な計算ですが、これもれっきとしたPythonプログラムです。"
      ]
    },
    {
      "cell_type": "markdown",
      "metadata": {
        "id": "7BL-HUYv6e_9"
      },
      "source": [
        "### **エラーが出たら？**"
      ]
    },
    {
      "cell_type": "markdown",
      "metadata": {
        "id": "ne9iLDXCpOX9"
      },
      "source": [
        "\n",
        "\n",
        "もしかしたら、```2``` という結果が表示されずに、こんな画面が出てしまったかもしれません。\n",
        "\n",
        "![](https://www.python.jp/train/experience/expr-eval-error.png)"
      ]
    },
    {
      "cell_type": "code",
      "metadata": {
        "id": "vFJy54Vdv1kX"
      },
      "source": [
        "1＋1"
      ],
      "execution_count": null,
      "outputs": []
    },
    {
      "cell_type": "markdown",
      "metadata": {
        "id": "nmGZIY0A6afa"
      },
      "source": [
        "エラーメッセージはいろいろですが、間違ったPythonプログラムを実行すると、こういったエラーが表示されます。\n",
        "\n",
        "プログラムを入力する時は、以下の点に気をつけて、ちゃんと実行できるまで試してみてください。"
      ]
    },
    {
      "cell_type": "markdown",
      "metadata": {
        "id": "PAY7caAYq6as"
      },
      "source": [
        "\n",
        "\n",
        "**日本語入力はオフにする！**\n",
        "\n",
        "当分のあいだ、この講座では全角文字(文字幅が２文字分ある文字)は使いません。 半角の英数字(```'a'```、```'0'```) だけを使います。\n",
        "\n",
        "日本語入力は常にオフにして、全角のアルファベット ```'ａ'``` や数字 ```'０'``` などが紛れ込まないようにしましょう。\n",
        "\n",
        "とくに、全角の空白文字が紛れ込んでしまうと、見た目では半角の空白と区別がつきませんから、とてもわかりにくいエラーになってしまいます。全角文字は決して使わないように、くれぐれも気をつけてください。"
      ]
    },
    {
      "cell_type": "markdown",
      "metadata": {
        "id": "Tgb4qAcTq8kG"
      },
      "source": [
        "**余計な文字を追加しない！**\n",
        "\n",
        "この実習では、サンプルに書かれているとおりのプログラムを、まったく修正はせずに、そのままセルに打ち込んでください。\n",
        "\n",
        "Pythonはちょっと厳格なところがあるプログラミング言語で、余計なところで改行するだけでも機嫌を損ねてしまうことがあります。余計な苦労をしないためにも、最初はサンプルをそのまま、見た目通りに打ち込んで実行しましょう。\n",
        "\n",
        "もちろん、なれてきたら好きなように書いて大丈夫ですが、最初のうちは、どんな修正をしても大丈夫なのか、わからないと思います。"
      ]
    },
    {
      "cell_type": "markdown",
      "metadata": {
        "id": "c-fPdtsaq_QM"
      },
      "source": [
        "**コピペもOK！**\n",
        "\n",
        "最初のうちは、自分でプログラムを打ち込まなくとも、書かれているプログラムを選択・コピーして、セルにペーストして実行しても良いでしょう。\n",
        "\n",
        "この章の目的は、Pythonプログラムを実行する感覚を掴んでもらうことです。文字の打ち間違いで、あまり時間を浪費しないほうが良いでしょう。"
      ]
    },
    {
      "cell_type": "markdown",
      "metadata": {
        "id": "Xk5J40hn6kXu"
      },
      "source": [
        "## **コードセルとテキストセル**"
      ]
    },
    {
      "cell_type": "markdown",
      "metadata": {
        "id": "4HKc396GsXud"
      },
      "source": [
        "ノートブックのセルは、自由に追加できます。Pythonのプログラムを実行できる **「コードセル」** は、左上の ```＋コード``` というボタンをクリックして追加します。\n",
        "\n",
        "![](https://www.python.jp/train/experience/add_cell.png)"
      ]
    },
    {
      "cell_type": "markdown",
      "metadata": {
        "id": "cP3Uqet36m0f"
      },
      "source": [
        "```＋コード``` ボタンの隣には、**「テキストセル」** を追加する ```＋テキスト``` ボタンがあります。\n",
        "\n",
        "テキストセルは、Pythonを実行するのではなく、文章を書くためのセルです。Pythonの実行はできないので本講座では扱いませんが、勉強中のメモなどに活用してください。\n",
        "\n",
        "![](https://www.python.jp/train/experience/text-cell.png)"
      ]
    },
    {
      "cell_type": "markdown",
      "metadata": {
        "id": "CQ15d3SM6qQ9"
      },
      "source": [
        "## **ばえるPython**"
      ]
    },
    {
      "cell_type": "markdown",
      "metadata": {
        "id": "M74XwKxZswzp"
      },
      "source": [
        "```1+1``` の計算もりっぱなPythonプログラムですが、ちょっと地味ですね。もう見栄えのいいプログラムも実行してみましょう。\n",
        "\n",
        "```＋コード``` ボタンを押して新しいセルを追加し、次のプログラムを入力してください。ちょっと長いですから、プログラムを選択・コピーして、ノートブックのセルにペーストしたほうが良いでしょう。"
      ]
    },
    {
      "cell_type": "code",
      "metadata": {
        "id": "bVvYZdVYs4mn"
      },
      "source": [
        "import io\n",
        "import requests\n",
        "import PIL\n",
        " \n",
        "response = requests.get(\"https://www.python.jp/logo.png\")\n",
        "PIL.Image.open(io.BytesIO(response.content))"
      ],
      "execution_count": null,
      "outputs": []
    },
    {
      "cell_type": "markdown",
      "metadata": {
        "id": "Ee3wXN8as82P"
      },
      "source": [
        "\n",
        "入力したら、左側の ▶ を押すか、```Shift+Enter``` (シフトキーを押しながらEnterキー) を入力して、Pythonを実行します。\n",
        "\n",
        "![](https://www.python.jp/train/experience/show-python-logo.png)\n",
        "\n",
        "うまくいけば、このように当サイトのロゴが表示されるはずです。\n"
      ]
    },
    {
      "cell_type": "markdown",
      "metadata": {
        "id": "ikztZjIJ64SV"
      },
      "source": [
        "### **うまく行かないときは**"
      ]
    },
    {
      "cell_type": "markdown",
      "metadata": {
        "id": "EcqIg7PstGE5"
      },
      "source": [
        "エラーが出たり、画像が表示されないときには、落ち着いてもう一度プログラムを入力し直してみてください。入力にあたっては、[**エラーが出たら？**](https://colab.research.google.com/drive/18jDwq6VCifzSIYkIg5AepuvbkDfCr1fE#) を参考にしてください。"
      ]
    },
    {
      "cell_type": "markdown",
      "metadata": {
        "id": "myAAIp91tRtO"
      },
      "source": [
        "### **別の画像も表示してみましょう**"
      ]
    },
    {
      "cell_type": "markdown",
      "metadata": {
        "id": "ykR5_ULF657D"
      },
      "source": [
        "上のプログラムの、```https://www.python.jp/logo.png``` という部分を変更して、好きな画像を表示できます。たとえば、Wikipediaの [**こちらの画像**](https://ja.wikipedia.org/wiki/%E3%83%A1%E3%82%A4%E3%83%B3%E3%83%9A%E3%83%BC%E3%82%B8#/media/%E3%83%95%E3%82%A1%E3%82%A4%E3%83%AB:Japanese_Squirrel_WUXGA.jpg) をお借りして表示してみましょう。"
      ]
    },
    {
      "cell_type": "code",
      "metadata": {
        "id": "uddToWmptj_X"
      },
      "source": [
        "import io\n",
        "import requests\n",
        "import PIL\n",
        "\n",
        "response = requests.get(\"https://upload.wikimedia.org/wikipedia/commons/0/0c/Japanese_Squirrel_WUXGA.jpg\")\n",
        "PIL.Image.open(io.BytesIO(response.content))"
      ],
      "execution_count": null,
      "outputs": []
    },
    {
      "cell_type": "markdown",
      "metadata": {
        "id": "idsoUNIZtd1R"
      },
      "source": [
        "ちょっと長いですから、コピーしてからセルにペーストしてください。うまくいけば、こんな画面が表示されるはずです。\n",
        "\n",
        "![](https://www.python.jp/train/experience/show-image-2.png)\n"
      ]
    },
    {
      "cell_type": "markdown",
      "metadata": {
        "id": "GPqIQHF87Cmr"
      },
      "source": [
        "## **はたらくPython**"
      ]
    },
    {
      "cell_type": "markdown",
      "metadata": {
        "id": "WN3gy0oe7I3V"
      },
      "source": [
        "もうちょっと実用的というか、お仕事っぽいプログラムも書いてみましょう。\n",
        "\n",
        "次のプログラムは、かんたんな棒グラフを表示します。 プログラムを選択・コピーして、ノートブックのセルにペーストしたほうが良いでしょう。"
      ]
    },
    {
      "cell_type": "code",
      "metadata": {
        "id": "uDEAvOy_7PQJ"
      },
      "source": [
        "import matplotlib.pyplot as plt\n",
        "\n",
        "x_values = ['Jan', 'Feb', 'Mar', 'Apr', 'May', 'June']\n",
        "y_values = [100, 130, 80, 150, 140, 130]\n",
        "\n",
        "plt.bar(x_values, y_values)\n",
        "plt.plot()\n",
        "\n",
        "plt.show()"
      ],
      "execution_count": null,
      "outputs": []
    },
    {
      "cell_type": "markdown",
      "metadata": {
        "id": "HunSZJFI7jwj"
      },
      "source": [
        "入力したら、左側の ▶ を押すか、Shift+Enter (シフトキーを押しながらEnterキー) を入力して、Pythonを実行します。"
      ]
    },
    {
      "cell_type": "markdown",
      "metadata": {
        "id": "ZG_gFDm_7RQc"
      },
      "source": [
        "![](https://www.python.jp/train/experience/show-graph1.png)\n",
        "\n",
        "うまくいけば、このようにグラフが表示されるはずです。"
      ]
    },
    {
      "cell_type": "markdown",
      "metadata": {
        "id": "6HS4zn1n7Un6"
      },
      "source": [
        "### **うまく行かないときは**"
      ]
    },
    {
      "cell_type": "markdown",
      "metadata": {
        "id": "NEPYkxm17fbD"
      },
      "source": [
        "エラーが出たり、画像が表示されないときには、落ち着いてもう一度プログラムを入力し直してみてください。入力にあたっては、[**エラーが出たら？**](https://www.python.jp/train/experience/exec-python1.html#%E3%82%A8%E3%83%A9%E3%83%BC%E3%81%8C%E5%87%BA%E3%81%9F%E3%82%89%EF%BC%9F) を参考にしてください。"
      ]
    }
  ]
}